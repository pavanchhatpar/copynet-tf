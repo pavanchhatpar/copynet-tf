{
 "cells": [
  {
   "cell_type": "code",
   "execution_count": 1,
   "metadata": {},
   "outputs": [],
   "source": [
    "import os\n",
    "os.chdir(\"/tf/src/examples/greetings\")\n",
    "\n",
    "from greetings import Dataset\n",
    "import tensorflow as tf\n",
    "import numpy as np\n",
    "import logging\n",
    "from greetings import GreetingModel\n",
    "from greetings import cfg\n",
    "logging.basicConfig(\n",
    "        level=cfg.LOG_LVL,\n",
    "        filename=cfg.LOG_FILENAME,\n",
    "        format='%(message)s')"
   ]
  },
  {
   "cell_type": "code",
   "execution_count": 2,
   "metadata": {},
   "outputs": [],
   "source": [
    "data = Dataset()"
   ]
  },
  {
   "cell_type": "code",
   "execution_count": 3,
   "metadata": {},
   "outputs": [],
   "source": [
    "model = GreetingModel()"
   ]
  },
  {
   "cell_type": "code",
   "execution_count": 4,
   "metadata": {},
   "outputs": [],
   "source": [
    "RNG_SEED = 11\n",
    "to_gpu = tf.data.experimental.copy_to_device(\"/gpu:0\")\n",
    "train = data.train.shuffle(\n",
    "    buffer_size=10000, seed=RNG_SEED, reshuffle_each_iteration=False)\\\n",
    "    .batch(512).apply(to_gpu)\n",
    "val = data.test.batch(512).apply(to_gpu)\n",
    "with tf.device(\"/gpu:0\"):\n",
    "    train = train.prefetch(3)\n",
    "    val = val.prefetch(3)"
   ]
  },
  {
   "cell_type": "code",
   "execution_count": 5,
   "metadata": {},
   "outputs": [
    {
     "output_type": "stream",
     "name": "stdout",
     "text": "source idx from source vocab\n [[   2   24    6    5    1    1    3    0    0    0]\n [   2   22 2239    3    0    0    0    0    0    0]\n [   2   26   27    6    5 2042    4    3    0    0]]\n\nsource idx from target vocab\n [[2 1 1 1 1 1 3 0 0 0]\n [2 1 1 3 0 0 0 0 0 0]\n [2 1 1 1 1 1 1 3 0 0]]\n\ntarget idx from target vocab\n [[2 4 5 6 7 8 1 1 9 3]\n [2 4 5 6 7 8 1 9 3 0]\n [2 4 5 6 7 8 1 9 3 0]]\n\ntarget idx from source vocab\n [[   2    1    1    1    1    8    1    1    1    3]\n [   2    1    1    1    1    8 2239    1    3    0]\n [   2    1    1    1    1    8 2042    1    3    0]]\n"
    }
   ],
   "source": [
    "X, y = next(val.as_numpy_iterator())\n",
    "print(\"source idx from source vocab\\n\", X[0][:3])\n",
    "print(\"\\nsource idx from target vocab\\n\", X[1][:3])\n",
    "print(\"\\ntarget idx from target vocab\\n\", y[0][:3])\n",
    "print(\"\\ntarget idx from source vocab\\n\", y[1][:3])"
   ]
  },
  {
   "cell_type": "code",
   "execution_count": 6,
   "metadata": {},
   "outputs": [
    {
     "output_type": "stream",
     "name": "stderr",
     "text": "Epoch 1/5: 10it [00:29,  2.94s/it, train-loss=9.5871, train-bleu=0.685, train-bleu-smooth=0.685, val-loss=6.8009, val-bleu=0.813, val-bleu-smooth=0.813]\nEpoch 2/5: 10it [00:11,  1.17s/it, train-loss=0.9940, train-bleu=0.917, train-bleu-smooth=0.917, val-loss=7.7019, val-bleu=0.85, val-bleu-smooth=0.85]\nEpoch 3/5: 10it [00:11,  1.15s/it, train-loss=0.2673, train-bleu=0.984, train-bleu-smooth=0.984, val-loss=10.9774, val-bleu=0.94, val-bleu-smooth=0.94]\nEpoch 4/5: 10it [00:11,  1.17s/it, train-loss=0.0676, train-bleu=0.996, train-bleu-smooth=0.996, val-loss=13.2462, val-bleu=0.932, val-bleu-smooth=0.932]\nEpoch 5/5: 10it [00:11,  1.18s/it, train-loss=0.0340, train-bleu=0.998, train-bleu-smooth=0.998, val-loss=13.6505, val-bleu=0.928, val-bleu-smooth=0.928]\n"
    }
   ],
   "source": [
    "model.fit(train, cfg.EPOCHS, cfg.MODEL_SAVE, val)"
   ]
  },
  {
   "cell_type": "code",
   "execution_count": 10,
   "metadata": {},
   "outputs": [],
   "source": [
    "def idx2str(pred_y, X):\n",
    "    ret = []\n",
    "    vocab_len = model.vocab.get_vocab_size(\"target\")\n",
    "    for idx in pred_y:\n",
    "        if idx < vocab_len:\n",
    "            ret.append(model.vocab.get_token_text(idx, \"target\"))\n",
    "        else:\n",
    "            ret.append(model.vocab.get_token_text(X[idx-vocab_len], \"source\"))\n",
    "    return ret"
   ]
  },
  {
   "cell_type": "code",
   "execution_count": 11,
   "metadata": {},
   "outputs": [
    {
     "output_type": "stream",
     "name": "stdout",
     "text": "Source: <S> Hi there . It 's Nyla Wais . EOS\nTarget: <S> Nice to meet you , UNKNOWN UNKNOWN ! EOS\n\nPredicted: Nice to meet you , Nyla Wais ! EOS\tProba: 0.9990193843841553\nPredicted: Nice meet you , Nyla Wais ! EOS EOS\tProba: 0.0003403811133466661\nPredicted: Nice to meet , Nyla Wais ! EOS EOS\tProba: 0.00019790069200098515\nPredicted: Nice to meet you Nyla Wais ! EOS EOS\tProba: 0.0001568654115544632\nPredicted: to meet you , Nyla Wais ! EOS EOS\tProba: 7.89705227361992e-05\nPredicted: Nice to meet you , Nyla Wais Wais !\tProba: 6.864441820653155e-05\nPredicted: Nice to you , Nyla Wais ! EOS EOS\tProba: 3.161652057315223e-05\nPredicted: Nice to meet meet you , Nyla Wais !\tProba: 2.3224441974889487e-05\nPredicted: Nice to meet you you , Nyla Wais !\tProba: 1.4644455404777545e-05\nPredicted: Nice to meet you , Nyla Wais . !\tProba: 1.429650183126796e-05\n\nSource: <S> Its Roseann , actually . EOS PAD PAD PAD\nTarget: <S> Nice to meet you , Roseann ! EOS PAD\n\nPredicted: Nice to meet you , Roseann ! EOS EOS\tProba: 0.9939854741096497\nPredicted: Nice to meet you , Roseann , Roseann !\tProba: 0.0020828715059906244\nPredicted: Nice to meet you , Roseann , ! EOS\tProba: 0.001377347856760025\nPredicted: Nice to meet you , Roseann Nice EOS EOS\tProba: 0.0007358717266470194\nPredicted: Nice meet you , Roseann ! EOS EOS EOS\tProba: 0.00043709701276384294\nPredicted: Nice to meet you , Roseann Nice to meet\tProba: 0.0003924335178453475\nPredicted: Nice to meet you , Roseann Roseann ! EOS\tProba: 0.00012958237493876368\nPredicted: to meet you , Roseann ! EOS EOS EOS\tProba: 7.04478079569526e-05\nPredicted: Nice to meet you , Roseann , , Roseann\tProba: 6.85301492922008e-05\nPredicted: Nice to meet , Roseann ! EOS EOS EOS\tProba: 6.540433241752908e-05\n\nSource: <S> My friends call me Darrin Palsgrove EOS PAD PAD\nTarget: <S> Nice to meet you , UNKNOWN UNKNOWN ! EOS\n\nPredicted: Nice to meet you , Darrin Palsgrove ! EOS\tProba: 0.9900498390197754\nPredicted: Nice to meet you , Darrin ! EOS EOS\tProba: 0.009119720198214054\nPredicted: Nice meet you , Darrin Palsgrove ! EOS EOS\tProba: 0.00029709117370657623\nPredicted: to meet you , Darrin Palsgrove ! EOS EOS\tProba: 0.0001575197820784524\nPredicted: Nice to meet , Darrin Palsgrove ! EOS EOS\tProba: 0.0001414173311786726\nPredicted: Nice to meet you , me Palsgrove ! EOS\tProba: 5.523387517314404e-05\nPredicted: Nice to you , Darrin Palsgrove ! EOS EOS\tProba: 3.962828850490041e-05\nPredicted: Nice to meet you you , Darrin Palsgrove !\tProba: 1.918319503602106e-05\nPredicted: Nice to meet meet you , Darrin Palsgrove !\tProba: 1.7869791918201372e-05\nPredicted: Nice to meet you , Darrin Palsgrove Palsgrove !\tProba: 1.7172680600197054e-05\n\nSource: <S> Mona Mackaman is my name . EOS PAD PAD\nTarget: <S> Nice to meet you , UNKNOWN UNKNOWN ! EOS\n\nPredicted: Nice to meet you , Mona Mackaman ! EOS\tProba: 0.9506449699401855\nPredicted: Nice to meet you , Mona Mackaman Mackaman !\tProba: 0.04830681532621384\nPredicted: Nice meet you , Mona Mackaman ! EOS EOS\tProba: 0.000317026482662186\nPredicted: Nice to meet you Mona Mackaman ! EOS EOS\tProba: 0.00014529764303006232\nPredicted: Nice to meet you , Mona Mackaman is !\tProba: 0.00012770789908245206\nPredicted: to meet you , Mona Mackaman ! EOS EOS\tProba: 6.79156364640221e-05\nPredicted: Nice to meet , Mona Mackaman ! EOS EOS\tProba: 6.263690738705918e-05\nPredicted: Nice to you , Mona Mackaman ! EOS EOS\tProba: 5.350424180505797e-05\nPredicted: Nice to meet you you , Mona Mackaman !\tProba: 3.424330134293996e-05\nPredicted: Nice to meet you , Mona Mackaman Nice to\tProba: 2.9190101486165076e-05\n\nSource: <S> Its Jeanett Salamacha , actually . EOS PAD PAD\nTarget: <S> Nice to meet you , UNKNOWN UNKNOWN ! EOS\n\nPredicted: Nice to meet you , Jeanett Salamacha ! EOS\tProba: 0.5315793752670288\nPredicted: Nice to meet you , Jeanett ! EOS EOS\tProba: 0.4658600091934204\nPredicted: Nice to meet you , Its Salamacha ! EOS\tProba: 0.00043561181519180536\nPredicted: Nice to meet you , Jeanett , Salamacha !\tProba: 0.0004069450660608709\nPredicted: Nice meet you , Jeanett ! EOS EOS EOS\tProba: 0.00023756168957334012\nPredicted: Nice to meet you , Jeanett , Jeanett !\tProba: 0.00020390893041621894\nPredicted: Nice to meet you , Salamacha ! EOS EOS\tProba: 0.00014922024274710566\nPredicted: Nice meet you , Jeanett Salamacha ! EOS EOS\tProba: 0.0001468114205636084\nPredicted: Nice to meet you , Jeanett Jeanett ! EOS\tProba: 0.00010247436875943094\nPredicted: Nice to meet you , Jeanett Nice EOS EOS\tProba: 9.14127886062488e-05\n\nSource: <S> Its Arlyne Sanzone EOS PAD PAD PAD PAD PAD\nTarget: <S> Nice to meet you , UNKNOWN UNKNOWN ! EOS\n\nPredicted: Nice to meet you , Arlyne Sanzone ! EOS\tProba: 0.9983841180801392\nPredicted: Nice to meet you , Arlyne ! EOS EOS\tProba: 0.0006895377882756293\nPredicted: Nice meet you , Arlyne Sanzone ! EOS EOS\tProba: 0.000242351830820553\nPredicted: Nice to meet , Arlyne Sanzone ! EOS EOS\tProba: 0.00022346798505168408\nPredicted: Nice to meet you , Its Sanzone ! EOS\tProba: 0.00015047623310238123\nPredicted: to meet you , Arlyne Sanzone ! EOS EOS\tProba: 0.00011042335972888395\nPredicted: Nice to you , Arlyne Sanzone ! EOS EOS\tProba: 8.572438673581928e-05\nPredicted: Nice to to meet you , Arlyne Sanzone !\tProba: 1.7893684344016947e-05\nPredicted: Nice to meet you you , Arlyne Sanzone !\tProba: 1.6845460777403787e-05\nPredicted: Nice to meet meet you , Arlyne Sanzone !\tProba: 1.6118168787215836e-05\n\nSource: <S> It 's Larue EOS PAD PAD PAD PAD PAD\nTarget: <S> Nice to meet you , UNKNOWN ! EOS PAD\n\nPredicted: Nice to meet you , Larue ! EOS EOS\tProba: 0.9989929795265198\nPredicted: Nice meet you , Larue ! EOS EOS EOS\tProba: 0.0002730466949287802\nPredicted: to meet you , Larue ! EOS EOS EOS\tProba: 0.00018161546904593706\nPredicted: Nice to meet you , 's Larue ! EOS\tProba: 0.00015693590103182942\nPredicted: Nice to meet , Larue ! EOS EOS EOS\tProba: 6.737413059454411e-05\nPredicted: Nice to you , Larue ! EOS EOS EOS\tProba: 6.468650826718658e-05\nPredicted: Nice to meet you , Larue Larue ! EOS\tProba: 6.305861461441964e-05\nPredicted: Nice to meet you , Larue Nice EOS EOS\tProba: 4.020983396912925e-05\nPredicted: Nice to meet you you , Larue ! EOS\tProba: 3.8073463656473905e-05\nPredicted: Nice to meet you , 's ! EOS EOS\tProba: 2.5896386432577856e-05\n\nSource: <S> It 's Hue , actually . EOS PAD PAD\nTarget: <S> Nice to meet you , UNKNOWN ! EOS PAD\n\nPredicted: Nice to meet you , Hue ! EOS EOS\tProba: 0.98563551902771\nPredicted: Nice to meet you , Hue Hue ! EOS\tProba: 0.011173554696142673\nPredicted: Nice to meet you , Hue , Hue !\tProba: 0.0008209333172999322\nPredicted: Nice to meet you , 's Hue ! EOS\tProba: 0.0004957780474796891\nPredicted: Nice meet you , Hue ! EOS EOS EOS\tProba: 0.0003154293226543814\nPredicted: Nice to meet you , Hue EOS EOS EOS\tProba: 0.00026541075203567743\nPredicted: Nice to meet you , Hue Nice EOS EOS\tProba: 0.00021743141405750066\nPredicted: Nice to meet you , Hue <S> Nice to\tProba: 0.00020768988179042935\nPredicted: Nice to meet you , 's ! EOS EOS\tProba: 0.00011729433026630431\nPredicted: Nice to meet , Hue ! EOS EOS EOS\tProba: 6.598712207050994e-05\n\nSource: <S> Hey call me Jeanene Akhand . EOS PAD PAD\nTarget: <S> Nice to meet you , UNKNOWN UNKNOWN ! EOS\n\nPredicted: Nice to meet you , Jeanene Akhand ! EOS\tProba: 0.9991077184677124\nPredicted: Nice meet you , Jeanene Akhand ! EOS EOS\tProba: 0.00035863768425770104\nPredicted: Nice to meet , Jeanene Akhand ! EOS EOS\tProba: 0.0002003700501518324\nPredicted: to meet you , Jeanene Akhand ! EOS EOS\tProba: 0.00012360131950117648\nPredicted: Nice to meet you , Jeanene ! EOS EOS\tProba: 7.189888128777966e-05\nPredicted: Nice to you , Jeanene Akhand ! EOS EOS\tProba: 4.207361052976921e-05\nPredicted: Nice to meet you , Jeanene . ! EOS\tProba: 2.3288850570679642e-05\nPredicted: Nice to meet meet you , Jeanene Akhand !\tProba: 1.8651364371180534e-05\nPredicted: Nice to meet you you , Jeanene Akhand !\tProba: 1.452641845389735e-05\nPredicted: Nice to to meet you , Jeanene Akhand !\tProba: 1.1130994607810862e-05\n\nSource: <S> My name is Shad EOS PAD PAD PAD PAD\nTarget: <S> Nice to meet you , UNKNOWN ! EOS PAD\n\nPredicted: Nice to meet you , Shad ! EOS EOS\tProba: 0.9968681335449219\nPredicted: Nice to meet you , Shad Shad ! EOS\tProba: 0.001357430126518011\nPredicted: Nice to meet you , is Shad ! EOS\tProba: 0.0005676330765709281\nPredicted: Nice meet you , Shad ! EOS EOS EOS\tProba: 0.00040308834286406636\nPredicted: to meet you , Shad ! EOS EOS EOS\tProba: 0.0001569944288348779\nPredicted: Nice to meet you , Shad Nice EOS EOS\tProba: 9.699496877146885e-05\nPredicted: Nice to meet , Shad ! EOS EOS EOS\tProba: 7.402692426694557e-05\nPredicted: Nice to meet you , is ! EOS EOS\tProba: 7.295177056221291e-05\nPredicted: Nice to meet you , Shad EOS EOS EOS\tProba: 6.402337021427229e-05\nPredicted: Nice to meet you , Shad Nice to meet\tProba: 4.140650707995519e-05\n\n"
    }
   ],
   "source": [
    "pred, pred_proba = model.predict(train)\n",
    "for i, Xy in enumerate(train.unbatch().take(10)):\n",
    "    X, y = Xy\n",
    "    s = model.vocab.inverse_transform(X[0].numpy()[np.newaxis, :], \"source\")[0]\n",
    "    t = model.vocab.inverse_transform(y[0].numpy()[np.newaxis, :], \"target\")[0]\n",
    "    print(f\"Source: {' '.join(s)}\\nTarget: {' '.join(t)}\\n\")\n",
    "    for j in range(10):\n",
    "        p = idx2str(pred[i][j].numpy(), X[0].numpy())\n",
    "        print(f\"Predicted: {' '.join(p)}\\tProba: {tf.exp(pred_proba[i][j])}\")\n",
    "    print(\"\")"
   ]
  },
  {
   "cell_type": "code",
   "execution_count": 12,
   "metadata": {},
   "outputs": [
    {
     "output_type": "stream",
     "name": "stdout",
     "text": "Source: <S> Please call me UNKNOWN UNKNOWN EOS PAD PAD PAD\nTarget: <S> Nice to meet you , UNKNOWN UNKNOWN ! EOS\n\nPredicted: Nice to meet you , UNKNOWN UNKNOWN UNKNOWN !\tProba: 0.22575844824314117\nPredicted: Nice to meet you , UNKNOWN UNKNOWN EOS EOS\tProba: 0.22129006683826447\nPredicted: Nice to meet you , UNKNOWN UNKNOWN ! EOS\tProba: 0.19418850541114807\nPredicted: Nice to meet you , UNKNOWN UNKNOWN UNKNOWN EOS\tProba: 0.11693324893712997\nPredicted: Nice to meet you , UNKNOWN UNKNOWN UNKNOWN UNKNOWN\tProba: 0.0252889022231102\nPredicted: Nice to meet you , UNKNOWN UNKNOWN UNKNOWN you\tProba: 0.023651210591197014\nPredicted: Nice to meet you , UNKNOWN UNKNOWN UNKNOWN Nice\tProba: 0.015142795629799366\nPredicted: Nice to meet you , UNKNOWN UNKNOWN you ,\tProba: 0.011790573596954346\nPredicted: Nice to meet you , UNKNOWN UNKNOWN UNKNOWN meet\tProba: 0.011479678563773632\nPredicted: Nice to meet you , UNKNOWN UNKNOWN , UNKNOWN\tProba: 0.007812898606061935\n\nSource: <S> Its Albert EOS PAD PAD PAD PAD PAD PAD\nTarget: <S> Nice to meet you , UNKNOWN ! EOS PAD\n\nPredicted: Nice to meet you , Albert ! EOS EOS\tProba: 0.9989451766014099\nPredicted: Nice meet you , Albert ! EOS EOS EOS\tProba: 0.000289719901047647\nPredicted: Nice to meet you , Its ! EOS EOS\tProba: 0.0001500839862274006\nPredicted: to meet you , Albert ! EOS EOS EOS\tProba: 0.00012186948879389092\nPredicted: Nice to meet you , Albert Albert ! EOS\tProba: 0.00012184379738755524\nPredicted: Nice to you , Albert ! EOS EOS EOS\tProba: 7.43059572414495e-05\nPredicted: Nice to meet you you , Albert ! EOS\tProba: 6.157296593300998e-05\nPredicted: Nice to meet , Albert ! EOS EOS EOS\tProba: 4.9613187002250925e-05\nPredicted: Nice to meet you , Albert <S> Nice to\tProba: 3.729111631400883e-05\nPredicted: Nice to meet you , Its Albert ! EOS\tProba: 3.635827306425199e-05\n\nSource: <S> You can call me Tennille . EOS PAD PAD\nTarget: <S> Nice to meet you , UNKNOWN ! EOS PAD\n\nPredicted: Nice to meet you , Tennille ! EOS EOS\tProba: 0.9977173805236816\nPredicted: Nice to meet you , Tennille . ! EOS\tProba: 0.0007117687491700053\nPredicted: Nice meet you , Tennille ! EOS EOS EOS\tProba: 0.0003792179632000625\nPredicted: Nice to meet you , Tennille Tennille ! EOS\tProba: 0.0003230185538996011\nPredicted: Nice to meet you , Tennille Nice EOS EOS\tProba: 0.00017128296894952655\nPredicted: Nice to meet , Tennille ! EOS EOS EOS\tProba: 0.0001550641900394112\nPredicted: to meet you , Tennille ! EOS EOS EOS\tProba: 0.00010563685646047816\nPredicted: Nice to meet you , Tennille EOS EOS EOS\tProba: 7.786573405610397e-05\nPredicted: Nice to meet you , Tennille <S> Nice to\tProba: 6.641758227488026e-05\nPredicted: Nice to you , Tennille ! EOS EOS EOS\tProba: 4.434659058460966e-05\n\nSource: <S> Hi I 'm UNKNOWN UNKNOWN EOS PAD PAD PAD\nTarget: <S> Nice to meet you , UNKNOWN UNKNOWN ! EOS\n\nPredicted: Nice to meet you , UNKNOWN UNKNOWN EOS EOS\tProba: 0.42953699827194214\nPredicted: Nice to meet you , UNKNOWN UNKNOWN ! EOS\tProba: 0.1502203792333603\nPredicted: Nice to meet you , UNKNOWN UNKNOWN UNKNOWN EOS\tProba: 0.14677923917770386\nPredicted: Nice to meet you , UNKNOWN UNKNOWN UNKNOWN !\tProba: 0.110598124563694\nPredicted: Nice to meet you , UNKNOWN UNKNOWN UNKNOWN UNKNOWN\tProba: 0.011215254664421082\nPredicted: Nice to meet you , UNKNOWN UNKNOWN UNKNOWN you\tProba: 0.01077255979180336\nPredicted: Nice to meet you , UNKNOWN UNKNOWN you ,\tProba: 0.008223998360335827\nPredicted: Nice to meet you , UNKNOWN EOS EOS EOS\tProba: 0.008093103766441345\nPredicted: Nice to meet you , 'm UNKNOWN ! EOS\tProba: 0.006993302144110203\nPredicted: Nice to meet you , UNKNOWN UNKNOWN UNKNOWN meet\tProba: 0.006651151925325394\n\nSource: <S> Hi there . It 's UNKNOWN . EOS PAD\nTarget: <S> Nice to meet you , UNKNOWN ! EOS PAD\n\nPredicted: Nice to meet you , UNKNOWN UNKNOWN EOS EOS\tProba: 0.3832869529724121\nPredicted: Nice to meet you , UNKNOWN UNKNOWN ! EOS\tProba: 0.35224395990371704\nPredicted: Nice to meet you , 's UNKNOWN ! EOS\tProba: 0.05760941654443741\nPredicted: Nice to meet you , UNKNOWN UNKNOWN UNKNOWN !\tProba: 0.041033025830984116\nPredicted: Nice to meet you , 's ! EOS EOS\tProba: 0.02465156838297844\nPredicted: Nice to meet you , UNKNOWN UNKNOWN UNKNOWN EOS\tProba: 0.021571101620793343\nPredicted: Nice to meet you , UNKNOWN EOS EOS EOS\tProba: 0.0178871788084507\nPredicted: Nice to meet you , Hi UNKNOWN ! EOS\tProba: 0.015429683960974216\nPredicted: Nice to meet you , 's UNKNOWN EOS EOS\tProba: 0.011561684310436249\nPredicted: Nice to meet you , UNKNOWN ! EOS EOS\tProba: 0.006232892628759146\n\nSource: <S> My name is UNKNOWN . EOS PAD PAD PAD\nTarget: <S> Nice to meet you , UNKNOWN ! EOS PAD\n\nPredicted: Nice to meet you , UNKNOWN UNKNOWN ! EOS\tProba: 0.5235549211502075\nPredicted: Nice to meet you , UNKNOWN UNKNOWN EOS EOS\tProba: 0.25162267684936523\nPredicted: Nice to meet you , is ! EOS EOS\tProba: 0.05199471861124039\nPredicted: Nice to meet you , UNKNOWN UNKNOWN UNKNOWN !\tProba: 0.029065724462270737\nPredicted: Nice to meet you , UNKNOWN EOS EOS EOS\tProba: 0.020587662234902382\nPredicted: Nice to meet you , UNKNOWN ! EOS EOS\tProba: 0.015492149628698826\nPredicted: Nice to meet you , UNKNOWN UNKNOWN you ,\tProba: 0.01092035137116909\nPredicted: Nice to meet you , is UNKNOWN ! EOS\tProba: 0.009773255325853825\nPredicted: Nice to meet you , UNKNOWN UNKNOWN UNKNOWN EOS\tProba: 0.006532978266477585\nPredicted: Nice to meet you , UNKNOWN UNKNOWN Yuonne !\tProba: 0.003241425845772028\n\nSource: <S> My friends call me Debera UNKNOWN EOS PAD PAD\nTarget: <S> Nice to meet you , UNKNOWN UNKNOWN ! EOS\n\nPredicted: Nice to meet you , Debera UNKNOWN UNKNOWN EOS\tProba: 0.3333931863307953\nPredicted: Nice to meet you , Debera UNKNOWN EOS EOS\tProba: 0.20318585634231567\nPredicted: Nice to meet you , Debera UNKNOWN ! EOS\tProba: 0.20245949923992157\nPredicted: Nice to meet you , Debera UNKNOWN UNKNOWN !\tProba: 0.10754670947790146\nPredicted: Nice to meet you , Debera UNKNOWN UNKNOWN UNKNOWN\tProba: 0.04387906193733215\nPredicted: Nice to meet you , Debera UNKNOWN UNKNOWN meet\tProba: 0.024137847125530243\nPredicted: Nice to meet you , Debera UNKNOWN UNKNOWN you\tProba: 0.01660165749490261\nPredicted: Nice to meet you , Debera UNKNOWN UNKNOWN Nice\tProba: 0.007863077335059643\nPredicted: Nice to meet you , Debera UNKNOWN UNKNOWN to\tProba: 0.006970969028770924\nPredicted: Nice to meet you , Debera UNKNOWN UNKNOWN ,\tProba: 0.003169132862240076\n\nSource: <S> It 's Lucy , actually . EOS PAD PAD\nTarget: <S> Nice to meet you , UNKNOWN ! EOS PAD\n\nPredicted: Nice to meet you , Lucy ! EOS EOS\tProba: 0.9873647689819336\nPredicted: Nice to meet you , Lucy , Lucy !\tProba: 0.006773536559194326\nPredicted: Nice to meet you , Lucy , ! EOS\tProba: 0.0030741433147341013\nPredicted: Nice to meet you , Lucy , , Lucy\tProba: 0.0011378373019397259\nPredicted: Nice meet you , Lucy ! EOS EOS EOS\tProba: 0.0003818169643636793\nPredicted: Nice to meet you , Lucy actually ! EOS\tProba: 0.00018271063163410872\nPredicted: Nice to meet you , Lucy Lucy ! EOS\tProba: 0.00015156043809838593\nPredicted: Nice to meet you , Lucy Nice EOS EOS\tProba: 0.00012884424359072\nPredicted: Nice to meet you , Lucy , , !\tProba: 9.40721802180633e-05\nPredicted: Nice to meet you , Lucy , , ,\tProba: 8.864104893291369e-05\n\nSource: <S> Call me UNKNOWN EOS PAD PAD PAD PAD PAD\nTarget: <S> Nice to meet you , UNKNOWN ! EOS PAD\n\nPredicted: Nice to meet you , UNKNOWN UNKNOWN ! EOS\tProba: 0.4798499345779419\nPredicted: Nice to meet you , UNKNOWN UNKNOWN EOS EOS\tProba: 0.2328142374753952\nPredicted: Nice to meet you , UNKNOWN UNKNOWN UNKNOWN !\tProba: 0.05698949098587036\nPredicted: Nice to meet you , UNKNOWN UNKNOWN you ,\tProba: 0.01614220440387726\nPredicted: Nice to meet you , UNKNOWN UNKNOWN UNKNOWN EOS\tProba: 0.012748545035719872\nPredicted: Nice to meet you , UNKNOWN Call ! EOS\tProba: 0.01267745066434145\nPredicted: Nice to meet you , UNKNOWN EOS EOS EOS\tProba: 0.01052428875118494\nPredicted: Nice to meet you , UNKNOWN UNKNOWN Call !\tProba: 0.010494311340153217\nPredicted: Nice to meet you , UNKNOWN UNKNOWN <S> Nice\tProba: 0.008980383165180683\nPredicted: Nice to meet you , UNKNOWN UNKNOWN Nice to\tProba: 0.007795415818691254\n\nSource: <S> You can call me UNKNOWN EOS PAD PAD PAD\nTarget: <S> Nice to meet you , UNKNOWN ! EOS PAD\n\nPredicted: Nice to meet you , UNKNOWN UNKNOWN EOS EOS\tProba: 0.4487485885620117\nPredicted: Nice to meet you , UNKNOWN UNKNOWN ! EOS\tProba: 0.3605537414550781\nPredicted: Nice to meet you , UNKNOWN EOS EOS EOS\tProba: 0.029602766036987305\nPredicted: Nice to meet you , UNKNOWN UNKNOWN UNKNOWN !\tProba: 0.01963738165795803\nPredicted: Nice to meet you , UNKNOWN UNKNOWN you ,\tProba: 0.014350124634802341\nPredicted: Nice to meet you , UNKNOWN UNKNOWN UNKNOWN EOS\tProba: 0.011361068114638329\nPredicted: Nice to meet you , UNKNOWN ! EOS EOS\tProba: 0.009007599204778671\nPredicted: Nice to meet you , UNKNOWN UNKNOWN , UNKNOWN\tProba: 0.006787724327296019\nPredicted: Nice to meet you , me UNKNOWN ! EOS\tProba: 0.0055401320569217205\nPredicted: Nice to meet you , UNKNOWN UNKNOWN Nice to\tProba: 0.004709359258413315\n\n"
    }
   ],
   "source": [
    "pred, pred_proba = model.predict(val.unbatch().take(50).batch(5))\n",
    "for i, Xy in enumerate(val.unbatch().take(10)):\n",
    "    X, y = Xy\n",
    "    s = model.vocab.inverse_transform(X[0].numpy()[np.newaxis, :], \"source\")[0]\n",
    "    t = model.vocab.inverse_transform(y[0].numpy()[np.newaxis, :], \"target\")[0]\n",
    "    print(f\"Source: {' '.join(s)}\\nTarget: {' '.join(t)}\\n\")\n",
    "    for j in range(10):\n",
    "        p = idx2str(pred[i][j].numpy(), X[0].numpy())\n",
    "        print(f\"Predicted: {' '.join(p)}\\tProba: {tf.exp(pred_proba[i][j])}\")\n",
    "    print(\"\")"
   ]
  }
 ],
 "metadata": {
  "language_info": {
   "codemirror_mode": {
    "name": "ipython",
    "version": 3
   },
   "file_extension": ".py",
   "mimetype": "text/x-python",
   "name": "python",
   "nbconvert_exporter": "python",
   "pygments_lexer": "ipython3",
   "version": "3.6.9-final"
  },
  "orig_nbformat": 2,
  "kernelspec": {
   "name": "python3",
   "display_name": "Python 3"
  }
 },
 "nbformat": 4,
 "nbformat_minor": 2
}
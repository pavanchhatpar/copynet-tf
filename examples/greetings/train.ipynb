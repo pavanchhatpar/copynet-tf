{
 "cells": [
  {
   "cell_type": "code",
   "execution_count": 1,
   "metadata": {},
   "outputs": [],
   "source": [
    "import os\n",
    "os.chdir(\"/tf/src/examples/greetings\")\n",
    "\n",
    "from greetings import Dataset\n",
    "import tensorflow as tf\n",
    "import numpy as np\n",
    "import logging\n",
    "from greetings import GreetingModel\n",
    "from greetings import cfg\n",
    "logging.basicConfig(\n",
    "        level=cfg.LOG_LVL,\n",
    "        filename=cfg.LOG_FILENAME,\n",
    "        format='%(message)s')"
   ]
  },
  {
   "cell_type": "code",
   "execution_count": 2,
   "metadata": {},
   "outputs": [],
   "source": [
    "data = Dataset()"
   ]
  },
  {
   "cell_type": "code",
   "execution_count": 3,
   "metadata": {},
   "outputs": [],
   "source": [
    "model = GreetingModel()"
   ]
  },
  {
   "cell_type": "code",
   "execution_count": 4,
   "metadata": {},
   "outputs": [],
   "source": [
    "RNG_SEED = 11\n",
    "to_gpu = tf.data.experimental.copy_to_device(\"/gpu:0\")\n",
    "train = data.train.shuffle(\n",
    "    buffer_size=10000, seed=RNG_SEED, reshuffle_each_iteration=False)\\\n",
    "    .batch(128).apply(to_gpu)\n",
    "val = data.test.batch(128).apply(to_gpu)\n",
    "with tf.device(\"/gpu:0\"):\n",
    "    train = train.prefetch(3)\n",
    "    val = val.prefetch(3)"
   ]
  },
  {
   "cell_type": "code",
   "execution_count": 5,
   "metadata": {},
   "outputs": [
    {
     "output_type": "stream",
     "name": "stdout",
     "text": "source idx from source vocab\n [[   2   24    6    5    1    1    3    0    0    0]\n [   2   22 2239    3    0    0    0    0    0    0]\n [   2   26   27    6    5 2042    4    3    0    0]]\n\nsource idx from target vocab\n [[2 1 1 1 1 1 3 0 0 0]\n [2 1 1 3 0 0 0 0 0 0]\n [2 1 1 1 1 1 1 3 0 0]]\n\ntarget idx from target vocab\n [[2 4 5 6 7 8 1 1 9 3]\n [2 4 5 6 7 8 1 9 3 0]\n [2 4 5 6 7 8 1 9 3 0]]\n\ntarget idx from source vocab\n [[   2    1    1    1    1    8    1    1    1    3]\n [   2    1    1    1    1    8 2239    1    3    0]\n [   2    1    1    1    1    8 2042    1    3    0]]\n"
    }
   ],
   "source": [
    "X, y = next(val.as_numpy_iterator())\n",
    "print(\"source idx from source vocab\\n\", X[0][:3])\n",
    "print(\"\\nsource idx from target vocab\\n\", X[1][:3])\n",
    "print(\"\\ntarget idx from target vocab\\n\", y[0][:3])\n",
    "print(\"\\ntarget idx from source vocab\\n\", y[1][:3])"
   ]
  },
  {
   "cell_type": "code",
   "execution_count": 6,
   "metadata": {},
   "outputs": [
    {
     "output_type": "stream",
     "name": "stderr",
     "text": "Epoch 1/5: 40it [00:25,  1.56it/s, train-loss=2.5483, train-bleu=0.897, train-bleu-smooth=0.897, val-loss=10.0835, val-bleu=0.94, val-bleu-smooth=0.94]\nEpoch 2/5: 40it [00:07,  5.09it/s, train-loss=0.0240, train-bleu=0.999, train-bleu-smooth=0.999, val-loss=11.1784, val-bleu=0.976, val-bleu-smooth=0.976]\nEpoch 3/5: 40it [00:07,  5.13it/s, train-loss=0.0091, train-bleu=1, train-bleu-smooth=1, val-loss=11.9602, val-bleu=0.97, val-bleu-smooth=0.97]\nEpoch 4/5: 40it [00:07,  5.19it/s, train-loss=0.0035, train-bleu=1, train-bleu-smooth=1, val-loss=12.1264, val-bleu=0.991, val-bleu-smooth=0.991]\nEpoch 5/5: 40it [00:07,  5.19it/s, train-loss=0.0018, train-bleu=1, train-bleu-smooth=1, val-loss=12.3812, val-bleu=0.999, val-bleu-smooth=0.999]\n"
    }
   ],
   "source": [
    "model.fit(train, cfg.EPOCHS, cfg.MODEL_SAVE, val)"
   ]
  },
  {
   "cell_type": "code",
   "execution_count": 10,
   "metadata": {},
   "outputs": [],
   "source": [
    "def idx2str(pred_y, X):\n",
    "    ret = []\n",
    "    vocab_len = model.vocab.get_vocab_size(\"target\")\n",
    "    for idx in pred_y:\n",
    "        if idx < vocab_len:\n",
    "            ret.append(model.vocab.get_token_text(idx, \"target\"))\n",
    "        else:\n",
    "            ret.append(model.vocab.get_token_text(X[idx-vocab_len], \"source\"))\n",
    "    return ret"
   ]
  },
  {
   "cell_type": "code",
   "execution_count": 11,
   "metadata": {},
   "outputs": [
    {
     "output_type": "stream",
     "name": "stdout",
     "text": "Source: <S> Hi there . It 's Nyla Wais . EOS\nTarget: <S> Nice to meet you , UNKNOWN UNKNOWN ! EOS\n\nPredicted: Nice to meet you , Nyla Wais ! EOS\tProba: -0.001263560843653977\nPredicted: Nice to meet you Nyla Wais ! EOS EOS\tProba: -6.898665904998779\nPredicted: Nice to meet , Nyla Wais ! EOS EOS\tProba: -9.572776794433594\n\nSource: <S> Its Roseann , actually . EOS PAD PAD PAD\nTarget: <S> Nice to meet you , Roseann ! EOS PAD\n\nPredicted: Nice to meet you , Roseann ! EOS EOS\tProba: -0.00297151948325336\nPredicted: Nice to meet you , Roseann ! EOS !\tProba: -6.465734481811523\nPredicted: Nice to meet you , Roseann ! EOS ,\tProba: -8.400186538696289\n\nSource: <S> My friends call me Darrin Palsgrove EOS PAD PAD\nTarget: <S> Nice to meet you , UNKNOWN UNKNOWN ! EOS\n\nPredicted: Nice to meet you , Darrin Palsgrove ! EOS\tProba: -0.0003844376187771559\nPredicted: Nice to meet you , Darrin ! EOS EOS\tProba: -9.637002944946289\nPredicted: Nice to meet , Darrin Palsgrove ! EOS EOS\tProba: -9.655153274536133\n\nSource: <S> Mona Mackaman is my name . EOS PAD PAD\nTarget: <S> Nice to meet you , UNKNOWN UNKNOWN ! EOS\n\nPredicted: Nice to meet you , Mona Mackaman ! EOS\tProba: -0.001005716621875763\nPredicted: Nice to meet you , Mona Mackaman is !\tProba: -7.922534942626953\nPredicted: Nice to meet you Mona Mackaman ! EOS EOS\tProba: -8.124421119689941\n\nSource: <S> Its Jeanett Salamacha , actually . EOS PAD PAD\nTarget: <S> Nice to meet you , UNKNOWN UNKNOWN ! EOS\n\nPredicted: Nice to meet you , Jeanett Salamacha ! EOS\tProba: -0.0013990910956636071\nPredicted: Nice to meet you , Jeanett ! EOS EOS\tProba: -7.052700042724609\nPredicted: Nice to meet you , Jeanett Salamacha Salamacha !\tProba: -8.148694038391113\n\nSource: <S> Its Arlyne Sanzone EOS PAD PAD PAD PAD PAD\nTarget: <S> Nice to meet you , UNKNOWN UNKNOWN ! EOS\n\nPredicted: Nice to meet you , Arlyne Sanzone ! EOS\tProba: -0.00032375840237364173\nPredicted: Nice to you , Arlyne Sanzone ! EOS EOS\tProba: -9.151050567626953\nPredicted: Nice to meet , Arlyne Sanzone ! EOS EOS\tProba: -9.912970542907715\n\nSource: <S> It 's Larue EOS PAD PAD PAD PAD PAD\nTarget: <S> Nice to meet you , UNKNOWN ! EOS PAD\n\nPredicted: Nice to meet you , Larue ! EOS EOS\tProba: -0.000846115464810282\nPredicted: Nice to meet you , Larue ! EOS !\tProba: -8.140782356262207\nPredicted: Nice to meet you , Larue ! EOS ,\tProba: -9.081483840942383\n\nSource: <S> It 's Hue , actually . EOS PAD PAD\nTarget: <S> Nice to meet you , UNKNOWN ! EOS PAD\n\nPredicted: Nice to meet you , Hue ! EOS EOS\tProba: -0.002204380463808775\nPredicted: Nice to meet you , Hue Hue ! EOS\tProba: -6.568763256072998\nPredicted: Nice to meet you , Hue ! EOS !\tProba: -8.347491264343262\n\nSource: <S> Hey call me Jeanene Akhand . EOS PAD PAD\nTarget: <S> Nice to meet you , UNKNOWN UNKNOWN ! EOS\n\nPredicted: Nice to meet you , Jeanene Akhand ! EOS\tProba: -0.0003099335008300841\nPredicted: Nice to meet , Jeanene Akhand ! EOS EOS\tProba: -9.759126663208008\nPredicted: Nice to meet you Jeanene Akhand ! EOS EOS\tProba: -9.796294212341309\n\nSource: <S> My name is Shad EOS PAD PAD PAD PAD\nTarget: <S> Nice to meet you , UNKNOWN ! EOS PAD\n\nPredicted: Nice to meet you , Shad ! EOS EOS\tProba: -0.001331627368927002\nPredicted: Nice to meet you , Shad ! EOS !\tProba: -7.683920383453369\nPredicted: Nice to meet you , Shad Shad ! EOS\tProba: -8.898792266845703\n\n"
    }
   ],
   "source": [
    "pred, pred_proba = model.predict(train)\n",
    "for i, Xy in enumerate(train.unbatch().take(10)):\n",
    "    X, y = Xy\n",
    "    s = model.vocab.inverse_transform(X[0].numpy()[np.newaxis, :], \"source\")[0]\n",
    "    t = model.vocab.inverse_transform(y[0].numpy()[np.newaxis, :], \"target\")[0]\n",
    "    print(f\"Source: {' '.join(s)}\\nTarget: {' '.join(t)}\\n\")\n",
    "    for j in range(3):\n",
    "        p = idx2str(pred[i][j].numpy(), X[0].numpy())\n",
    "        print(f\"Predicted: {' '.join(p)}\\tProba: {pred_proba[i][j]}\")\n",
    "    print(\"\")"
   ]
  },
  {
   "cell_type": "code",
   "execution_count": 12,
   "metadata": {},
   "outputs": [
    {
     "output_type": "stream",
     "name": "stdout",
     "text": "Source: <S> Please call me UNKNOWN UNKNOWN EOS PAD PAD PAD\nTarget: <S> Nice to meet you , UNKNOWN UNKNOWN ! EOS\n\nPredicted: Nice to meet you , UNKNOWN UNKNOWN ! EOS\tProba: -0.04744230955839157\nPredicted: Nice to meet you , UNKNOWN ! EOS EOS\tProba: -3.6490304470062256\nPredicted: Nice to meet you , me UNKNOWN ! EOS\tProba: -3.9467403888702393\n\nSource: <S> Its Albert EOS PAD PAD PAD PAD PAD PAD\nTarget: <S> Nice to meet you , UNKNOWN ! EOS PAD\n\nPredicted: Nice to meet you , Albert ! EOS EOS\tProba: -0.0012906715273857117\nPredicted: Nice to meet you , Albert ! EOS !\tProba: -7.297268867492676\nPredicted: Nice to meet you , Albert ! EOS ,\tProba: -9.085673332214355\n\nSource: <S> You can call me Tennille . EOS PAD PAD\nTarget: <S> Nice to meet you , UNKNOWN ! EOS PAD\n\nPredicted: Nice to meet you , Tennille ! EOS EOS\tProba: -0.0012629377888515592\nPredicted: Nice to meet you , Tennille Tennille ! EOS\tProba: -7.73637056350708\nPredicted: Nice to meet you , Tennille . ! EOS\tProba: -7.7923712730407715\n\nSource: <S> Hi I 'm UNKNOWN UNKNOWN EOS PAD PAD PAD\nTarget: <S> Nice to meet you , UNKNOWN UNKNOWN ! EOS\n\nPredicted: Nice to meet you , UNKNOWN UNKNOWN ! EOS\tProba: -0.22050122916698456\nPredicted: Nice to meet you , 'm UNKNOWN ! EOS\tProba: -1.8138666152954102\nPredicted: Nice to meet you , Hi UNKNOWN ! EOS\tProba: -4.120811462402344\n\nSource: <S> Hi there . It 's UNKNOWN . EOS PAD\nTarget: <S> Nice to meet you , UNKNOWN ! EOS PAD\n\nPredicted: Nice to meet you , UNKNOWN ! EOS EOS\tProba: -0.1473681926727295\nPredicted: Nice to meet you , 's UNKNOWN ! EOS\tProba: -2.3075122833251953\nPredicted: Nice to meet you , Hi UNKNOWN ! EOS\tProba: -3.6226162910461426\n\nSource: <S> My name is UNKNOWN . EOS PAD PAD PAD\nTarget: <S> Nice to meet you , UNKNOWN ! EOS PAD\n\nPredicted: Nice to meet you , UNKNOWN ! EOS EOS\tProba: -0.118988536298275\nPredicted: Nice to meet you , is UNKNOWN ! EOS\tProba: -3.1508889198303223\nPredicted: Nice to meet you , My UNKNOWN ! EOS\tProba: -3.8982555866241455\n\nSource: <S> My friends call me Debera UNKNOWN EOS PAD PAD\nTarget: <S> Nice to meet you , UNKNOWN UNKNOWN ! EOS\n\nPredicted: Nice to meet you , Debera UNKNOWN ! EOS\tProba: -0.00040350441122427583\nPredicted: Nice to meet you , Debera UNKNOWN UNKNOWN !\tProba: -8.888882637023926\nPredicted: Nice to you , Debera UNKNOWN ! EOS EOS\tProba: -9.55148696899414\n\nSource: <S> It 's Lucy , actually . EOS PAD PAD\nTarget: <S> Nice to meet you , UNKNOWN ! EOS PAD\n\nPredicted: Nice to meet you , Lucy ! EOS EOS\tProba: -0.0006660782964900136\nPredicted: Nice to meet you , Lucy , Lucy !\tProba: -8.426875114440918\nPredicted: Nice to meet you , Lucy ! EOS !\tProba: -9.0285005569458\n\nSource: <S> Call me UNKNOWN EOS PAD PAD PAD PAD PAD\nTarget: <S> Nice to meet you , UNKNOWN ! EOS PAD\n\nPredicted: Nice to meet you , UNKNOWN ! EOS EOS\tProba: -0.6195360422134399\nPredicted: Nice to meet you , Call UNKNOWN ! EOS\tProba: -1.0893279314041138\nPredicted: Nice to meet you , me UNKNOWN ! EOS\tProba: -2.4262211322784424\n\nSource: <S> You can call me UNKNOWN EOS PAD PAD PAD\nTarget: <S> Nice to meet you , UNKNOWN ! EOS PAD\n\nPredicted: Nice to meet you , UNKNOWN ! EOS EOS\tProba: -0.13066428899765015\nPredicted: Nice to meet you , me UNKNOWN ! EOS\tProba: -2.2726588249206543\nPredicted: Nice to meet you , UNKNOWN UNKNOWN ! EOS\tProba: -4.636549949645996\n\n"
    }
   ],
   "source": [
    "pred, pred_proba = model.predict(val.unbatch().take(50).batch(5))\n",
    "for i, Xy in enumerate(val.unbatch().take(10)):\n",
    "    X, y = Xy\n",
    "    s = model.vocab.inverse_transform(X[0].numpy()[np.newaxis, :], \"source\")[0]\n",
    "    t = model.vocab.inverse_transform(y[0].numpy()[np.newaxis, :], \"target\")[0]\n",
    "    print(f\"Source: {' '.join(s)}\\nTarget: {' '.join(t)}\\n\")\n",
    "    for j in range(3):\n",
    "        p = idx2str(pred[i][j].numpy(), X[0].numpy())\n",
    "        print(f\"Predicted: {' '.join(p)}\\tProba: {pred_proba[i][j]}\")\n",
    "    print(\"\")"
   ]
  }
 ],
 "metadata": {
  "language_info": {
   "codemirror_mode": {
    "name": "ipython",
    "version": 3
   },
   "file_extension": ".py",
   "mimetype": "text/x-python",
   "name": "python",
   "nbconvert_exporter": "python",
   "pygments_lexer": "ipython3",
   "version": "3.6.9-final"
  },
  "orig_nbformat": 2,
  "kernelspec": {
   "name": "python3",
   "display_name": "Python 3"
  }
 },
 "nbformat": 4,
 "nbformat_minor": 2
}
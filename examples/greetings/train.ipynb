{
 "cells": [
  {
   "cell_type": "code",
   "execution_count": 1,
   "metadata": {},
   "outputs": [],
   "source": [
    "import os\n",
    "os.chdir(\"/tf/src/examples/greetings\")\n",
    "\n",
    "from greetings import Dataset\n",
    "import tensorflow as tf\n",
    "import numpy as np\n",
    "import logging\n",
    "from greetings import GreetingModel, cfg\n",
    "from copynet_tf.loss import CopyNetLoss\n",
    "from copynet_tf.metrics import BLEU\n",
    "logging.basicConfig(\n",
    "        level=cfg.LOG_LVL,\n",
    "        filename=cfg.LOG_FILENAME,\n",
    "        format='%(message)s')"
   ]
  },
  {
   "cell_type": "code",
   "execution_count": 2,
   "metadata": {},
   "outputs": [],
   "source": [
    "data = Dataset()"
   ]
  },
  {
   "cell_type": "code",
   "execution_count": 3,
   "metadata": {},
   "outputs": [],
   "source": [
    "model = GreetingModel()"
   ]
  },
  {
   "cell_type": "code",
   "execution_count": 4,
   "metadata": {},
   "outputs": [],
   "source": [
    "RNG_SEED = 11\n",
    "to_gpu = tf.data.experimental.copy_to_device(\"/gpu:0\")\n",
    "data = data.train.shuffle(\n",
    "    buffer_size=10000, seed=RNG_SEED, reshuffle_each_iteration=False)\n",
    "train = data.skip(512).batch(512, drop_remainder=True).apply(to_gpu)\n",
    "val = data.take(512).batch(512, drop_remainder=True).apply(to_gpu)\n",
    "with tf.device(\"/gpu:0\"):\n",
    "    train = train.prefetch(3)\n",
    "    val = val.prefetch(3)"
   ]
  },
  {
   "cell_type": "code",
   "execution_count": 5,
   "metadata": {},
   "outputs": [
    {
     "output_type": "stream",
     "name": "stdout",
     "text": "source idx from source vocab\n [[   2   11   29    4   15    7 2723  773    4    3]\n [   2   22   75    8   14    4    3    0    0    0]\n [   2   18   28    6    5  232 4784    3    0    0]]\n\nsource idx from target vocab\n [[ 2  1  1  1  1  1  1  1  1  3]\n [ 2  1 54  8  1  1  3  0  0  0]\n [ 2  1  1  1  1  1  1  3  0  0]]\n\ntarget idx from target vocab\n [[ 2  4  5  6  7  8  1  1  9  3]\n [ 2  4  5  6  7  8 54  9  3  0]\n [ 2  4  5  6  7  8  1  1  9  3]]\n\ntarget idx from source vocab\n [[   2    1    1    1    1    8 2723  773    1    3]\n [   2    1    1    1    1    8   75    1    3    0]\n [   2    1    1    1    1    8  232 4784    1    3]]\n"
    }
   ],
   "source": [
    "X, y = next(val.as_numpy_iterator())\n",
    "print(\"source idx from source vocab\\n\", X[0][:3])\n",
    "print(\"\\nsource idx from target vocab\\n\", X[1][:3])\n",
    "print(\"\\ntarget idx from target vocab\\n\", y[0][:3])\n",
    "print(\"\\ntarget idx from source vocab\\n\", y[1][:3])"
   ]
  },
  {
   "cell_type": "code",
   "execution_count": 6,
   "metadata": {},
   "outputs": [],
   "source": [
    "model.compile(\n",
    "    optimizer=tf.keras.optimizers.Adam(1e-3, clipnorm=cfg.CLIP_NORM),\n",
    "    loss=CopyNetLoss(),\n",
    "    metrics=[\n",
    "        BLEU(ignore_tokens=[0,2,3], ignore_all_tokens_after=3),\n",
    "        BLEU(ignore_tokens=[0,2,3], ignore_all_tokens_after=3, name='bleu-smooth', smooth=True)])"
   ]
  },
  {
   "cell_type": "code",
   "execution_count": 7,
   "metadata": {},
   "outputs": [
    {
     "output_type": "stream",
     "name": "stdout",
     "text": "Epoch 1/5\n8/8 [==============================] - 5s 684ms/step - loss: 1.2604 - bleu: 0.5563 - bleu-smooth: 0.5563 - val_loss: 0.2107 - val_bleu: 0.8114 - val_bleu-smooth: 0.8115\nEpoch 2/5\n8/8 [==============================] - 4s 479ms/step - loss: 0.1467 - bleu: 0.8520 - bleu-smooth: 0.8520 - val_loss: 0.0772 - val_bleu: 0.9376 - val_bleu-smooth: 0.9376\nEpoch 3/5\n8/8 [==============================] - 4s 474ms/step - loss: 0.0471 - bleu: 0.9631 - bleu-smooth: 0.9631 - val_loss: 0.0224 - val_bleu: 0.9855 - val_bleu-smooth: 0.9855\nEpoch 4/5\n8/8 [==============================] - 4s 474ms/step - loss: 0.0133 - bleu: 0.9934 - bleu-smooth: 0.9934 - val_loss: 0.0101 - val_bleu: 0.9889 - val_bleu-smooth: 0.9889\nEpoch 5/5\n8/8 [==============================] - 4s 478ms/step - loss: 0.0051 - bleu: 0.9974 - bleu-smooth: 0.9974 - val_loss: 0.0051 - val_bleu: 0.9966 - val_bleu-smooth: 0.9966\n"
    }
   ],
   "source": [
    "ckpt = tf.keras.callbacks.ModelCheckpoint(cfg.MODEL_SAVE+\"/{epoch:02d}.tf\", monitor='val_bleu', save_weights_only=True)\n",
    "hist = model.fit(train, epochs=5, validation_data=val, shuffle=False, callbacks=[ckpt])"
   ]
  },
  {
   "cell_type": "code",
   "execution_count": 8,
   "metadata": {},
   "outputs": [],
   "source": [
    "def idx2str(pred_y, X):\n",
    "    ret = []\n",
    "    vocab_len = model.vocab.get_vocab_size(\"target\")\n",
    "    for idx in pred_y:\n",
    "        if idx < vocab_len:\n",
    "            ret.append(model.vocab.get_token_text(idx, \"target\"))\n",
    "        else:\n",
    "            ret.append(model.vocab.get_token_text(X[idx-vocab_len], \"source\"))\n",
    "    return ret"
   ]
  },
  {
   "cell_type": "code",
   "execution_count": 9,
   "metadata": {},
   "outputs": [
    {
     "output_type": "stream",
     "name": "stdout",
     "text": "Source: <S> Call me Alma Poole EOS PAD PAD PAD PAD\nTarget: <S> Nice to meet you , UNKNOWN UNKNOWN ! EOS\n\nPredicted: Nice to meet you , Alma Poole ! EOS\tProba: 0.9986456036567688\nPredicted: Nice to meet you , Alma ! EOS EOS\tProba: 0.00032091891625896096\nPredicted: Nice to meet , Alma Poole ! EOS EOS\tProba: 0.00024326627317350358\nPredicted: to meet you , Alma Poole ! EOS EOS\tProba: 0.00016099664208013564\nPredicted: Nice to meet you Alma Poole ! EOS EOS\tProba: 0.00015887137851677835\nPredicted: Nice to you , Alma Poole ! EOS EOS\tProba: 0.00014189528883434832\nPredicted: Nice to meet meet you , Alma Poole !\tProba: 6.30374561296776e-05\nPredicted: Nice to to meet you , Alma Poole !\tProba: 5.987837357679382e-05\nPredicted: Nice to meet you , Alma Poole Nice to\tProba: 5.6703443988226354e-05\nPredicted: Nice meet you , Alma Poole ! EOS EOS\tProba: 4.0978316974360496e-05\n\nSource: <S> My friends call me Nathanael EOS PAD PAD PAD\nTarget: <S> Nice to meet you , UNKNOWN ! EOS PAD\n\nPredicted: Nice to meet you , Nathanael ! EOS EOS\tProba: 0.99244225025177\nPredicted: Nice to meet you , me Nathanael ! EOS\tProba: 0.005487289745360613\nPredicted: Nice to meet you , Nathanael Nathanael ! EOS\tProba: 0.0007458689506165683\nPredicted: to meet you , Nathanael ! EOS EOS EOS\tProba: 0.00021099996229168028\nPredicted: Nice to meet you , Nathanael Nice to meet\tProba: 0.00017484855197835714\nPredicted: Nice to you , Nathanael ! EOS EOS EOS\tProba: 0.00016865947691258043\nPredicted: Nice to meet , Nathanael ! EOS EOS EOS\tProba: 0.00016771875380072743\nPredicted: Nice to meet you , Nathanael EOS EOS EOS\tProba: 0.0001158434824901633\nPredicted: Nice meet you , Nathanael ! EOS EOS EOS\tProba: 5.766492904513143e-05\nPredicted: Nice to meet you , Nathanael Yuonne ! EOS\tProba: 4.55877925560344e-05\n\nSource: <S> Please call me Devora Jamgochian . EOS PAD PAD\nTarget: <S> Nice to meet you , UNKNOWN UNKNOWN ! EOS\n\nPredicted: Nice to meet you , Devora Jamgochian ! EOS\tProba: 0.9988299608230591\nPredicted: Nice to meet , Devora Jamgochian ! EOS EOS\tProba: 0.0002570494543761015\nPredicted: Nice to you , Devora Jamgochian ! EOS EOS\tProba: 0.00025335478130728006\nPredicted: to meet you , Devora Jamgochian ! EOS EOS\tProba: 0.00015418900875374675\nPredicted: Nice to to meet you , Devora Jamgochian !\tProba: 0.00010601308895274997\nPredicted: Nice to meet you , me Jamgochian ! EOS\tProba: 8.29823111416772e-05\nPredicted: Nice to meet you , Devora Jamgochian Jamgochian !\tProba: 8.159255230566487e-05\nPredicted: Nice to meet you , Devora ! EOS EOS\tProba: 4.692822403740138e-05\nPredicted: Nice to meet meet you , Devora Jamgochian !\tProba: 4.6540073526557535e-05\nPredicted: Nice to meet you , Devora . ! EOS\tProba: 3.944248965126462e-05\n\nSource: <S> My name is Elda Ackland EOS PAD PAD PAD\nTarget: <S> Nice to meet you , UNKNOWN UNKNOWN ! EOS\n\nPredicted: Nice to meet you , Elda Ackland ! EOS\tProba: 0.9982385039329529\nPredicted: Nice to meet you Elda Ackland ! EOS EOS\tProba: 0.0004887375398539007\nPredicted: Nice to you , Elda Ackland ! EOS EOS\tProba: 0.00035693892277777195\nPredicted: Nice to meet you , Elda Ackland Ackland !\tProba: 0.0002731128188315779\nPredicted: Nice to meet , Elda Ackland ! EOS EOS\tProba: 0.0002436156792100519\nPredicted: Nice to to meet you , Elda Ackland !\tProba: 0.00011110139894299209\nPredicted: to meet you , Elda Ackland ! EOS EOS\tProba: 0.00011094078217865899\nPredicted: Nice to meet meet you , Elda Ackland !\tProba: 3.1784522434463724e-05\nPredicted: Nice to meet you , Ackland Ackland ! EOS\tProba: 2.8920325348735787e-05\nPredicted: Nice meet you , Elda Ackland ! EOS EOS\tProba: 2.4957475034170784e-05\n\nSource: <S> I go by Renetta Stanganelli . EOS PAD PAD\nTarget: <S> Nice to meet you , UNKNOWN UNKNOWN ! EOS\n\nPredicted: Nice to meet you , Renetta Stanganelli ! EOS\tProba: 0.9821465611457825\nPredicted: Nice to meet you , Renetta Stanganelli Stanganelli !\tProba: 0.007649802137166262\nPredicted: Nice to meet you , by Stanganelli ! EOS\tProba: 0.0075307078659534454\nPredicted: Nice to meet you , by Stanganelli Stanganelli !\tProba: 0.0015695252222940326\nPredicted: Nice to meet , Renetta Stanganelli ! EOS EOS\tProba: 0.00021877548715565354\nPredicted: Nice to you , Renetta Stanganelli ! EOS EOS\tProba: 0.00018886750331148505\nPredicted: Nice to meet you , Renetta Stanganelli . !\tProba: 0.00017878138169180602\nPredicted: to meet you , Renetta Stanganelli ! EOS EOS\tProba: 0.00010941837535938248\nPredicted: Nice to to meet you , Renetta Stanganelli !\tProba: 7.663156429771334e-05\nPredicted: Nice to meet meet you , Renetta Stanganelli !\tProba: 6.393489456968382e-05\n\nSource: <S> Hey , it 's Tony Donn EOS PAD PAD\nTarget: <S> Nice to meet you , UNKNOWN UNKNOWN ! EOS\n\nPredicted: Nice to meet you , Tony Donn ! EOS\tProba: 0.9969604015350342\nPredicted: Nice to meet you , Donn ! EOS EOS\tProba: 0.0018182144267484546\nPredicted: Nice to meet you , Tony ! EOS EOS\tProba: 0.0003363605646882206\nPredicted: Nice to you , Tony Donn ! EOS EOS\tProba: 0.00019342917948961258\nPredicted: Nice to meet , Tony Donn ! EOS EOS\tProba: 0.00016257005336228758\nPredicted: to meet you , Tony Donn ! EOS EOS\tProba: 0.0001524092222098261\nPredicted: Nice to meet you , Donn Donn ! EOS\tProba: 0.00011971216008532792\nPredicted: Nice to to meet you , Tony Donn !\tProba: 7.542897219536826e-05\nPredicted: Nice to meet meet you , Tony Donn !\tProba: 4.402410922921263e-05\nPredicted: Nice to meet you , Tony Tony ! EOS\tProba: 2.7407444576965645e-05\n\nSource: <S> Hey call me Frederica Mcclay . EOS PAD PAD\nTarget: <S> Nice to meet you , UNKNOWN UNKNOWN ! EOS\n\nPredicted: Nice to meet you , Frederica Mcclay ! EOS\tProba: 0.9968960285186768\nPredicted: Nice to meet you , Frederica ! EOS EOS\tProba: 0.0019263621652498841\nPredicted: to meet you , Frederica Mcclay ! EOS EOS\tProba: 0.000177533263922669\nPredicted: Nice to meet you , Frederica Mcclay Mcclay !\tProba: 0.00017638030112721026\nPredicted: Nice to meet , Frederica Mcclay ! EOS EOS\tProba: 0.00016964964743237942\nPredicted: Nice to you , Frederica Mcclay ! EOS EOS\tProba: 0.00012969104864168912\nPredicted: Nice to meet you , me Mcclay ! EOS\tProba: 8.168215572368354e-05\nPredicted: Nice to meet you , Frederica . ! EOS\tProba: 7.976907363627106e-05\nPredicted: Nice to meet you , Frederica Frederica ! EOS\tProba: 7.267970067914575e-05\nPredicted: Nice to meet meet you , Frederica Mcclay !\tProba: 6.034484249539673e-05\n\nSource: <S> Please call me Bethanie Upright EOS PAD PAD PAD\nTarget: <S> Nice to meet you , UNKNOWN UNKNOWN ! EOS\n\nPredicted: Nice to meet you , Bethanie Upright ! EOS\tProba: 0.9983504414558411\nPredicted: Nice to meet you , Bethanie ! EOS EOS\tProba: 0.0005306726670823991\nPredicted: Nice to meet , Bethanie Upright ! EOS EOS\tProba: 0.0002857953659258783\nPredicted: Nice to you , Bethanie Upright ! EOS EOS\tProba: 0.00021837485837750137\nPredicted: Nice to meet you , Bethanie Upright Upright !\tProba: 0.0001843005302362144\nPredicted: to meet you , Bethanie Upright ! EOS EOS\tProba: 8.894403435988352e-05\nPredicted: Nice to to meet you , Bethanie Upright !\tProba: 8.243224147008732e-05\nPredicted: Nice to meet meet you , Bethanie Upright !\tProba: 5.1418275688774884e-05\nPredicted: Nice to meet you , me Upright ! EOS\tProba: 4.677344986703247e-05\nPredicted: Nice meet you , Bethanie Upright ! EOS EOS\tProba: 3.891811138601042e-05\n\nSource: <S> My name is Erma Herbolsheimer EOS PAD PAD PAD\nTarget: <S> Nice to meet you , UNKNOWN UNKNOWN ! EOS\n\nPredicted: Nice to meet you , Erma Herbolsheimer ! EOS\tProba: 0.9973365664482117\nPredicted: Nice to meet you , Erma Herbolsheimer Herbolsheimer !\tProba: 0.001362804090604186\nPredicted: Nice to meet , Erma Herbolsheimer ! EOS EOS\tProba: 0.0005232247058302164\nPredicted: Nice to meet you Erma Herbolsheimer ! EOS EOS\tProba: 0.0002645654312800616\nPredicted: Nice to you , Erma Herbolsheimer ! EOS EOS\tProba: 0.0001418007304891944\nPredicted: Nice to meet meet you , Erma Herbolsheimer !\tProba: 8.085967419901863e-05\nPredicted: Nice to to meet you , Erma Herbolsheimer !\tProba: 6.880276487208903e-05\nPredicted: to meet you , Erma Herbolsheimer ! EOS EOS\tProba: 6.615744496230036e-05\nPredicted: Nice to meet you , Erma Herbolsheimer Nice to\tProba: 6.095859862398356e-05\nPredicted: Nice meet you , Erma Herbolsheimer ! EOS EOS\tProba: 3.663022653199732e-05\n\nSource: <S> My name is Teresa . EOS PAD PAD PAD\nTarget: <S> Nice to meet you , UNKNOWN ! EOS PAD\n\nPredicted: Nice to meet you , Teresa ! EOS EOS\tProba: 0.997405469417572\nPredicted: Nice to meet you , Teresa . ! EOS\tProba: 0.0007949750288389623\nPredicted: Nice to meet you , Teresa Nice to meet\tProba: 0.00034277900704182684\nPredicted: to meet you , Teresa ! EOS EOS EOS\tProba: 0.00020789557311218232\nPredicted: Nice to meet you , Teresa Yuonne ! EOS\tProba: 0.00019563741807360202\nPredicted: Nice to meet you , Teresa @COPY@ ! EOS\tProba: 0.00019563741807360202\nPredicted: Nice to meet you , Teresa EOS EOS EOS\tProba: 0.00012368563329800963\nPredicted: Nice to you , Teresa ! EOS EOS EOS\tProba: 0.00010531264706514776\nPredicted: Nice to meet , Teresa ! EOS EOS EOS\tProba: 8.737231109989807e-05\nPredicted: Nice to meet meet you , Teresa ! EOS\tProba: 6.789984036004171e-05\n\n"
    }
   ],
   "source": [
    "pred = model.predict(train)\n",
    "pred, pred_proba = pred[\"predictions\"], pred[\"predicted_probas\"]\n",
    "for i, Xy in enumerate(train.unbatch().take(10)):\n",
    "    X, y = Xy\n",
    "    s = model.vocab.inverse_transform(X[0].numpy()[np.newaxis, :], \"source\")[0]\n",
    "    t = model.vocab.inverse_transform(y[0].numpy()[np.newaxis, :], \"target\")[0]\n",
    "    print(f\"Source: {' '.join(s)}\\nTarget: {' '.join(t)}\\n\")\n",
    "    for j in range(10):\n",
    "        p = idx2str(pred[i][j], X[0].numpy())\n",
    "        print(f\"Predicted: {' '.join(p)}\\tProba: {tf.exp(pred_proba[i][j])}\")\n",
    "    print(\"\")"
   ]
  },
  {
   "cell_type": "code",
   "execution_count": 10,
   "metadata": {},
   "outputs": [
    {
     "output_type": "stream",
     "name": "stdout",
     "text": "Source: <S> Hi there . It 's Nyla Wais . EOS\nTarget: <S> Nice to meet you , UNKNOWN UNKNOWN ! EOS\n\nPredicted: Nice to meet you , Nyla Wais ! EOS\tProba: 0.9983201622962952\nPredicted: Nice to meet you , Nyla Wais Wais !\tProba: 0.0006818209658376873\nPredicted: Nice to meet , Nyla Wais ! EOS EOS\tProba: 0.00019870063988491893\nPredicted: Nice to meet you Nyla Wais ! EOS EOS\tProba: 0.00015910154615994543\nPredicted: Nice to you , Nyla Wais ! EOS EOS\tProba: 0.00014713183918502182\nPredicted: to meet you , Nyla Wais ! EOS EOS\tProba: 0.00012121191684855148\nPredicted: Nice to meet you , Nyla Wais . !\tProba: 0.00011916882795048878\nPredicted: Nice to to meet you , Nyla Wais !\tProba: 7.628375897184014e-05\nPredicted: Nice to meet meet you , Nyla Wais !\tProba: 6.900600419612601e-05\nPredicted: Nice meet you , Nyla Wais ! EOS EOS\tProba: 3.1394902180181816e-05\n\nSource: <S> Its Roseann , actually . EOS PAD PAD PAD\nTarget: <S> Nice to meet you , Roseann ! EOS PAD\n\nPredicted: Nice to meet you , Roseann ! EOS EOS\tProba: 0.9569306373596191\nPredicted: Nice to meet you , Roseann , Roseann !\tProba: 0.0270827803760767\nPredicted: Nice to meet you , Roseann Roseann ! EOS\tProba: 0.01002446748316288\nPredicted: Nice to meet you , Roseann Yuonne ! EOS\tProba: 0.0006770074833184481\nPredicted: Nice to meet you , Roseann @COPY@ ! EOS\tProba: 0.0006770074833184481\nPredicted: Nice to meet you , Roseann Nice to meet\tProba: 0.0006348374299705029\nPredicted: Nice to meet you , Roseann actually ! EOS\tProba: 0.000533534970600158\nPredicted: Nice to meet you , Roseann <S> Nice to\tProba: 0.00046776284580118954\nPredicted: Nice to meet you , Roseann Tiesha ! EOS\tProba: 0.000259584398008883\nPredicted: Nice to meet you , Roseann Dulce ! EOS\tProba: 0.0002395176124991849\n\nSource: <S> My friends call me Darrin Palsgrove EOS PAD PAD\nTarget: <S> Nice to meet you , UNKNOWN UNKNOWN ! EOS\n\nPredicted: Nice to meet you , Darrin Palsgrove ! EOS\tProba: 0.9974513649940491\nPredicted: Nice to meet you , Darrin ! EOS EOS\tProba: 0.0015101650496944785\nPredicted: Nice to you , Darrin Palsgrove ! EOS EOS\tProba: 0.0002611671225167811\nPredicted: Nice to meet , Darrin Palsgrove ! EOS EOS\tProba: 0.00018731519230641425\nPredicted: to meet you , Darrin Palsgrove ! EOS EOS\tProba: 0.00013257426326163113\nPredicted: Nice to meet you , Darrin Darrin ! EOS\tProba: 0.00010798984294524416\nPredicted: Nice to to meet you , Darrin Palsgrove !\tProba: 7.863279461162165e-05\nPredicted: Nice to meet you , Darrin Palsgrove Palsgrove !\tProba: 4.162354889558628e-05\nPredicted: Nice to meet you Darrin Palsgrove ! EOS EOS\tProba: 4.0379611164098606e-05\nPredicted: Nice to meet meet you , Darrin Palsgrove !\tProba: 3.4785971365636215e-05\n\nSource: <S> Mona Mackaman is my name . EOS PAD PAD\nTarget: <S> Nice to meet you , UNKNOWN UNKNOWN ! EOS\n\nPredicted: Nice to meet you , Mona Mackaman Mackaman !\tProba: 0.8055202960968018\nPredicted: Nice to meet you , Mona Mackaman ! EOS\tProba: 0.18368786573410034\nPredicted: Nice to meet you , Mona Mackaman Mackaman Mackaman\tProba: 0.009445276111364365\nPredicted: Nice to meet you , Mona Mackaman Mackaman Nice\tProba: 0.00023151458299253136\nPredicted: Nice to meet you , Mona Mackaman is !\tProba: 0.00018259148055221885\nPredicted: Nice to meet you , Mona Mackaman Nice to\tProba: 0.00011757106403820217\nPredicted: to meet you , Mona Mackaman Mackaman ! EOS\tProba: 0.00011443524272181094\nPredicted: Nice to you , Mona Mackaman Mackaman ! EOS\tProba: 0.00010349707008572295\nPredicted: Nice to meet , Mona Mackaman Mackaman ! EOS\tProba: 9.03834734344855e-05\nPredicted: Nice to meet you Mona Mackaman Mackaman ! EOS\tProba: 6.043745452188887e-05\n\nSource: <S> Its Jeanett Salamacha , actually . EOS PAD PAD\nTarget: <S> Nice to meet you , UNKNOWN UNKNOWN ! EOS\n\nPredicted: Nice to meet you , Jeanett Salamacha ! EOS\tProba: 0.9347468614578247\nPredicted: Nice to meet you , Jeanett ! EOS EOS\tProba: 0.055575236678123474\nPredicted: Nice to meet you , Jeanett , Jeanett !\tProba: 0.0019292532233521342\nPredicted: Nice to meet you , Jeanett , Salamacha !\tProba: 0.0014922124100849032\nPredicted: Nice to meet you , Jeanett Jeanett ! EOS\tProba: 0.001311183557845652\nPredicted: Nice to meet you , Jeanett Salamacha Salamacha !\tProba: 0.0012727540452033281\nPredicted: Nice to meet you , Its Salamacha ! EOS\tProba: 0.0012574169086292386\nPredicted: Nice to meet you , Salamacha Salamacha ! EOS\tProba: 0.00030145730124786496\nPredicted: Nice to meet you , Jeanett , Jeanett Salamacha\tProba: 0.0002787737175822258\nPredicted: Nice to meet you , Jeanett Salamacha Nice to\tProba: 0.0001953253522515297\n\nSource: <S> Its Arlyne Sanzone EOS PAD PAD PAD PAD PAD\nTarget: <S> Nice to meet you , UNKNOWN UNKNOWN ! EOS\n\nPredicted: Nice to meet you , Arlyne Sanzone ! EOS\tProba: 0.995065450668335\nPredicted: Nice to meet you , Arlyne Sanzone Sanzone !\tProba: 0.0034575455356389284\nPredicted: Nice to meet you , Its Sanzone ! EOS\tProba: 0.0005220640450716019\nPredicted: Nice to meet , Arlyne Sanzone ! EOS EOS\tProba: 0.0002398673677816987\nPredicted: Nice to you , Arlyne Sanzone ! EOS EOS\tProba: 0.0002354995085624978\nPredicted: Nice to to meet you , Arlyne Sanzone !\tProba: 0.00015173628344200552\nPredicted: to meet you , Arlyne Sanzone ! EOS EOS\tProba: 7.960697257658467e-05\nPredicted: Nice to meet meet you , Arlyne Sanzone !\tProba: 6.134145223768428e-05\nPredicted: Nice to meet you , Arlyne ! EOS EOS\tProba: 5.636146670440212e-05\nPredicted: Nice meet you , Arlyne Sanzone ! EOS EOS\tProba: 2.8641323297051713e-05\n\nSource: <S> It 's Larue EOS PAD PAD PAD PAD PAD\nTarget: <S> Nice to meet you , UNKNOWN ! EOS PAD\n\nPredicted: Nice to meet you , Larue ! EOS EOS\tProba: 0.9863917231559753\nPredicted: Nice to meet you , Larue Larue ! EOS\tProba: 0.012379007413983345\nPredicted: Nice to meet , Larue ! EOS EOS EOS\tProba: 0.00018253611051477492\nPredicted: Nice to meet you , Larue Nice to meet\tProba: 0.0001812986156437546\nPredicted: Nice to you , Larue ! EOS EOS EOS\tProba: 0.0001678502740105614\nPredicted: Nice to meet you , 's Larue ! EOS\tProba: 0.00013854696589987725\nPredicted: to meet you , Larue ! EOS EOS EOS\tProba: 0.00010899594781221822\nPredicted: Nice to to meet you , Larue ! EOS\tProba: 6.761460826965049e-05\nPredicted: Nice to meet you , Larue EOS ! EOS\tProba: 6.427161861211061e-05\nPredicted: Nice to meet meet you , Larue ! EOS\tProba: 5.315032831276767e-05\n\nSource: <S> It 's Hue , actually . EOS PAD PAD\nTarget: <S> Nice to meet you , UNKNOWN ! EOS PAD\n\nPredicted: Nice to meet you , Hue ! EOS EOS\tProba: 0.6274312138557434\nPredicted: Nice to meet you , Hue Hue ! EOS\tProba: 0.3118517994880676\nPredicted: Nice to meet you , Hue , Hue !\tProba: 0.04460166022181511\nPredicted: Nice to meet you , Hue Yuonne ! EOS\tProba: 0.0020454865880310535\nPredicted: Nice to meet you , Hue @COPY@ ! EOS\tProba: 0.0020454865880310535\nPredicted: Nice to meet you , Hue actually ! EOS\tProba: 0.0014685714850202203\nPredicted: Nice to meet you , 's Hue ! EOS\tProba: 0.0013162262039259076\nPredicted: Nice to meet you , Hue <S> Nice to\tProba: 0.0010779311414808035\nPredicted: Nice to meet you , Hue Nice to meet\tProba: 0.0009683281532488763\nPredicted: Nice to meet you , Hue Seema ! EOS\tProba: 0.0004403189814183861\n\nSource: <S> Hey call me Jeanene Akhand . EOS PAD PAD\nTarget: <S> Nice to meet you , UNKNOWN UNKNOWN ! EOS\n\nPredicted: Nice to meet you , Jeanene Akhand ! EOS\tProba: 0.9988081455230713\nPredicted: Nice to meet you , Jeanene Akhand Akhand !\tProba: 0.0003800404956564307\nPredicted: Nice to meet , Jeanene Akhand ! EOS EOS\tProba: 0.00021006373572163284\nPredicted: Nice to you , Jeanene Akhand ! EOS EOS\tProba: 0.0001752617536112666\nPredicted: to meet you , Jeanene Akhand ! EOS EOS\tProba: 0.00010596244828775525\nPredicted: Nice to to meet you , Jeanene Akhand !\tProba: 8.254504791693762e-05\nPredicted: Nice to meet meet you , Jeanene Akhand !\tProba: 7.886561070336029e-05\nPredicted: Nice meet you , Jeanene Akhand ! EOS EOS\tProba: 3.9811326132621616e-05\nPredicted: Nice to meet you , me Akhand ! EOS\tProba: 2.8153053790447302e-05\nPredicted: Nice to meet you , Jeanene Akhand . !\tProba: 1.2108154805900995e-05\n\nSource: <S> My name is Shad EOS PAD PAD PAD PAD\nTarget: <S> Nice to meet you , UNKNOWN ! EOS PAD\n\nPredicted: Nice to meet you , Shad ! EOS EOS\tProba: 0.920657753944397\nPredicted: Nice to meet you , Shad Shad ! EOS\tProba: 0.07693711668252945\nPredicted: Nice to meet you , is Shad ! EOS\tProba: 0.0006926885689608753\nPredicted: Nice to meet you , Shad Nice to meet\tProba: 0.00047501211520284414\nPredicted: Nice to meet , Shad ! EOS EOS EOS\tProba: 0.0001698448759270832\nPredicted: Nice to you , Shad ! EOS EOS EOS\tProba: 0.00015158327005337924\nPredicted: Nice to meet you , Shad EOS EOS EOS\tProba: 0.000136514674522914\nPredicted: to meet you , Shad ! EOS EOS EOS\tProba: 0.00013001264596823603\nPredicted: Nice to meet you , Shad Yuonne ! EOS\tProba: 7.571740570710972e-05\nPredicted: Nice to meet you , Shad @COPY@ ! EOS\tProba: 7.571740570710972e-05\n\n"
    }
   ],
   "source": [
    "pred = model.predict(val.unbatch().take(50).batch(5, drop_remainder=True))\n",
    "pred, pred_proba = pred[\"predictions\"], pred[\"predicted_probas\"]\n",
    "for i, Xy in enumerate(val.unbatch().take(10)):\n",
    "    X, y = Xy\n",
    "    s = model.vocab.inverse_transform(X[0].numpy()[np.newaxis, :], \"source\")[0]\n",
    "    t = model.vocab.inverse_transform(y[0].numpy()[np.newaxis, :], \"target\")[0]\n",
    "    print(f\"Source: {' '.join(s)}\\nTarget: {' '.join(t)}\\n\")\n",
    "    for j in range(10):\n",
    "        p = idx2str(pred[i][j], X[0].numpy())\n",
    "        print(f\"Predicted: {' '.join(p)}\\tProba: {tf.exp(pred_proba[i][j])}\")\n",
    "    print(\"\")"
   ]
  }
 ],
 "metadata": {
  "language_info": {
   "codemirror_mode": {
    "name": "ipython",
    "version": 3
   },
   "file_extension": ".py",
   "mimetype": "text/x-python",
   "name": "python",
   "nbconvert_exporter": "python",
   "pygments_lexer": "ipython3",
   "version": "3.6.9-final"
  },
  "orig_nbformat": 2,
  "kernelspec": {
   "name": "python3",
   "display_name": "Python 3"
  }
 },
 "nbformat": 4,
 "nbformat_minor": 2
}
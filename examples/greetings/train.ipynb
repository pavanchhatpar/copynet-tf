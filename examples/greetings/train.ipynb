{
 "cells": [
  {
   "cell_type": "code",
   "execution_count": 2,
   "metadata": {},
   "outputs": [],
   "source": [
    "import os\n",
    "os.chdir(\"/tf/src/examples/greetings\")\n",
    "\n",
    "from greetings import Dataset\n",
    "import tensorflow as tf\n",
    "import numpy as np\n",
    "import logging\n",
    "from greetings import GreetingModel\n",
    "from greetings import cfg\n",
    "logging.basicConfig(\n",
    "        level=cfg.LOG_LVL,\n",
    "        filename=cfg.LOG_FILENAME,\n",
    "        format='%(message)s')"
   ]
  },
  {
   "cell_type": "code",
   "execution_count": 3,
   "metadata": {},
   "outputs": [],
   "source": [
    "data = Dataset()"
   ]
  },
  {
   "cell_type": "code",
   "execution_count": 4,
   "metadata": {},
   "outputs": [],
   "source": [
    "model = GreetingModel()"
   ]
  },
  {
   "cell_type": "code",
   "execution_count": 5,
   "metadata": {},
   "outputs": [],
   "source": [
    "RNG_SEED = 11\n",
    "to_gpu = tf.data.experimental.copy_to_device(\"/gpu:0\")\n",
    "train = data.train.shuffle(\n",
    "    buffer_size=10000, seed=RNG_SEED, reshuffle_each_iteration=False)\\\n",
    "    .batch(512).apply(to_gpu)\n",
    "val = data.test.batch(512).apply(to_gpu)\n",
    "with tf.device(\"/gpu:0\"):\n",
    "    train = train.prefetch(3)\n",
    "    val = val.prefetch(3)"
   ]
  },
  {
   "cell_type": "code",
   "execution_count": 6,
   "metadata": {},
   "outputs": [
    {
     "output_type": "stream",
     "name": "stdout",
     "text": "source idx from source vocab\n [[   2   24    6    5    1    1    3    0    0    0]\n [   2   22 2239    3    0    0    0    0    0    0]\n [   2   26   27    6    5 2042    4    3    0    0]]\n\nsource idx from target vocab\n [[2 1 1 1 1 1 3 0 0 0]\n [2 1 1 3 0 0 0 0 0 0]\n [2 1 1 1 1 1 1 3 0 0]]\n\ntarget idx from target vocab\n [[2 4 5 6 7 8 1 1 9 3]\n [2 4 5 6 7 8 1 9 3 0]\n [2 4 5 6 7 8 1 9 3 0]]\n\ntarget idx from source vocab\n [[   2    1    1    1    1    8    1    1    1    3]\n [   2    1    1    1    1    8 2239    1    3    0]\n [   2    1    1    1    1    8 2042    1    3    0]]\n"
    }
   ],
   "source": [
    "X, y = next(val.as_numpy_iterator())\n",
    "print(\"source idx from source vocab\\n\", X[0][:3])\n",
    "print(\"\\nsource idx from target vocab\\n\", X[1][:3])\n",
    "print(\"\\ntarget idx from target vocab\\n\", y[0][:3])\n",
    "print(\"\\ntarget idx from source vocab\\n\", y[1][:3])"
   ]
  },
  {
   "cell_type": "code",
   "execution_count": 7,
   "metadata": {},
   "outputs": [
    {
     "output_type": "stream",
     "name": "stderr",
     "text": "Epoch 1/5: 10it [00:29,  2.94s/it, train-loss=8.6540, train-bleu=0.662, train-bleu-smooth=0.662, val-loss=6.9328, val-bleu=0.854, val-bleu-smooth=0.854]\nEpoch 2/5: 10it [00:11,  1.16s/it, train-loss=0.9742, train-bleu=0.929, train-bleu-smooth=0.929, val-loss=5.3846, val-bleu=0.883, val-bleu-smooth=0.883]\nEpoch 3/5: 10it [00:11,  1.18s/it, train-loss=0.2539, train-bleu=0.981, train-bleu-smooth=0.981, val-loss=6.2810, val-bleu=0.981, val-bleu-smooth=0.981]\nEpoch 4/5: 10it [00:11,  1.16s/it, train-loss=0.0750, train-bleu=0.997, train-bleu-smooth=0.997, val-loss=7.6251, val-bleu=0.948, val-bleu-smooth=0.948]\nEpoch 5/5: 10it [00:11,  1.17s/it, train-loss=0.0353, train-bleu=0.999, train-bleu-smooth=0.999, val-loss=8.2821, val-bleu=0.953, val-bleu-smooth=0.953]\n"
    }
   ],
   "source": [
    "model.fit(train, cfg.EPOCHS, cfg.MODEL_SAVE, val)"
   ]
  },
  {
   "cell_type": "code",
   "execution_count": 8,
   "metadata": {},
   "outputs": [],
   "source": [
    "def idx2str(pred_y, X):\n",
    "    ret = []\n",
    "    vocab_len = model.vocab.get_vocab_size(\"target\")\n",
    "    for idx in pred_y:\n",
    "        if idx < vocab_len:\n",
    "            ret.append(model.vocab.get_token_text(idx, \"target\"))\n",
    "        else:\n",
    "            ret.append(model.vocab.get_token_text(X[idx-vocab_len], \"source\"))\n",
    "    return ret"
   ]
  },
  {
   "cell_type": "code",
   "execution_count": 9,
   "metadata": {},
   "outputs": [
    {
     "output_type": "stream",
     "name": "stdout",
     "text": "Source: <S> Hi there . It 's Nyla Wais . EOS\nTarget: <S> Nice to meet you , UNKNOWN UNKNOWN ! EOS\n\nPredicted: Nice to meet you , Nyla Wais ! EOS\tProba: -0.009473783895373344\nPredicted: Nice to meet you Nyla Wais ! EOS EOS\tProba: -4.835021018981934\nPredicted: Nice to meet you Nyla Wais ! EOS EOS\tProba: -4.835021018981934\n\nSource: <S> Its Roseann , actually . EOS PAD PAD PAD\nTarget: <S> Nice to meet you , Roseann ! EOS PAD\n\nPredicted: Nice to meet you , Roseann ! EOS EOS\tProba: -0.01785992830991745\nPredicted: Nice to meet you , Roseann ! EOS EOS\tProba: -0.01785992830991745\nPredicted: Nice to meet you , Roseann ! EOS EOS\tProba: -0.01785992830991745\n\nSource: <S> My friends call me Darrin Palsgrove EOS PAD PAD\nTarget: <S> Nice to meet you , UNKNOWN UNKNOWN ! EOS\n\nPredicted: Nice to meet you , Darrin Palsgrove ! EOS\tProba: -0.0024111715611070395\nPredicted: Nice to meet you , Darrin ! EOS EOS\tProba: -6.734346866607666\nPredicted: Nice to meet you , Darrin ! EOS EOS\tProba: -6.734346866607666\n\nSource: <S> Mona Mackaman is my name . EOS PAD PAD\nTarget: <S> Nice to meet you , UNKNOWN UNKNOWN ! EOS\n\nPredicted: Nice to meet you , Mona Mackaman ! EOS\tProba: -0.004806410521268845\nPredicted: Nice to meet you , Mona Mackaman Mackaman !\tProba: -6.120652675628662\nPredicted: Nice to meet you Mona Mackaman ! EOS EOS\tProba: -6.863079071044922\n\nSource: <S> Its Jeanett Salamacha , actually . EOS PAD PAD\nTarget: <S> Nice to meet you , UNKNOWN UNKNOWN ! EOS\n\nPredicted: Nice to meet you , Jeanett Salamacha ! EOS\tProba: -0.07545123994350433\nPredicted: Nice to meet you , Jeanett ! EOS EOS\tProba: -2.6519181728363037\nPredicted: Nice to meet you , Jeanett ! EOS EOS\tProba: -2.6519181728363037\n\nSource: <S> Its Arlyne Sanzone EOS PAD PAD PAD PAD PAD\nTarget: <S> Nice to meet you , UNKNOWN UNKNOWN ! EOS\n\nPredicted: Nice to meet you , Arlyne Sanzone ! EOS\tProba: -0.0021454254165291786\nPredicted: Nice to meet , Arlyne Sanzone ! EOS EOS\tProba: -6.88027811050415\nPredicted: Nice to meet , Arlyne Sanzone ! EOS EOS\tProba: -6.88027811050415\n\nSource: <S> It 's Larue EOS PAD PAD PAD PAD PAD\nTarget: <S> Nice to meet you , UNKNOWN ! EOS PAD\n\nPredicted: Nice to meet you , Larue ! EOS EOS\tProba: -0.015183120965957642\nPredicted: Nice to meet you , Larue ! EOS EOS\tProba: -0.015183120965957642\nPredicted: Nice to meet you , Larue ! EOS EOS\tProba: -0.015183120965957642\n\nSource: <S> It 's Hue , actually . EOS PAD PAD\nTarget: <S> Nice to meet you , UNKNOWN ! EOS PAD\n\nPredicted: Nice to meet you , Hue ! EOS EOS\tProba: -0.13633927702903748\nPredicted: Nice to meet you , Hue ! EOS EOS\tProba: -0.13633927702903748\nPredicted: Nice to meet you , Hue ! EOS EOS\tProba: -0.13633927702903748\n\nSource: <S> Hey call me Jeanene Akhand . EOS PAD PAD\nTarget: <S> Nice to meet you , UNKNOWN UNKNOWN ! EOS\n\nPredicted: Nice to meet you , Jeanene Akhand ! EOS\tProba: -0.0017974231159314513\nPredicted: Nice to meet , Jeanene Akhand ! EOS EOS\tProba: -7.435599327087402\nPredicted: Nice to meet , Jeanene Akhand ! EOS EOS\tProba: -7.435599327087402\n\nSource: <S> My name is Shad EOS PAD PAD PAD PAD\nTarget: <S> Nice to meet you , UNKNOWN ! EOS PAD\n\nPredicted: Nice to meet you , Shad ! EOS EOS\tProba: -0.03290710225701332\nPredicted: Nice to meet you , Shad ! EOS EOS\tProba: -0.03290710225701332\nPredicted: Nice to meet you , Shad ! EOS EOS\tProba: -0.03290710225701332\n\n"
    }
   ],
   "source": [
    "pred, pred_proba = model.predict(train)\n",
    "for i, Xy in enumerate(train.unbatch().take(10)):\n",
    "    X, y = Xy\n",
    "    s = model.vocab.inverse_transform(X[0].numpy()[np.newaxis, :], \"source\")[0]\n",
    "    t = model.vocab.inverse_transform(y[0].numpy()[np.newaxis, :], \"target\")[0]\n",
    "    print(f\"Source: {' '.join(s)}\\nTarget: {' '.join(t)}\\n\")\n",
    "    for j in range(3):\n",
    "        p = idx2str(pred[i][j].numpy(), X[0].numpy())\n",
    "        print(f\"Predicted: {' '.join(p)}\\tProba: {pred_proba[i][j]}\")\n",
    "    print(\"\")"
   ]
  },
  {
   "cell_type": "code",
   "execution_count": 10,
   "metadata": {},
   "outputs": [
    {
     "output_type": "stream",
     "name": "stdout",
     "text": "Source: <S> Please call me UNKNOWN UNKNOWN EOS PAD PAD PAD\nTarget: <S> Nice to meet you , UNKNOWN UNKNOWN ! EOS\n\nPredicted: Nice to meet you , UNKNOWN UNKNOWN ! EOS\tProba: -0.07300668954849243\nPredicted: Nice to meet you , UNKNOWN UNKNOWN UNKNOWN !\tProba: -3.0839779376983643\nPredicted: Nice to meet you , UNKNOWN ! EOS EOS\tProba: -4.4598164558410645\n\nSource: <S> Its Albert EOS PAD PAD PAD PAD PAD PAD\nTarget: <S> Nice to meet you , UNKNOWN ! EOS PAD\n\nPredicted: Nice to meet you , Albert ! EOS EOS\tProba: -0.007965894415974617\nPredicted: Nice to meet you , Albert ! EOS EOS\tProba: -0.007965894415974617\nPredicted: Nice to meet you , Albert ! EOS EOS\tProba: -0.007965894415974617\n\nSource: <S> You can call me Tennille . EOS PAD PAD\nTarget: <S> Nice to meet you , UNKNOWN ! EOS PAD\n\nPredicted: Nice to meet you , Tennille ! EOS EOS\tProba: -0.004344363231211901\nPredicted: Nice to meet you , Tennille ! EOS EOS\tProba: -0.004344363231211901\nPredicted: Nice to meet you , Tennille ! EOS EOS\tProba: -0.004344363231211901\n\nSource: <S> Hi I 'm UNKNOWN UNKNOWN EOS PAD PAD PAD\nTarget: <S> Nice to meet you , UNKNOWN UNKNOWN ! EOS\n\nPredicted: Nice to meet you , UNKNOWN UNKNOWN ! EOS\tProba: -0.09717558324337006\nPredicted: Nice to meet you , UNKNOWN UNKNOWN UNKNOWN !\tProba: -2.9020137786865234\nPredicted: Nice to meet you , 'm UNKNOWN ! EOS\tProba: -3.7556843757629395\n\nSource: <S> Hi there . It 's UNKNOWN . EOS PAD\nTarget: <S> Nice to meet you , UNKNOWN ! EOS PAD\n\nPredicted: Nice to meet you , UNKNOWN UNKNOWN ! EOS\tProba: -0.7645173668861389\nPredicted: Nice to meet you , UNKNOWN ! EOS EOS\tProba: -0.81585693359375\nPredicted: Nice to meet you , UNKNOWN ! EOS EOS\tProba: -0.81585693359375\n\nSource: <S> My name is UNKNOWN . EOS PAD PAD PAD\nTarget: <S> Nice to meet you , UNKNOWN ! EOS PAD\n\nPredicted: Nice to meet you , UNKNOWN UNKNOWN ! EOS\tProba: -0.41835665702819824\nPredicted: Nice to meet you , UNKNOWN ! EOS EOS\tProba: -1.5900226831436157\nPredicted: Nice to meet you , UNKNOWN ! EOS EOS\tProba: -1.5900226831436157\n\nSource: <S> My friends call me Debera UNKNOWN EOS PAD PAD\nTarget: <S> Nice to meet you , UNKNOWN UNKNOWN ! EOS\n\nPredicted: Nice to meet you , Debera UNKNOWN ! EOS\tProba: -0.5268356204032898\nPredicted: Nice to meet you , Debera UNKNOWN UNKNOWN !\tProba: -0.9399253726005554\nPredicted: Nice to meet you , Debera UNKNOWN UNKNOWN UNKNOWN\tProba: -4.244676113128662\n\nSource: <S> It 's Lucy , actually . EOS PAD PAD\nTarget: <S> Nice to meet you , UNKNOWN ! EOS PAD\n\nPredicted: Nice to meet you , Lucy ! EOS EOS\tProba: -0.005081754177808762\nPredicted: Nice to meet you , Lucy ! EOS EOS\tProba: -0.005081754177808762\nPredicted: Nice to meet you , Lucy ! EOS EOS\tProba: -0.005081754177808762\n\nSource: <S> Call me UNKNOWN EOS PAD PAD PAD PAD PAD\nTarget: <S> Nice to meet you , UNKNOWN ! EOS PAD\n\nPredicted: Nice to meet you , UNKNOWN UNKNOWN ! EOS\tProba: -0.4589756727218628\nPredicted: Nice to meet you , UNKNOWN ! EOS EOS\tProba: -1.3735804557800293\nPredicted: Nice to meet you , UNKNOWN ! EOS EOS\tProba: -1.3735804557800293\n\nSource: <S> You can call me UNKNOWN EOS PAD PAD PAD\nTarget: <S> Nice to meet you , UNKNOWN ! EOS PAD\n\nPredicted: Nice to meet you , UNKNOWN UNKNOWN ! EOS\tProba: -0.36693114042282104\nPredicted: Nice to meet you , UNKNOWN ! EOS EOS\tProba: -1.3574305772781372\nPredicted: Nice to meet you , UNKNOWN ! EOS EOS\tProba: -1.3574305772781372\n\n"
    }
   ],
   "source": [
    "pred, pred_proba = model.predict(val.unbatch().take(50).batch(5))\n",
    "for i, Xy in enumerate(val.unbatch().take(10)):\n",
    "    X, y = Xy\n",
    "    s = model.vocab.inverse_transform(X[0].numpy()[np.newaxis, :], \"source\")[0]\n",
    "    t = model.vocab.inverse_transform(y[0].numpy()[np.newaxis, :], \"target\")[0]\n",
    "    print(f\"Source: {' '.join(s)}\\nTarget: {' '.join(t)}\\n\")\n",
    "    for j in range(3):\n",
    "        p = idx2str(pred[i][j].numpy(), X[0].numpy())\n",
    "        print(f\"Predicted: {' '.join(p)}\\tProba: {pred_proba[i][j]}\")\n",
    "    print(\"\")"
   ]
  }
 ],
 "metadata": {
  "language_info": {
   "codemirror_mode": {
    "name": "ipython",
    "version": 3
   },
   "file_extension": ".py",
   "mimetype": "text/x-python",
   "name": "python",
   "nbconvert_exporter": "python",
   "pygments_lexer": "ipython3",
   "version": "3.6.9-final"
  },
  "orig_nbformat": 2,
  "kernelspec": {
   "name": "python3",
   "display_name": "Python 3"
  }
 },
 "nbformat": 4,
 "nbformat_minor": 2
}
{
 "cells": [
  {
   "cell_type": "code",
   "execution_count": 1,
   "metadata": {},
   "outputs": [],
   "source": [
    "import os\n",
    "os.chdir(\"/tf/src/examples/greetings\")\n",
    "\n",
    "from greetings import Dataset\n",
    "import tensorflow as tf\n",
    "import numpy as np\n",
    "import logging\n",
    "from greetings import GreetingModel\n",
    "from greetings import cfg\n",
    "logging.basicConfig(\n",
    "        level=cfg.LOG_LVL,\n",
    "        filename=cfg.LOG_FILENAME,\n",
    "        format='%(message)s')"
   ]
  },
  {
   "cell_type": "code",
   "execution_count": 2,
   "metadata": {},
   "outputs": [],
   "source": [
    "data = Dataset()"
   ]
  },
  {
   "cell_type": "code",
   "execution_count": 3,
   "metadata": {},
   "outputs": [],
   "source": [
    "model = GreetingModel()"
   ]
  },
  {
   "cell_type": "code",
   "execution_count": 4,
   "metadata": {},
   "outputs": [],
   "source": [
    "RNG_SEED = 11\n",
    "to_gpu = tf.data.experimental.copy_to_device(\"/gpu:0\")\n",
    "train = data.train.shuffle(\n",
    "    buffer_size=10000, seed=RNG_SEED, reshuffle_each_iteration=False)\\\n",
    "    .batch(128).apply(to_gpu)\n",
    "val = data.test.batch(128).apply(to_gpu)\n",
    "with tf.device(\"/gpu:0\"):\n",
    "    train = train.prefetch(3)\n",
    "    val = val.prefetch(3)"
   ]
  },
  {
   "cell_type": "code",
   "execution_count": 5,
   "metadata": {},
   "outputs": [
    {
     "output_type": "stream",
     "name": "stdout",
     "text": "source idx from source vocab\n [[   2   24    6    5    1    1    3    0    0    0]\n [   2   22 2239    3    0    0    0    0    0    0]\n [   2   26   27    6    5 2042    4    3    0    0]]\n\nsource idx from target vocab\n [[2 1 1 1 1 1 3 0 0 0]\n [2 1 1 3 0 0 0 0 0 0]\n [2 1 1 1 1 1 1 3 0 0]]\n\ntarget idx from target vocab\n [[2 4 5 6 7 8 1 1 9 3]\n [2 4 5 6 7 8 1 9 3 0]\n [2 4 5 6 7 8 1 9 3 0]]\n\ntarget idx from source vocab\n [[   2    1    1    1    1    8    1    1    1    3]\n [   2    1    1    1    1    8 2239    1    3    0]\n [   2    1    1    1    1    8 2042    1    3    0]]\n"
    }
   ],
   "source": [
    "X, y = next(val.as_numpy_iterator())\n",
    "print(\"source idx from source vocab\\n\", X[0][:3])\n",
    "print(\"\\nsource idx from target vocab\\n\", X[1][:3])\n",
    "print(\"\\ntarget idx from target vocab\\n\", y[0][:3])\n",
    "print(\"\\ntarget idx from source vocab\\n\", y[1][:3])"
   ]
  },
  {
   "cell_type": "code",
   "execution_count": 6,
   "metadata": {},
   "outputs": [
    {
     "output_type": "stream",
     "name": "stderr",
     "text": "Epoch 1/5: 40it [00:16,  2.37it/s, train-loss=2.4375, val-loss=11.1625]\nEpoch 2/5: 40it [00:02, 18.48it/s, train-loss=0.0248, val-loss=12.0321]\nEpoch 3/5: 40it [00:02, 18.74it/s, train-loss=0.0104, val-loss=12.0904]\nEpoch 4/5: 40it [00:02, 18.54it/s, train-loss=0.0053, val-loss=12.7375]\nEpoch 5/5: 40it [00:02, 18.58it/s, train-loss=0.0020, val-loss=14.0248]\n"
    }
   ],
   "source": [
    "model.fit(train, cfg.EPOCHS, cfg.MODEL_SAVE, val)"
   ]
  },
  {
   "cell_type": "code",
   "execution_count": 7,
   "metadata": {},
   "outputs": [],
   "source": [
    "def idx2str(pred_y, X):\n",
    "    ret = []\n",
    "    vocab_len = model.vocab.get_vocab_size(\"target\")\n",
    "    for idx in pred_y:\n",
    "        if idx < vocab_len:\n",
    "            ret.append(model.vocab.get_token_text(idx, \"target\"))\n",
    "        else:\n",
    "            ret.append(model.vocab.get_token_text(X[idx-vocab_len], \"source\"))\n",
    "    return ret"
   ]
  },
  {
   "cell_type": "code",
   "execution_count": 8,
   "metadata": {
    "tags": [
     "outputPrepend",
     "outputPrepend",
     "outputPrepend",
     "outputPrepend",
     "outputPrepend",
     "outputPrepend",
     "outputPrepend",
     "outputPrepend",
     "outputPrepend",
     "outputPrepend",
     "outputPrepend",
     "outputPrepend",
     "outputPrepend",
     "outputPrepend",
     "outputPrepend",
     "outputPrepend",
     "outputPrepend",
     "outputPrepend",
     "outputPrepend",
     "outputPrepend",
     "outputPrepend",
     "outputPrepend",
     "outputPrepend",
     "outputPrepend",
     "outputPrepend",
     "outputPrepend",
     "outputPrepend",
     "outputPrepend",
     "outputPrepend",
     "outputPrepend",
     "outputPrepend",
     "outputPrepend",
     "outputPrepend",
     "outputPrepend",
     "outputPrepend",
     "outputPrepend",
     "outputPrepend",
     "outputPrepend",
     "outputPrepend",
     "outputPrepend",
     "outputPrepend",
     "outputPrepend",
     "outputPrepend",
     "outputPrepend",
     "outputPrepend",
     "outputPrepend",
     "outputPrepend",
     "outputPrepend",
     "outputPrepend",
     "outputPrepend",
     "outputPrepend",
     "outputPrepend",
     "outputPrepend",
     "outputPrepend",
     "outputPrepend",
     "outputPrepend"
    ]
   },
   "outputs": [
    {
     "output_type": "stream",
     "name": "stdout",
     "text": "ce to meet you , Soledad ! EOS EOS EOS\tProba: -0.6988925933837891\nPredicted: Nice to meet you , Soledad ! EOS EOS !\tProba: -0.7136460542678833\nPredicted: Nice to meet you , Soledad ! EOS EOS Nice\tProba: -4.597904205322266\n\nSource: <S> Call me Jordan EOS PAD PAD PAD PAD PAD\nTarget: <S> Nice to meet you , UNKNOWN ! EOS PAD\n\nPredicted: Nice to meet you , Jordan ! EOS EOS EOS\tProba: -0.25408777594566345\nPredicted: Nice to meet you , Jordan ! EOS EOS !\tProba: -1.523960828781128\nPredicted: Nice to meet you , Jordan ! EOS EOS Nice\tProba: -5.331370830535889\n\nSource: <S> Hey call me Carlos . EOS PAD PAD PAD\nTarget: <S> Nice to meet you , UNKNOWN ! EOS PAD\n\nPredicted: Nice to meet you , Carlos ! EOS EOS EOS\tProba: -0.0724610909819603\nPredicted: Nice to meet you , Carlos ! EOS EOS !\tProba: -2.724607467651367\nPredicted: Nice to meet you , Carlos ! EOS EOS Nice\tProba: -5.808969974517822\n\nSource: <S> Hi , I 'm Tiesha Ledue EOS PAD PAD\nTarget: <S> Nice to meet you , Tiesha UNKNOWN ! EOS\n\nPredicted: Nice to meet you , Tiesha Ledue ! EOS EOS\tProba: -0.0025107949040830135\nPredicted: Nice to meet you , Tiesha Ledue ! EOS !\tProba: -6.979623794555664\nPredicted: Nice to meet you , Tiesha ! EOS EOS !\tProba: -7.435697555541992\n\nSource: <S> Hi my name is Min EOS PAD PAD PAD\nTarget: <S> Nice to meet you , UNKNOWN ! EOS PAD\n\nPredicted: Nice to meet you , Min ! EOS EOS EOS\tProba: -0.16429054737091064\nPredicted: Nice to meet you , Min ! EOS EOS !\tProba: -1.95228910446167\nPredicted: Nice to meet you , Min ! EOS EOS Nice\tProba: -5.237141132354736\n\nSource: <S> Hi I 'm Jill Beyke EOS PAD PAD PAD\nTarget: <S> Nice to meet you , UNKNOWN UNKNOWN ! EOS\n\nPredicted: Nice to meet you , Jill Beyke ! EOS EOS\tProba: -0.0004969589645043015\nPredicted: Nice to meet you , Jill Beyke ! EOS !\tProba: -8.786494255065918\nPredicted: Nice to meet you , Jill Beyke Beyke ! EOS\tProba: -9.243910789489746\n\nSource: <S> Jacqueline EOS PAD PAD PAD PAD PAD PAD PAD\nTarget: <S> Nice to meet you , UNKNOWN ! EOS PAD\n\nPredicted: Nice to meet you , Jacqueline ! EOS EOS !\tProba: -0.23580554127693176\nPredicted: Nice to meet you , Jacqueline ! EOS EOS EOS\tProba: -2.1088218688964844\nPredicted: Nice to meet you , Jacqueline ! EOS EOS Nice\tProba: -2.589564323425293\n\nSource: <S> Hey call me Una Lechleidner EOS PAD PAD PAD\nTarget: <S> Nice to meet you , UNKNOWN UNKNOWN ! EOS\n\nPredicted: Nice to meet you , Una Lechleidner ! EOS EOS\tProba: -0.0007154096965678036\nPredicted: Nice to meet you , Una Lechleidner ! EOS !\tProba: -7.893186092376709\nPredicted: Nice to meet you , Una Lechleidner Lechleidner ! EOS\tProba: -9.109840393066406\n\nSource: <S> Its Tameika , actually . EOS PAD PAD PAD\nTarget: <S> Nice to meet you , UNKNOWN ! EOS PAD\n\nPredicted: Nice to meet you , Tameika ! EOS EOS EOS\tProba: -0.06599956750869751\nPredicted: Nice to meet you , Tameika ! EOS EOS !\tProba: -2.933182954788208\nPredicted: Nice to meet you , Tameika ! EOS EOS Nice\tProba: -4.915841102600098\n\nSource: <S> People call me Minh Tica . EOS PAD PAD\nTarget: <S> Nice to meet you , UNKNOWN UNKNOWN ! EOS\n\nPredicted: Nice to meet you , Minh Tica ! EOS EOS\tProba: -0.0008325506350956857\nPredicted: Nice to meet you , Minh ! EOS EOS EOS\tProba: -7.717524528503418\nPredicted: Nice to meet you , Tica ! EOS EOS EOS\tProba: -9.243640899658203\n\nSource: <S> Please call me Coralie EOS PAD PAD PAD PAD\nTarget: <S> Nice to meet you , UNKNOWN ! EOS PAD\n\nPredicted: Nice to meet you , Coralie ! EOS EOS !\tProba: -0.45611169934272766\nPredicted: Nice to meet you , Coralie ! EOS EOS EOS\tProba: -1.1025718450546265\nPredicted: Nice to meet you , Coralie ! EOS EOS Nice\tProba: -3.511276960372925\n\nSource: <S> Hi , I 'm Harriett Stravinski EOS PAD PAD\nTarget: <S> Nice to meet you , UNKNOWN UNKNOWN ! EOS\n\nPredicted: Nice to meet you , Harriett Stravinski ! EOS EOS\tProba: -0.00044236675603315234\nPredicted: Nice to meet you , Harriett Stravinski ! EOS !\tProba: -9.170682907104492\nPredicted: Nice to meet , Harriett Stravinski ! EOS EOS EOS\tProba: -9.403172492980957\n\nSource: <S> Hello , my name is Joan Mart . EOS\nTarget: <S> Nice to meet you , UNKNOWN UNKNOWN ! EOS\n\nPredicted: Nice to meet you , Joan Mart ! EOS EOS\tProba: -0.00024294292961712927\nPredicted: Nice to meet , Joan Mart ! EOS EOS EOS\tProba: -9.92927074432373\nPredicted: Nice to you , Joan Mart ! EOS EOS EOS\tProba: -10.133652687072754\n\nSource: <S> Its Tonia Fineman EOS PAD PAD PAD PAD PAD\nTarget: <S> Nice to meet you , UNKNOWN UNKNOWN ! EOS\n\nPredicted: Nice to meet you , Tonia Fineman ! EOS EOS\tProba: -0.003125404939055443\nPredicted: Nice to meet you , Tonia Fineman ! EOS !\tProba: -5.938050270080566\nPredicted: Nice to meet you Tonia Fineman ! EOS EOS !\tProba: -9.257464408874512\n\nSource: <S> Its Laurine EOS PAD PAD PAD PAD PAD PAD\nTarget: <S> Nice to meet you , UNKNOWN ! EOS PAD\n\nPredicted: Nice to meet you , Laurine ! EOS EOS !\tProba: -0.15754222869873047\nPredicted: Nice to meet you , Laurine ! EOS EOS Nice\tProba: -2.4644527435302734\nPredicted: Nice to meet you , Laurine ! EOS EOS EOS\tProba: -3.3878908157348633\n\nSource: <S> Hey call me Hsiu Vranicar EOS PAD PAD PAD\nTarget: <S> Nice to meet you , UNKNOWN UNKNOWN ! EOS\n\nPredicted: Nice to meet you , Hsiu Vranicar ! EOS EOS\tProba: -0.0011873806361109018\nPredicted: Nice to meet you , Hsiu Vranicar ! EOS !\tProba: -7.627578258514404\nPredicted: Nice to meet you , Hsiu Vranicar Vranicar ! EOS\tProba: -8.20363998413086\n\nSource: <S> Hi , it 's Yolonda Polisky EOS PAD PAD\nTarget: <S> Nice to meet you , Yolonda UNKNOWN ! EOS\n\nPredicted: Nice to meet you , Yolonda Polisky ! EOS EOS\tProba: -0.0020996220409870148\nPredicted: Nice to meet you , Yolonda Polisky ! EOS !\tProba: -6.500027179718018\nPredicted: Nice to meet you Yolonda Polisky ! EOS EOS !\tProba: -9.062956809997559\n\nSource: <S> I go by June Gulde EOS PAD PAD PAD\nTarget: <S> Nice to meet you , June UNKNOWN ! EOS\n\nPredicted: Nice to meet you , June Gulde ! EOS EOS\tProba: -0.007036521565169096\nPredicted: Nice to meet you , Gulde ! EOS EOS !\tProba: -5.8779520988464355\nPredicted: Nice to meet you , Gulde ! EOS EOS EOS\tProba: -6.2568583488464355\n\nSource: <S> Its Leon actually . EOS PAD PAD PAD PAD\nTarget: <S> Nice to meet you , UNKNOWN ! EOS PAD\n\nPredicted: Nice to meet you , Leon ! EOS EOS EOS\tProba: -0.10640525072813034\nPredicted: Nice to meet you , Leon ! EOS EOS !\tProba: -2.3657846450805664\nPredicted: Nice to meet you , Leon ! EOS EOS Nice\tProba: -5.3756608963012695\n\nSource: <S> Its Thao Parrill EOS PAD PAD PAD PAD PAD\nTarget: <S> Nice to meet you , UNKNOWN UNKNOWN ! EOS\n\nPredicted: Nice to meet you , Thao Parrill ! EOS EOS\tProba: -0.004629258066415787\nPredicted: Nice to meet you , Thao Parrill ! EOS !\tProba: -5.498538017272949\nPredicted: Nice to meet you , Thao Parrill ! EOS Nice\tProba: -9.101497650146484\n\nSource: <S> Hey , it 's Yong EOS PAD PAD PAD\nTarget: <S> Nice to meet you , UNKNOWN ! EOS PAD\n\nPredicted: Nice to meet you , Yong ! EOS EOS EOS\tProba: -0.5460140705108643\nPredicted: Nice to meet you , Yong ! EOS EOS !\tProba: -0.9122350215911865\nPredicted: Nice to meet you , Yong ! EOS EOS Nice\tProba: -4.082883834838867\n\nSource: <S> Hey it 's Ruby Fryday EOS PAD PAD PAD\nTarget: <S> Nice to meet you , UNKNOWN UNKNOWN ! EOS\n\nPredicted: Nice to meet you , Ruby Fryday ! EOS EOS\tProba: -0.0004753844696097076\nPredicted: Nice to meet you , Ruby Fryday ! EOS !\tProba: -8.7985200881958\nPredicted: Nice to meet , Ruby Fryday ! EOS EOS EOS\tProba: -9.801209449768066\n\nSource: <S> Malika is my name . EOS PAD PAD PAD\nTarget: <S> Nice to meet you , Malika ! EOS PAD\n\nPredicted: Nice to meet you , Malika ! EOS EOS EOS\tProba: -0.30912673473358154\nPredicted: Nice to meet you , Malika ! EOS EOS !\tProba: -1.5007038116455078\nPredicted: Nice to meet you , Malika Malika ! EOS EOS\tProba: -3.6883931159973145\n\nSource: <S> My name is Shela Rampley EOS PAD PAD PAD\nTarget: <S> Nice to meet you , UNKNOWN UNKNOWN ! EOS\n\nPredicted: Nice to meet you , Shela Rampley ! EOS EOS\tProba: -0.0011551877250894904\nPredicted: Nice to meet you , Shela Rampley ! EOS !\tProba: -7.2195210456848145\nPredicted: Nice to meet you Shela Rampley ! EOS EOS !\tProba: -9.633827209472656\n\nSource: <S> It 's Johnsie Goodine , actually . EOS PAD\nTarget: <S> Nice to meet you , Johnsie UNKNOWN ! EOS\n\nPredicted: Nice to meet you , Johnsie Goodine ! EOS EOS\tProba: -0.0009279386722482741\nPredicted: Nice to meet you Johnsie Goodine ! EOS EOS EOS\tProba: -8.077433586120605\nPredicted: Nice to meet you , Johnsie Goodine ! EOS !\tProba: -8.746612548828125\n\nSource: <S> People call me Imogene Bourn EOS PAD PAD PAD\nTarget: <S> Nice to meet you , UNKNOWN UNKNOWN ! EOS\n\nPredicted: Nice to meet you , Imogene Bourn ! EOS EOS\tProba: -0.0007393379928544164\nPredicted: Nice to meet you , Imogene Bourn ! EOS !\tProba: -7.70205545425415\nPredicted: Nice to you , Imogene Bourn ! EOS EOS EOS\tProba: -10.355077743530273\n\nSource: <S> Hi my name is Kym Barre EOS PAD PAD\nTarget: <S> Nice to meet you , UNKNOWN UNKNOWN ! EOS\n\nPredicted: Nice to meet you , Kym Barre ! EOS EOS\tProba: -0.0019875834695994854\nPredicted: Nice to meet you , Kym Barre Barre ! EOS\tProba: -6.443845748901367\nPredicted: Nice to meet you , Kym Barre ! EOS !\tProba: -8.853806495666504\n\nSource: <S> Hey it 's Hunter Koors EOS PAD PAD PAD\nTarget: <S> Nice to meet you , Hunter UNKNOWN ! EOS\n\nPredicted: Nice to meet you , Hunter Koors ! EOS EOS\tProba: -0.002645234577357769\nPredicted: Nice to meet you , Hunter Koors ! EOS !\tProba: -6.217018127441406\nPredicted: Nice to meet you , Hunter Koors Koors ! EOS\tProba: -8.080774307250977\n\nSource: <S> Please call me Genaro Stegman . EOS PAD PAD\nTarget: <S> Nice to meet you , UNKNOWN UNKNOWN ! EOS\n\nPredicted: Nice to meet you , Genaro Stegman ! EOS EOS\tProba: -0.00039587842184118927\nPredicted: Nice to meet you , Genaro Stegman ! EOS !\tProba: -9.212940216064453\nPredicted: Nice to meet , Genaro Stegman ! EOS EOS EOS\tProba: -9.634912490844727\n\nSource: <S> Hello , it 's Micheline Achziger . EOS PAD\nTarget: <S> Nice to meet you , UNKNOWN UNKNOWN ! EOS\n\nPredicted: Nice to meet you , Micheline Achziger ! EOS EOS\tProba: -0.0013667081948369741\nPredicted: Nice to meet you , Micheline Achziger Achziger ! EOS\tProba: -6.810124397277832\nPredicted: Nice to meet , Micheline Achziger ! EOS EOS EOS\tProba: -9.378015518188477\n\nSource: <S> Kirstin EOS PAD PAD PAD PAD PAD PAD PAD\nTarget: <S> Nice to meet you , UNKNOWN ! EOS PAD\n\nPredicted: Nice to meet you , Kirstin ! EOS EOS !\tProba: -0.16419357061386108\nPredicted: Nice to meet you , Kirstin ! EOS EOS Nice\tProba: -2.5114874839782715\nPredicted: Nice to meet you , Kirstin ! EOS EOS EOS\tProba: -3.2375504970550537\n\nSource: <S> Call me Ossie EOS PAD PAD PAD PAD PAD\nTarget: <S> Nice to meet you , Ossie ! EOS PAD\n\nPredicted: Nice to meet you , Ossie ! EOS EOS !\tProba: -0.17634426057338715\nPredicted: Nice to meet you , Ossie ! EOS EOS Nice\tProba: -2.7967782020568848\nPredicted: Nice to meet you , Ossie ! EOS ! EOS\tProba: -2.9152443408966064\n\nSource: <S> It 's Jade Palmquist EOS PAD PAD PAD PAD\nTarget: <S> Nice to meet you , UNKNOWN UNKNOWN ! EOS\n\nPredicted: Nice to meet you , Jade Palmquist ! EOS EOS\tProba: -0.0013981590745970607\nPredicted: Nice to meet you , Jade Palmquist ! EOS !\tProba: -6.937417984008789\nPredicted: Nice to meet you Jade Palmquist ! EOS EOS !\tProba: -9.119412422180176\n\nSource: <S> Hi , I 'm Kerry Clar . EOS PAD\nTarget: <S> Nice to meet you , Kerry UNKNOWN ! EOS\n\nPredicted: Nice to meet you , Kerry Clar ! EOS EOS\tProba: -0.0004898069892078638\nPredicted: Nice to meet you , Kerry Kerry Clar ! EOS\tProba: -9.00590991973877\nPredicted: Nice to meet you , Kerry Clar ! EOS !\tProba: -9.556717872619629\n\nSource: <S> I go by Mary . EOS PAD PAD PAD\nTarget: <S> Nice to meet you , UNKNOWN ! EOS PAD\n\nPredicted: Nice to meet you , Mary ! EOS EOS EOS\tProba: -0.043935827910900116\nPredicted: Nice to meet you , Mary ! EOS EOS !\tProba: -3.203883409500122\nPredicted: Nice to meet you , Mary ! EOS EOS Nice\tProba: -6.409964561462402\n\nSource: <S> My friends call me Deneen Rattu . EOS PAD\nTarget: <S> Nice to meet you , UNKNOWN UNKNOWN ! EOS\n\nPredicted: Nice to meet you , Deneen Rattu ! EOS EOS\tProba: -0.0027541096787899733\nPredicted: Nice to meet you , Deneen Rattu Rattu ! EOS\tProba: -6.00199031829834\nPredicted: Nice to meet , Deneen Rattu ! EOS EOS EOS\tProba: -9.928229331970215\n\nSource: <S> Please call me Major Currens . EOS PAD PAD\nTarget: <S> Nice to meet you , UNKNOWN UNKNOWN ! EOS\n\nPredicted: Nice to meet you , Major Currens ! EOS EOS\tProba: -0.0005826378474012017\nPredicted: Nice to meet you , Currens ! EOS EOS EOS\tProba: -8.342782974243164\nPredicted: Nice to meet you , Major Currens ! EOS !\tProba: -9.93352222442627\n\nSource: <S> It 's Iva actually . EOS PAD PAD PAD\nTarget: <S> Nice to meet you , UNKNOWN ! EOS PAD\n\nPredicted: Nice to meet you , Iva ! EOS EOS EOS\tProba: -0.07818718999624252\nPredicted: Nice to meet you , Iva ! EOS EOS !\tProba: -2.7080976963043213\nPredicted: Nice to meet you , Iva ! EOS EOS Nice\tProba: -5.105957508087158\n\nSource: <S> People call me Katlyn Matye EOS PAD PAD PAD\nTarget: <S> Nice to meet you , UNKNOWN UNKNOWN ! EOS\n\nPredicted: Nice to meet you , Katlyn Matye ! EOS EOS\tProba: -0.0007414064602926373\nPredicted: Nice to meet you , Katlyn Matye ! EOS !\tProba: -8.023996353149414\nPredicted: Nice to meet you , Katlyn Matye Matye ! EOS\tProba: -8.86113452911377\n\nSource: <S> Please call me Johnsie . EOS PAD PAD PAD\nTarget: <S> Nice to meet you , Johnsie ! EOS PAD\n\nPredicted: Nice to meet you , Johnsie ! EOS EOS !\tProba: -0.6727829575538635\nPredicted: Nice to meet you , Johnsie ! EOS EOS EOS\tProba: -0.9516773819923401\nPredicted: Nice to meet you , Johnsie ! EOS EOS Nice\tProba: -2.6264278888702393\n\nSource: <S> It 's Jone EOS PAD PAD PAD PAD PAD\nTarget: <S> Nice to meet you , UNKNOWN ! EOS PAD\n\nPredicted: Nice to meet you , Jone ! EOS EOS !\tProba: -0.4541710317134857\nPredicted: Nice to meet you , Jone ! EOS EOS EOS\tProba: -1.1269006729125977\nPredicted: Nice to meet you , Jone ! EOS EOS Nice\tProba: -3.361759901046753\n\nSource: <S> I go by Kiley EOS PAD PAD PAD PAD\nTarget: <S> Nice to meet you , UNKNOWN ! EOS PAD\n\nPredicted: Nice to meet you , Kiley ! EOS EOS !\tProba: -0.612605631351471\nPredicted: Nice to meet you , Kiley ! EOS EOS EOS\tProba: -0.8238118290901184\nPredicted: Nice to meet you , Kiley ! EOS EOS Nice\tProba: -4.156738758087158\n\nSource: <S> Please call me Aisha EOS PAD PAD PAD PAD\nTarget: <S> Nice to meet you , UNKNOWN ! EOS PAD\n\nPredicted: Nice to meet you , Aisha ! EOS EOS !\tProba: -0.5584806203842163\nPredicted: Nice to meet you , Aisha ! EOS EOS EOS\tProba: -0.8821204900741577\nPredicted: Nice to meet you , Aisha ! EOS EOS Nice\tProba: -4.499600887298584\n\nSource: <S> My friends call me Karri . EOS PAD PAD\nTarget: <S> Nice to meet you , UNKNOWN ! EOS PAD\n\nPredicted: Nice to meet you , Karri ! EOS EOS EOS\tProba: -0.07431558519601822\nPredicted: Nice to meet you , Karri ! EOS EOS !\tProba: -2.724611520767212\nPredicted: Nice to meet you , Karri ! EOS EOS Nice\tProba: -5.737502574920654\n\nSource: <S> Hey , it 's Ester EOS PAD PAD PAD\nTarget: <S> Nice to meet you , UNKNOWN ! EOS PAD\n\nPredicted: Nice to meet you , Ester ! EOS EOS EOS\tProba: -0.5364508032798767\nPredicted: Nice to meet you , Ester ! EOS EOS !\tProba: -0.923035204410553\nPredicted: Nice to meet you , Ester ! EOS EOS Nice\tProba: -4.144989490509033\n\nSource: <S> Call me Melissa Sensing EOS PAD PAD PAD PAD\nTarget: <S> Nice to meet you , UNKNOWN UNKNOWN ! EOS\n\nPredicted: Nice to meet you , Melissa Sensing ! EOS EOS\tProba: -0.00041113843326456845\nPredicted: Nice to meet you , Melissa Sensing ! EOS !\tProba: -9.061902046203613\nPredicted: Nice to meet , Melissa Sensing ! EOS EOS EOS\tProba: -10.0302152633667\n\nSource: <S> Its Lorenza Conrady , actually . EOS PAD PAD\nTarget: <S> Nice to meet you , UNKNOWN UNKNOWN ! EOS\n\nPredicted: Nice to meet you , Lorenza Conrady ! EOS EOS\tProba: -0.0008791092550382018\nPredicted: Nice to meet you Lorenza Conrady ! EOS EOS EOS\tProba: -7.581955909729004\nPredicted: Nice to meet , Lorenza Conrady ! EOS EOS EOS\tProba: -9.572582244873047\n\nSource: <S> Hi my name is Maryam Valen EOS PAD PAD\nTarget: <S> Nice to meet you , Maryam UNKNOWN ! EOS\n\nPredicted: Nice to meet you , Maryam Valen ! EOS EOS\tProba: -0.0012401952408254147\nPredicted: Nice to meet you , Maryam Valen ! EOS !\tProba: -7.033305644989014\nPredicted: Nice to meet , Maryam Valen ! EOS EOS !\tProba: -9.896657943725586\n\nSource: <S> Hi I 'm Harold Karmel EOS PAD PAD PAD\nTarget: <S> Nice to meet you , UNKNOWN UNKNOWN ! EOS\n\nPredicted: Nice to meet you , Harold Karmel ! EOS EOS\tProba: -0.0006268663564696908\nPredicted: Nice to meet you , Harold Karmel ! EOS !\tProba: -8.148209571838379\nPredicted: Nice to meet , Harold Karmel ! EOS EOS EOS\tProba: -9.820656776428223\n\nSource: <S> Estrella Furlong EOS PAD PAD PAD PAD PAD PAD\nTarget: <S> Nice to meet you , UNKNOWN UNKNOWN ! EOS\n\nPredicted: Nice to meet you , Estrella Furlong ! EOS EOS\tProba: -0.0045236339792609215\nPredicted: Nice to meet you , Estrella Furlong ! EOS !\tProba: -5.60752534866333\nPredicted: Nice to meet you , Estrella ! EOS EOS !\tProba: -8.028120994567871\n\nSource: <S> Hello my name is Caroline . EOS PAD PAD\nTarget: <S> Nice to meet you , UNKNOWN ! EOS PAD\n\nPredicted: Nice to meet you , Caroline ! EOS EOS EOS\tProba: -0.0366634726524353\nPredicted: Nice to meet you , Caroline ! EOS EOS !\tProba: -3.384949207305908\nPredicted: Nice to meet you , Caroline ! EOS EOS Nice\tProba: -6.546374320983887\n\nSource: <S> Hello , it 's Latoya . EOS PAD PAD\nTarget: <S> Nice to meet you , Latoya ! EOS PAD\n\nPredicted: Nice to meet you , Latoya ! EOS EOS EOS\tProba: -0.29501107335090637\nPredicted: Nice to meet you , Latoya ! EOS EOS !\tProba: -1.4990427494049072\nPredicted: Nice to meet you , Latoya ! EOS EOS Nice\tProba: -3.686964750289917\n\nSource: <S> Hi my name is Eloise . EOS PAD PAD\nTarget: <S> Nice to meet you , UNKNOWN ! EOS PAD\n\nPredicted: Nice to meet you , Eloise ! EOS EOS EOS\tProba: -0.05780321732163429\nPredicted: Nice to meet you , Eloise ! EOS EOS !\tProba: -2.9705393314361572\nPredicted: Nice to meet you , Eloise ! EOS EOS Nice\tProba: -5.63053035736084\n\nSource: <S> I go by Kory . EOS PAD PAD PAD\nTarget: <S> Nice to meet you , UNKNOWN ! EOS PAD\n\nPredicted: Nice to meet you , Kory ! EOS EOS EOS\tProba: -0.13164184987545013\nPredicted: Nice to meet you , Kory ! EOS EOS !\tProba: -2.181662082672119\nPredicted: Nice to meet you , Kory ! EOS EOS Nice\tProba: -4.87217903137207\n\nSource: <S> My name is Bethann Delallo EOS PAD PAD PAD\nTarget: <S> Nice to meet you , UNKNOWN UNKNOWN ! EOS\n\nPredicted: Nice to meet you , Bethann Delallo ! EOS EOS\tProba: -0.0005645235069096088\nPredicted: Nice to meet you , Bethann Delallo ! EOS !\tProba: -8.234363555908203\nPredicted: Nice to meet , Bethann Delallo ! EOS EOS EOS\tProba: -9.635086059570312\n\nSource: <S> I actually go Risa . EOS PAD PAD PAD\nTarget: <S> Nice to meet you , UNKNOWN ! EOS PAD\n\nPredicted: Nice to meet you , Risa ! EOS EOS EOS\tProba: -0.14140048623085022\nPredicted: Nice to meet you , Risa ! EOS EOS !\tProba: -2.102149486541748\nPredicted: Nice to meet you , Risa ! EOS EOS Nice\tProba: -4.934360027313232\n\nSource: <S> My name is Domenic Koerber . EOS PAD PAD\nTarget: <S> Nice to meet you , UNKNOWN UNKNOWN ! EOS\n\nPredicted: Nice to meet you , Domenic Koerber ! EOS EOS\tProba: -0.0003540381439961493\nPredicted: Nice to meet , Domenic Koerber ! EOS EOS EOS\tProba: -9.464946746826172\nPredicted: Nice meet you , Domenic Koerber ! EOS EOS EOS\tProba: -9.847070693969727\n\nSource: <S> I go by Latoya . EOS PAD PAD PAD\nTarget: <S> Nice to meet you , Latoya ! EOS PAD\n\nPredicted: Nice to meet you , Latoya ! EOS EOS EOS\tProba: -0.631062388420105\nPredicted: Nice to meet you , Latoya ! EOS EOS !\tProba: -0.8695187568664551\nPredicted: Nice to meet you , Latoya ! EOS EOS Nice\tProba: -3.330203056335449\n\nSource: <S> Hi my name is Lita . EOS PAD PAD\nTarget: <S> Nice to meet you , UNKNOWN ! EOS PAD\n\nPredicted: Nice to meet you , Lita ! EOS EOS EOS\tProba: -0.06214853748679161\nPredicted: Nice to meet you , Lita ! EOS EOS !\tProba: -2.878178119659424\nPredicted: Nice to meet you , Lita ! EOS EOS Nice\tProba: -5.858127593994141\n\n"
    }
   ],
   "source": [
    "pred, pred_proba = model.predict(train)\n",
    "for i, Xy in enumerate(train.unbatch()):\n",
    "    X, y = Xy\n",
    "    s = model.vocab.inverse_transform(X[0].numpy()[np.newaxis, :], \"source\")[0]\n",
    "    t = model.vocab.inverse_transform(y[0].numpy()[np.newaxis, :], \"target\")[0]\n",
    "    print(f\"Source: {' '.join(s)}\\nTarget: {' '.join(t)}\\n\")\n",
    "    for j in range(3):\n",
    "        p = idx2str(pred[i][j].numpy(), X[0].numpy())\n",
    "        print(f\"Predicted: {' '.join(p)}\\tProba: {pred_proba[i][j]}\")\n",
    "    print(\"\")"
   ]
  },
  {
   "cell_type": "code",
   "execution_count": 9,
   "metadata": {
    "tags": [
     "outputPrepend",
     "outputPrepend"
    ]
   },
   "outputs": [
    {
     "output_type": "stream",
     "name": "stdout",
     "text": "Source: <S> Please call me UNKNOWN UNKNOWN EOS PAD PAD PAD\nTarget: <S> Nice to meet you , UNKNOWN UNKNOWN ! EOS\n\nPredicted: Nice to meet you , UNKNOWN UNKNOWN ! EOS EOS\tProba: -0.029365282505750656\nPredicted: Nice to meet you , UNKNOWN ! EOS EOS EOS\tProba: -3.6214375495910645\nPredicted: Nice to meet you , UNKNOWN ! EOS EOS !\tProba: -6.426690101623535\n\nSource: <S> Its Albert EOS PAD PAD PAD PAD PAD PAD\nTarget: <S> Nice to meet you , UNKNOWN ! EOS PAD\n\nPredicted: Nice to meet you , Albert ! EOS EOS !\tProba: -0.34492751955986023\nPredicted: Nice to meet you , Albert ! EOS EOS EOS\tProba: -1.3922357559204102\nPredicted: Nice to meet you , Albert ! EOS EOS Nice\tProba: -3.34482741355896\n\nSource: <S> You can call me Tennille . EOS PAD PAD\nTarget: <S> Nice to meet you , UNKNOWN ! EOS PAD\n\nPredicted: Nice to meet you , Tennille ! EOS EOS EOS\tProba: -0.21208012104034424\nPredicted: Nice to meet you , Tennille ! EOS EOS !\tProba: -1.7689634561538696\nPredicted: Nice to meet you , Tennille ! EOS EOS Nice\tProba: -4.111344814300537\n\nSource: <S> Hi I 'm UNKNOWN UNKNOWN EOS PAD PAD PAD\nTarget: <S> Nice to meet you , UNKNOWN UNKNOWN ! EOS\n\nPredicted: Nice to meet you , UNKNOWN UNKNOWN ! EOS EOS\tProba: -0.014657975174486637\nPredicted: Nice to meet you , UNKNOWN ! EOS EOS EOS\tProba: -4.313401222229004\nPredicted: Nice to meet you , UNKNOWN ! EOS EOS !\tProba: -7.714022159576416\n\nSource: <S> Hi there . It 's UNKNOWN . EOS PAD\nTarget: <S> Nice to meet you , UNKNOWN ! EOS PAD\n\nPredicted: Nice to meet you , UNKNOWN ! EOS EOS EOS\tProba: -0.037388503551483154\nPredicted: Nice to meet you , UNKNOWN ! EOS EOS !\tProba: -3.5871047973632812\nPredicted: Nice to meet you , 's UNKNOWN ! EOS EOS\tProba: -5.627521991729736\n\nSource: <S> My name is UNKNOWN . EOS PAD PAD PAD\nTarget: <S> Nice to meet you , UNKNOWN ! EOS PAD\n\nPredicted: Nice to meet you , UNKNOWN ! EOS EOS EOS\tProba: -0.024030297994613647\nPredicted: Nice to meet you , UNKNOWN ! EOS EOS !\tProba: -3.92267107963562\nPredicted: Nice to meet you , UNKNOWN ! EOS EOS Nice\tProba: -6.300558567047119\n\nSource: <S> My friends call me Debera UNKNOWN EOS PAD PAD\nTarget: <S> Nice to meet you , UNKNOWN UNKNOWN ! EOS\n\nPredicted: Nice to meet you , Debera UNKNOWN ! EOS EOS\tProba: -0.0004850375698879361\nPredicted: Nice to meet you , Debera UNKNOWN ! EOS !\tProba: -8.717546463012695\nPredicted: Nice to meet , Debera UNKNOWN ! EOS EOS EOS\tProba: -9.648725509643555\n\nSource: <S> It 's Lucy , actually . EOS PAD PAD\nTarget: <S> Nice to meet you , UNKNOWN ! EOS PAD\n\nPredicted: Nice to meet you , Lucy ! EOS EOS EOS\tProba: -0.022575978189706802\nPredicted: Nice to meet you , Lucy ! EOS EOS !\tProba: -3.9396328926086426\nPredicted: Nice to meet you , Lucy ! EOS EOS Nice\tProba: -6.582795143127441\n\nSource: <S> Call me UNKNOWN EOS PAD PAD PAD PAD PAD\nTarget: <S> Nice to meet you , UNKNOWN ! EOS PAD\n\nPredicted: Nice to meet you , UNKNOWN ! EOS EOS EOS\tProba: -0.2040747106075287\nPredicted: Nice to meet you , UNKNOWN ! EOS EOS !\tProba: -1.8016657829284668\nPredicted: Nice to meet you , UNKNOWN ! EOS EOS Nice\tProba: -4.396421909332275\n\nSource: <S> You can call me UNKNOWN EOS PAD PAD PAD\nTarget: <S> Nice to meet you , UNKNOWN ! EOS PAD\n\nPredicted: Nice to meet you , UNKNOWN ! EOS EOS EOS\tProba: -0.2317562848329544\nPredicted: Nice to meet you , UNKNOWN ! EOS EOS !\tProba: -1.6405055522918701\nPredicted: Nice to meet you , UNKNOWN ! EOS EOS Nice\tProba: -4.61733865737915\n\nSource: <S> You can call me Starr EOS PAD PAD PAD\nTarget: <S> Nice to meet you , UNKNOWN ! EOS PAD\n\nPredicted: Nice to meet you , Starr ! EOS EOS EOS\tProba: -0.4232986569404602\nPredicted: Nice to meet you , Starr ! EOS EOS !\tProba: -1.089503288269043\nPredicted: Nice to meet you , Starr ! EOS EOS Nice\tProba: -4.987983703613281\n\nSource: <S> It 's UNKNOWN UNKNOWN , actually . EOS PAD\nTarget: <S> Nice to meet you , UNKNOWN UNKNOWN ! EOS\n\nPredicted: Nice to meet you , UNKNOWN UNKNOWN ! EOS EOS\tProba: -0.25015100836753845\nPredicted: Nice to meet you , UNKNOWN ! EOS EOS EOS\tProba: -1.520911455154419\nPredicted: Nice to meet you , UNKNOWN ! EOS EOS !\tProba: -6.533992767333984\n\nSource: <S> Its Dione , actually . EOS PAD PAD PAD\nTarget: <S> Nice to meet you , UNKNOWN ! EOS PAD\n\nPredicted: Nice to meet you , Dione ! EOS EOS EOS\tProba: -0.04061075672507286\nPredicted: Nice to meet you , Dione ! EOS EOS !\tProba: -3.402927875518799\nPredicted: Nice to meet you , Dione ! EOS EOS Nice\tProba: -5.437600135803223\n\nSource: <S> Its Della UNKNOWN EOS PAD PAD PAD PAD PAD\nTarget: <S> Nice to meet you , UNKNOWN UNKNOWN ! EOS\n\nPredicted: Nice to meet you , Della UNKNOWN ! EOS EOS\tProba: -0.0009655705071054399\nPredicted: Nice to meet you , Della ! EOS EOS EOS\tProba: -8.041728973388672\nPredicted: Nice to meet you , Della UNKNOWN ! EOS !\tProba: -8.519852638244629\n\nSource: <S> Hi I 'm UNKNOWN EOS PAD PAD PAD PAD\nTarget: <S> Nice to meet you , UNKNOWN ! EOS PAD\n\nPredicted: Nice to meet you , UNKNOWN ! EOS EOS EOS\tProba: -0.11170592159032822\nPredicted: Nice to meet you , UNKNOWN ! EOS EOS !\tProba: -2.4239773750305176\nPredicted: Nice to meet you , 'm UNKNOWN ! EOS EOS\tProba: -4.949042797088623\n\nSource: <S> My name is UNKNOWN UNKNOWN . EOS PAD PAD\nTarget: <S> Nice to meet you , UNKNOWN UNKNOWN ! EOS\n\nPredicted: Nice to meet you , UNKNOWN UNKNOWN ! EOS EOS\tProba: -0.025446997955441475\nPredicted: Nice to meet you , UNKNOWN ! EOS EOS EOS\tProba: -3.7035157680511475\nPredicted: Nice to meet you , UNKNOWN ! EOS EOS !\tProba: -8.973464012145996\n\nSource: <S> My friends call me Francina . EOS PAD PAD\nTarget: <S> Nice to meet you , UNKNOWN ! EOS PAD\n\nPredicted: Nice to meet you , Francina ! EOS EOS EOS\tProba: -0.10059411823749542\nPredicted: Nice to meet you , Francina ! EOS EOS !\tProba: -2.469511032104492\nPredicted: Nice to meet you , Francina ! EOS EOS Nice\tProba: -4.750706672668457\n\nSource: <S> My name is Shanna UNKNOWN EOS PAD PAD PAD\nTarget: <S> Nice to meet you , UNKNOWN UNKNOWN ! EOS\n\nPredicted: Nice to meet you , Shanna UNKNOWN ! EOS EOS\tProba: -0.0004255601088516414\nPredicted: Nice to meet you , Shanna UNKNOWN ! EOS !\tProba: -8.906742095947266\nPredicted: Nice meet you , Shanna UNKNOWN ! EOS EOS EOS\tProba: -9.947554588317871\n\nSource: <S> People call me Lolita UNKNOWN . EOS PAD PAD\nTarget: <S> Nice to meet you , UNKNOWN UNKNOWN ! EOS\n\nPredicted: Nice to meet you , Lolita UNKNOWN ! EOS EOS\tProba: -0.005943134427070618\nPredicted: Nice to meet you , Lolita ! EOS EOS EOS\tProba: -5.253640651702881\nPredicted: Nice to meet you , UNKNOWN ! EOS EOS EOS\tProba: -8.250849723815918\n\nSource: <S> My friends call me UNKNOWN . EOS PAD PAD\nTarget: <S> Nice to meet you , UNKNOWN ! EOS PAD\n\nPredicted: Nice to meet you , UNKNOWN ! EOS EOS EOS\tProba: -0.0238024964928627\nPredicted: Nice to meet you , UNKNOWN ! EOS EOS !\tProba: -3.972480058670044\nPredicted: Nice to meet you , me UNKNOWN ! EOS EOS\tProba: -6.390590667724609\n\nSource: <S> I go by UNKNOWN . EOS PAD PAD PAD\nTarget: <S> Nice to meet you , UNKNOWN ! EOS PAD\n\nPredicted: Nice to meet you , UNKNOWN ! EOS EOS EOS\tProba: -0.050058577209711075\nPredicted: Nice to meet you , UNKNOWN ! EOS EOS !\tProba: -3.2271792888641357\nPredicted: Nice to meet you , UNKNOWN ! EOS EOS Nice\tProba: -5.629908561706543\n\nSource: <S> My name is Phylis UNKNOWN . EOS PAD PAD\nTarget: <S> Nice to meet you , UNKNOWN UNKNOWN ! EOS\n\nPredicted: Nice to meet you , Phylis UNKNOWN ! EOS EOS\tProba: -0.00036750652361661196\nPredicted: Nice to meet you Phylis UNKNOWN ! EOS EOS EOS\tProba: -9.081273078918457\nPredicted: Nice meet you , Phylis UNKNOWN ! EOS EOS EOS\tProba: -9.887809753417969\n\nSource: <S> You can call me UNKNOWN EOS PAD PAD PAD\nTarget: <S> Nice to meet you , UNKNOWN ! EOS PAD\n\nPredicted: Nice to meet you , UNKNOWN ! EOS EOS EOS\tProba: -0.2317562848329544\nPredicted: Nice to meet you , UNKNOWN ! EOS EOS !\tProba: -1.6405055522918701\nPredicted: Nice to meet you , UNKNOWN ! EOS EOS Nice\tProba: -4.61733865737915\n\nSource: <S> Hey it 's Cathrine Wilridge EOS PAD PAD PAD\nTarget: <S> Nice to meet you , UNKNOWN UNKNOWN ! EOS\n\nPredicted: Nice to meet you , Cathrine Wilridge ! EOS EOS\tProba: -0.0010621865512803197\nPredicted: Nice to meet you , Cathrine Wilridge ! EOS !\tProba: -7.173582553863525\nPredicted: Nice to meet , Cathrine Wilridge ! EOS EOS !\tProba: -10.140787124633789\n\nSource: <S> I actually go Jonie . EOS PAD PAD PAD\nTarget: <S> Nice to meet you , UNKNOWN ! EOS PAD\n\nPredicted: Nice to meet you , Jonie ! EOS EOS EOS\tProba: -0.13726919889450073\nPredicted: Nice to meet you , Jonie ! EOS EOS !\tProba: -2.1803596019744873\nPredicted: Nice to meet you , Jonie ! EOS EOS Nice\tProba: -4.5243120193481445\n\nSource: <S> Please call me Sheron UNKNOWN . EOS PAD PAD\nTarget: <S> Nice to meet you , UNKNOWN UNKNOWN ! EOS\n\nPredicted: Nice to meet you , Sheron UNKNOWN ! EOS EOS\tProba: -0.00033699508639983833\nPredicted: Nice to meet , Sheron UNKNOWN ! EOS EOS EOS\tProba: -9.753692626953125\nPredicted: Nice to meet you , Sheron ! EOS EOS EOS\tProba: -9.780844688415527\n\nSource: <S> Hey it 's Karena UNKNOWN EOS PAD PAD PAD\nTarget: <S> Nice to meet you , UNKNOWN UNKNOWN ! EOS\n\nPredicted: Nice to meet you , Karena UNKNOWN ! EOS EOS\tProba: -0.0005007728468626738\nPredicted: Nice to meet you , Karena UNKNOWN ! EOS !\tProba: -8.71957778930664\nPredicted: Nice to meet you , Karena ! EOS EOS EOS\tProba: -9.561395645141602\n\nSource: <S> Hi my name is Deandre UNKNOWN EOS PAD PAD\nTarget: <S> Nice to meet you , Deandre UNKNOWN ! EOS\n\nPredicted: Nice to meet you , Deandre UNKNOWN ! EOS EOS\tProba: -0.009624596685171127\nPredicted: Nice to meet you , Deandre ! EOS EOS EOS\tProba: -5.161953449249268\nPredicted: Nice to meet you , Deandre ! EOS EOS !\tProba: -5.891582012176514\n\nSource: <S> It 's UNKNOWN UNKNOWN , actually . EOS PAD\nTarget: <S> Nice to meet you , UNKNOWN UNKNOWN ! EOS\n\nPredicted: Nice to meet you , UNKNOWN UNKNOWN ! EOS EOS\tProba: -0.25015100836753845\nPredicted: Nice to meet you , UNKNOWN ! EOS EOS EOS\tProba: -1.520911455154419\nPredicted: Nice to meet you , UNKNOWN ! EOS EOS !\tProba: -6.533992767333984\n\nSource: <S> My name is UNKNOWN UNKNOWN . EOS PAD PAD\nTarget: <S> Nice to meet you , UNKNOWN UNKNOWN ! EOS\n\nPredicted: Nice to meet you , UNKNOWN UNKNOWN ! EOS EOS\tProba: -0.025446997955441475\nPredicted: Nice to meet you , UNKNOWN ! EOS EOS EOS\tProba: -3.7035157680511475\nPredicted: Nice to meet you , UNKNOWN ! EOS EOS !\tProba: -8.973464012145996\n\nSource: <S> It 's Phyllis UNKNOWN EOS PAD PAD PAD PAD\nTarget: <S> Nice to meet you , UNKNOWN UNKNOWN ! EOS\n\nPredicted: Nice to meet you , Phyllis UNKNOWN ! EOS EOS\tProba: -0.0005047065787948668\nPredicted: Nice to meet you , Phyllis UNKNOWN ! EOS !\tProba: -8.74882984161377\nPredicted: Nice to meet , Phyllis UNKNOWN ! EOS EOS EOS\tProba: -9.939456939697266\n\nSource: <S> Hi , I 'm UNKNOWN . EOS PAD PAD\nTarget: <S> Nice to meet you , UNKNOWN ! EOS PAD\n\nPredicted: Nice to meet you , UNKNOWN ! EOS EOS EOS\tProba: -0.01713545434176922\nPredicted: Nice to meet you , UNKNOWN ! EOS EOS !\tProba: -4.389941692352295\nPredicted: Nice to meet you , UNKNOWN ! EOS EOS Nice\tProba: -6.359968662261963\n\nSource: <S> It 's Mammie EOS PAD PAD PAD PAD PAD\nTarget: <S> Nice to meet you , UNKNOWN ! EOS PAD\n\nPredicted: Nice to meet you , Mammie ! EOS EOS !\tProba: -0.20281025767326355\nPredicted: Nice to meet you , Mammie ! EOS EOS EOS\tProba: -1.990119218826294\nPredicted: Nice to meet you , Mammie ! EOS EOS Nice\tProba: -3.2764711380004883\n\nSource: <S> You can call me Hector UNKNOWN . EOS PAD\nTarget: <S> Nice to meet you , UNKNOWN UNKNOWN ! EOS\n\nPredicted: Nice to meet you , Hector UNKNOWN ! EOS EOS\tProba: -0.00034724612487480044\nPredicted: Nice to meet you , Hector ! EOS EOS EOS\tProba: -9.286429405212402\nPredicted: Nice to meet , Hector UNKNOWN ! EOS EOS EOS\tProba: -9.959229469299316\n\nSource: <S> You can call me UNKNOWN UNKNOWN . EOS PAD\nTarget: <S> Nice to meet you , UNKNOWN UNKNOWN ! EOS\n\nPredicted: Nice to meet you , UNKNOWN UNKNOWN ! EOS EOS\tProba: -0.03274509310722351\nPredicted: Nice to meet you , UNKNOWN ! EOS EOS EOS\tProba: -3.4579100608825684\nPredicted: Nice to meet you , UNKNOWN ! EOS EOS !\tProba: -8.030637741088867\n\nSource: <S> Hi , it 's Vilma Tunstall EOS PAD PAD\nTarget: <S> Nice to meet you , UNKNOWN UNKNOWN ! EOS\n\nPredicted: Nice to meet you , Vilma Tunstall ! EOS EOS\tProba: -0.0005588154308497906\nPredicted: Nice to meet you , Vilma Tunstall ! EOS !\tProba: -8.41232681274414\nPredicted: Nice to meet you , Vilma Tunstall Tunstall ! EOS\tProba: -9.719184875488281\n\nSource: <S> My name is Brianne EOS PAD PAD PAD PAD\nTarget: <S> Nice to meet you , UNKNOWN ! EOS PAD\n\nPredicted: Nice to meet you , Brianne ! EOS EOS EOS\tProba: -0.6409872174263\nPredicted: Nice to meet you , Brianne ! EOS EOS !\tProba: -0.782673180103302\nPredicted: Nice to meet you , Brianne ! EOS EOS Nice\tProba: -4.312112808227539\n\nSource: <S> Hello , my name is Carmelita . EOS PAD\nTarget: <S> Nice to meet you , UNKNOWN ! EOS PAD\n\nPredicted: Nice to meet you , Carmelita ! EOS EOS EOS\tProba: -0.045474838465452194\nPredicted: Nice to meet you , Carmelita ! EOS EOS !\tProba: -3.198558807373047\nPredicted: Nice to meet you , Carmelita ! EOS EOS Nice\tProba: -5.9316205978393555\n\nSource: <S> People call me Danna UNKNOWN EOS PAD PAD PAD\nTarget: <S> Nice to meet you , UNKNOWN UNKNOWN ! EOS\n\nPredicted: Nice to meet you , Danna UNKNOWN ! EOS EOS\tProba: -0.0006706196581944823\nPredicted: Nice to meet you , Danna ! EOS EOS EOS\tProba: -8.621025085449219\nPredicted: Nice to meet you , Danna UNKNOWN ! EOS !\tProba: -8.720305442810059\n\nSource: <S> Hi there . It 's Gaston UNKNOWN . EOS\nTarget: <S> Nice to meet you , UNKNOWN UNKNOWN ! EOS\n\nPredicted: Nice to meet you , Gaston UNKNOWN ! EOS EOS\tProba: -0.0014450375456362963\nPredicted: Nice to meet you , Gaston ! EOS EOS EOS\tProba: -6.751121520996094\nPredicted: Nice to meet , Gaston UNKNOWN ! EOS EOS EOS\tProba: -9.816537857055664\n\nSource: <S> You can call me Ronnie . EOS PAD PAD\nTarget: <S> Nice to meet you , UNKNOWN ! EOS PAD\n\nPredicted: Nice to meet you , Ronnie ! EOS EOS EOS\tProba: -0.08709836006164551\nPredicted: Nice to meet you , Ronnie ! EOS EOS !\tProba: -2.5429441928863525\nPredicted: Nice to meet you , Ronnie ! EOS EOS Nice\tProba: -5.74038553237915\n\nSource: <S> People call me Abby . EOS PAD PAD PAD\nTarget: <S> Nice to meet you , UNKNOWN ! EOS PAD\n\nPredicted: Nice to meet you , Abby ! EOS EOS EOS\tProba: -0.11258379369974136\nPredicted: Nice to meet you , Abby ! EOS EOS !\tProba: -2.2930362224578857\nPredicted: Nice to meet you , Abby ! EOS EOS Nice\tProba: -5.569505214691162\n\nSource: <S> Hey call me Leif . EOS PAD PAD PAD\nTarget: <S> Nice to meet you , UNKNOWN ! EOS PAD\n\nPredicted: Nice to meet you , Leif ! EOS EOS EOS\tProba: -0.09969417750835419\nPredicted: Nice to meet you , Leif ! EOS EOS !\tProba: -2.4158213138580322\nPredicted: Nice to meet you , Leif ! EOS EOS Nice\tProba: -5.557025909423828\n\nSource: <S> Hi , I 'm UNKNOWN UNKNOWN EOS PAD PAD\nTarget: <S> Nice to meet you , UNKNOWN UNKNOWN ! EOS\n\nPredicted: Nice to meet you , UNKNOWN UNKNOWN ! EOS EOS\tProba: -0.005988298915326595\nPredicted: Nice to meet you , UNKNOWN ! EOS EOS EOS\tProba: -5.218147277832031\nPredicted: Nice to meet you , UNKNOWN ! EOS EOS !\tProba: -8.954229354858398\n\nSource: <S> Hi my name is Shonna UNKNOWN EOS PAD PAD\nTarget: <S> Nice to meet you , Shonna UNKNOWN ! EOS\n\nPredicted: Nice to meet you , Shonna UNKNOWN ! EOS EOS\tProba: -0.004815199878066778\nPredicted: Nice to meet you , Shonna ! EOS EOS EOS\tProba: -5.863255023956299\nPredicted: Nice to meet you , Shonna ! EOS EOS !\tProba: -6.699863433837891\n\nSource: <S> Hello my name is Izola . EOS PAD PAD\nTarget: <S> Nice to meet you , UNKNOWN ! EOS PAD\n\nPredicted: Nice to meet you , Izola ! EOS EOS EOS\tProba: -0.049462925642728806\nPredicted: Nice to meet you , Izola ! EOS EOS !\tProba: -3.1532890796661377\nPredicted: Nice to meet you , Izola ! EOS EOS Nice\tProba: -5.575510025024414\n\nSource: <S> Hey it 's Santa EOS PAD PAD PAD PAD\nTarget: <S> Nice to meet you , UNKNOWN ! EOS PAD\n\nPredicted: Nice to meet you , Santa ! EOS EOS EOS\tProba: -0.25506359338760376\nPredicted: Nice to meet you , Santa ! EOS EOS !\tProba: -1.5176769495010376\nPredicted: Nice to meet you , Santa ! EOS EOS Nice\tProba: -5.464984893798828\n\nSource: <S> My friends call me Jaleesa . EOS PAD PAD\nTarget: <S> Nice to meet you , UNKNOWN ! EOS PAD\n\nPredicted: Nice to meet you , Jaleesa ! EOS EOS EOS\tProba: -0.048473626375198364\nPredicted: Nice to meet you , Jaleesa ! EOS EOS !\tProba: -3.1472995281219482\nPredicted: Nice to meet you , Jaleesa ! EOS EOS Nice\tProba: -5.888250827789307\n\nSource: <S> Its UNKNOWN actually . EOS PAD PAD PAD PAD\nTarget: <S> Nice to meet you , UNKNOWN ! EOS PAD\n\nPredicted: Nice to meet you , UNKNOWN ! EOS EOS EOS\tProba: -0.07723009586334229\nPredicted: Nice to meet you , UNKNOWN ! EOS EOS !\tProba: -2.861287832260132\nPredicted: Nice to meet you , Its ! EOS EOS EOS\tProba: -4.618648529052734\n\nSource: <S> You can call me UNKNOWN EOS PAD PAD PAD\nTarget: <S> Nice to meet you , UNKNOWN ! EOS PAD\n\nPredicted: Nice to meet you , UNKNOWN ! EOS EOS EOS\tProba: -0.2317562848329544\nPredicted: Nice to meet you , UNKNOWN ! EOS EOS !\tProba: -1.6405055522918701\nPredicted: Nice to meet you , UNKNOWN ! EOS EOS Nice\tProba: -4.61733865737915\n\n"
    }
   ],
   "source": [
    "pred, pred_proba = model.predict(val.unbatch().take(50).batch(5))\n",
    "for i, Xy in enumerate(val.unbatch().take(50)):\n",
    "    X, y = Xy\n",
    "    s = model.vocab.inverse_transform(X[0].numpy()[np.newaxis, :], \"source\")[0]\n",
    "    t = model.vocab.inverse_transform(y[0].numpy()[np.newaxis, :], \"target\")[0]\n",
    "    print(f\"Source: {' '.join(s)}\\nTarget: {' '.join(t)}\\n\")\n",
    "    for j in range(3):\n",
    "        p = idx2str(pred[i][j].numpy(), X[0].numpy())\n",
    "        print(f\"Predicted: {' '.join(p)}\\tProba: {pred_proba[i][j]}\")\n",
    "    print(\"\")"
   ]
  },
  {
   "cell_type": "code",
   "execution_count": null,
   "metadata": {},
   "outputs": [],
   "source": []
  }
 ],
 "metadata": {
  "language_info": {
   "codemirror_mode": {
    "name": "ipython",
    "version": 3
   },
   "file_extension": ".py",
   "mimetype": "text/x-python",
   "name": "python",
   "nbconvert_exporter": "python",
   "pygments_lexer": "ipython3",
   "version": "3.6.9-final"
  },
  "orig_nbformat": 2,
  "kernelspec": {
   "name": "python3",
   "display_name": "Python 3"
  }
 },
 "nbformat": 4,
 "nbformat_minor": 2
}
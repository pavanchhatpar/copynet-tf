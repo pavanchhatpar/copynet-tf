{
 "cells": [
  {
   "cell_type": "code",
   "execution_count": 1,
   "metadata": {},
   "outputs": [],
   "source": [
    "import os\n",
    "os.chdir(\"/tf/src/examples/greetings\")\n",
    "\n",
    "from greetings import Dataset\n",
    "import tensorflow as tf\n",
    "import numpy as np\n",
    "import logging\n",
    "from greetings import GreetingModel, cfg\n",
    "from copynet_tf.loss import CopyNetLoss\n",
    "from copynet_tf.metrics import BLEU\n",
    "logging.basicConfig(\n",
    "        level=cfg.LOG_LVL,\n",
    "        filename=cfg.LOG_FILENAME,\n",
    "        format='%(message)s')"
   ]
  },
  {
   "cell_type": "code",
   "execution_count": 2,
   "metadata": {},
   "outputs": [],
   "source": [
    "data = Dataset()"
   ]
  },
  {
   "cell_type": "code",
   "execution_count": 3,
   "metadata": {},
   "outputs": [],
   "source": [
    "model = GreetingModel()"
   ]
  },
  {
   "cell_type": "code",
   "execution_count": 4,
   "metadata": {},
   "outputs": [],
   "source": [
    "RNG_SEED = 11\n",
    "to_gpu = tf.data.experimental.copy_to_device(\"/gpu:0\")\n",
    "data = data.train.shuffle(\n",
    "    buffer_size=10000, seed=RNG_SEED, reshuffle_each_iteration=False)\n",
    "train = data.skip(512).batch(512, drop_remainder=True).apply(to_gpu)\n",
    "val = data.take(512).batch(512, drop_remainder=True).apply(to_gpu)\n",
    "with tf.device(\"/gpu:0\"):\n",
    "    train = train.prefetch(3)\n",
    "    val = val.prefetch(3)"
   ]
  },
  {
   "cell_type": "code",
   "execution_count": 5,
   "metadata": {},
   "outputs": [
    {
     "output_type": "stream",
     "name": "stdout",
     "text": "source idx from source vocab\n [[   2   11   29    4   15    7 2723  773    4    3]\n [   2   22   75    8   14    4    3    0    0    0]\n [   2   18   28    6    5  232 4784    3    0    0]]\n\nsource idx from target vocab\n [[ 2  1  1  1  1  1  1  1  1  3]\n [ 2  1 54  8  1  1  3  0  0  0]\n [ 2  1  1  1  1  1  1  3  0  0]]\n\ntarget idx from target vocab\n [[ 2  4  5  6  7  8  1  1  9  3]\n [ 2  4  5  6  7  8 54  9  3  0]\n [ 2  4  5  6  7  8  1  1  9  3]]\n\ntarget idx from source vocab\n [[   2    1    1    1    1    8 2723  773    1    3]\n [   2    1    1    1    1    8   75    1    3    0]\n [   2    1    1    1    1    8  232 4784    1    3]]\n"
    }
   ],
   "source": [
    "X, y = next(val.as_numpy_iterator())\n",
    "print(\"source idx from source vocab\\n\", X[0][:3])\n",
    "print(\"\\nsource idx from target vocab\\n\", X[1][:3])\n",
    "print(\"\\ntarget idx from target vocab\\n\", y[0][:3])\n",
    "print(\"\\ntarget idx from source vocab\\n\", y[1][:3])"
   ]
  },
  {
   "cell_type": "code",
   "execution_count": 6,
   "metadata": {},
   "outputs": [],
   "source": [
    "model.compile(\n",
    "    optimizer=tf.keras.optimizers.Adam(1e-3, clipnorm=cfg.CLIP_NORM),\n",
    "    loss=CopyNetLoss(),\n",
    "    metrics=[\n",
    "        BLEU(ignore_tokens=[0,2,3], ignore_all_tokens_after=3),\n",
    "        BLEU(ignore_tokens=[0,2,3], ignore_all_tokens_after=3, name='bleu-smooth', smooth=True)])"
   ]
  },
  {
   "cell_type": "code",
   "execution_count": 7,
   "metadata": {},
   "outputs": [
    {
     "output_type": "stream",
     "name": "stdout",
     "text": "Epoch 1/5\n8/8 [==============================] - 5s 683ms/step - loss: 1.3554 - bleu: 0.5098 - bleu-smooth: 0.5098 - val_loss: 0.1878 - val_bleu: 0.8235 - val_bleu-smooth: 0.8235\nEpoch 2/5\n8/8 [==============================] - 4s 458ms/step - loss: 0.1361 - bleu: 0.8692 - bleu-smooth: 0.8692 - val_loss: 0.0701 - val_bleu: 0.9381 - val_bleu-smooth: 0.9381\nEpoch 3/5\n8/8 [==============================] - 4s 469ms/step - loss: 0.0407 - bleu: 0.9680 - bleu-smooth: 0.9680 - val_loss: 0.0210 - val_bleu: 0.9858 - val_bleu-smooth: 0.9858\nEpoch 4/5\n8/8 [==============================] - 4s 473ms/step - loss: 0.0113 - bleu: 0.9937 - bleu-smooth: 0.9937 - val_loss: 0.0075 - val_bleu: 0.9951 - val_bleu-smooth: 0.9951\nEpoch 5/5\n8/8 [==============================] - 4s 481ms/step - loss: 0.0045 - bleu: 0.9979 - bleu-smooth: 0.9979 - val_loss: 0.0048 - val_bleu: 0.9974 - val_bleu-smooth: 0.9974\n"
    }
   ],
   "source": [
    "hist = model.fit(train, epochs=5, validation_data=val, shuffle=False)"
   ]
  },
  {
   "cell_type": "code",
   "execution_count": 8,
   "metadata": {},
   "outputs": [],
   "source": [
    "def idx2str(pred_y, X):\n",
    "    ret = []\n",
    "    vocab_len = model.vocab.get_vocab_size(\"target\")\n",
    "    for idx in pred_y:\n",
    "        if idx < vocab_len:\n",
    "            ret.append(model.vocab.get_token_text(idx, \"target\"))\n",
    "        else:\n",
    "            ret.append(model.vocab.get_token_text(X[idx-vocab_len], \"source\"))\n",
    "    return ret"
   ]
  },
  {
   "cell_type": "code",
   "execution_count": 9,
   "metadata": {},
   "outputs": [
    {
     "output_type": "stream",
     "name": "stdout",
     "text": "Source: <S> Call me Alma Poole EOS PAD PAD PAD PAD\nTarget: <S> Nice to meet you , UNKNOWN UNKNOWN ! EOS\n\nPredicted: Nice to meet you , Alma Poole ! EOS\tProba: 0.9968473315238953\nPredicted: Nice to meet you , Alma ! EOS EOS\tProba: 0.0014781506033614278\nPredicted: Nice to meet you Alma Poole ! EOS EOS\tProba: 0.000958629825618118\nPredicted: to meet you , Alma Poole ! EOS EOS\tProba: 0.00020651805971283466\nPredicted: Nice meet you , Alma Poole ! EOS EOS\tProba: 0.00013739355199504644\nPredicted: Nice to you , Alma Poole ! EOS EOS\tProba: 0.00012071990931872278\nPredicted: Nice to meet you , Poole ! EOS EOS\tProba: 5.467259688884951e-05\nPredicted: Nice to meet , Alma Poole ! EOS EOS\tProba: 5.102485010866076e-05\nPredicted: Nice to meet you , Alma Alma ! EOS\tProba: 3.107051088591106e-05\nPredicted: Nice to meet you , Alma EOS ! EOS\tProba: 2.0938558009220287e-05\n\nSource: <S> My friends call me Nathanael EOS PAD PAD PAD\nTarget: <S> Nice to meet you , UNKNOWN ! EOS PAD\n\nPredicted: Nice to meet you , Nathanael ! EOS EOS\tProba: 0.9988844990730286\nPredicted: to meet you , Nathanael ! EOS EOS EOS\tProba: 0.00034494942519813776\nPredicted: Nice meet you , Nathanael ! EOS EOS EOS\tProba: 0.00031807945924811065\nPredicted: Nice to meet you , me Nathanael ! EOS\tProba: 0.0001375562569592148\nPredicted: Nice to you , Nathanael ! EOS EOS EOS\tProba: 7.077413465594873e-05\nPredicted: Nice to meet , Nathanael ! EOS EOS EOS\tProba: 4.6746870793867856e-05\nPredicted: Nice to meet you , Nathanael Nice to meet\tProba: 3.798076795646921e-05\nPredicted: Nice to meet you , Nathanael Nathanael ! EOS\tProba: 3.506806751829572e-05\nPredicted: Nice to meet you , Nathanael EOS EOS EOS\tProba: 2.241277979919687e-05\nPredicted: Nice to meet meet you , Nathanael ! EOS\tProba: 1.2294877706153784e-05\n\nSource: <S> Please call me Devora Jamgochian . EOS PAD PAD\nTarget: <S> Nice to meet you , UNKNOWN UNKNOWN ! EOS\n\nPredicted: Nice to meet you , Devora Jamgochian ! EOS\tProba: 0.9986736178398132\nPredicted: Nice to meet you , Devora Jamgochian Jamgochian !\tProba: 0.0003787500609178096\nPredicted: Nice to meet , Devora Jamgochian ! EOS EOS\tProba: 0.00019755992980208248\nPredicted: to meet you , Devora Jamgochian ! EOS EOS\tProba: 0.00015905604232102633\nPredicted: Nice meet you , Devora Jamgochian ! EOS EOS\tProba: 0.00014355625899042934\nPredicted: Nice to meet you , Devora . ! EOS\tProba: 9.779142419574782e-05\nPredicted: Nice to meet you Devora Jamgochian ! EOS EOS\tProba: 9.253551252186298e-05\nPredicted: Nice to you , Devora Jamgochian ! EOS EOS\tProba: 8.696861914359033e-05\nPredicted: Nice to meet you , Devora Jamgochian . !\tProba: 2.90147218038328e-05\nPredicted: Nice to meet you , me Jamgochian ! EOS\tProba: 2.32140355365118e-05\n\nSource: <S> My name is Elda Ackland EOS PAD PAD PAD\nTarget: <S> Nice to meet you , UNKNOWN UNKNOWN ! EOS\n\nPredicted: Nice to meet you , Elda Ackland ! EOS\tProba: 0.9984526634216309\nPredicted: Nice to meet you Elda Ackland ! EOS EOS\tProba: 0.0005310708656907082\nPredicted: Nice meet you , Elda Ackland ! EOS EOS\tProba: 0.0002679731696844101\nPredicted: to meet you , Elda Ackland ! EOS EOS\tProba: 0.00014283576456364244\nPredicted: Nice to meet , Elda Ackland ! EOS EOS\tProba: 0.00011956600792473182\nPredicted: Nice to you , Elda Ackland ! EOS EOS\tProba: 0.00011834558245027438\nPredicted: Nice to meet you , Elda ! EOS EOS\tProba: 0.00010028104588855058\nPredicted: Nice to meet you , Ackland ! EOS EOS\tProba: 8.238987356889993e-05\nPredicted: Nice to meet you , Ackland Ackland ! EOS\tProba: 6.90473461872898e-05\nPredicted: Nice to meet you , Elda Ackland Ackland !\tProba: 2.2979913410381414e-05\n\nSource: <S> I go by Renetta Stanganelli . EOS PAD PAD\nTarget: <S> Nice to meet you , UNKNOWN UNKNOWN ! EOS\n\nPredicted: Nice to meet you , Renetta Stanganelli ! EOS\tProba: 0.9963035583496094\nPredicted: Nice to meet you , by Stanganelli ! EOS\tProba: 0.0012167466338723898\nPredicted: Nice to meet you , Renetta Stanganelli Stanganelli !\tProba: 0.0009727644501253963\nPredicted: Nice meet you , Renetta Stanganelli ! EOS EOS\tProba: 0.00029577972600236535\nPredicted: Nice to meet , Renetta Stanganelli ! EOS EOS\tProba: 0.00023847918782848865\nPredicted: Nice to meet you , Renetta Stanganelli . !\tProba: 0.00019810102821793407\nPredicted: Nice to meet you , Renetta . ! EOS\tProba: 0.00016943686932791024\nPredicted: Nice to meet you , by Stanganelli Stanganelli !\tProba: 0.00014292323612608016\nPredicted: Nice to you , Renetta Stanganelli ! EOS EOS\tProba: 0.00011309653200441971\nPredicted: to meet you , Renetta Stanganelli ! EOS EOS\tProba: 9.756403596838936e-05\n\nSource: <S> Hey , it 's Tony Donn EOS PAD PAD\nTarget: <S> Nice to meet you , UNKNOWN UNKNOWN ! EOS\n\nPredicted: Nice to meet you , Tony Donn ! EOS\tProba: 0.96463942527771\nPredicted: Nice to meet you , Donn ! EOS EOS\tProba: 0.03030017390847206\nPredicted: Nice to meet you , Tony ! EOS EOS\tProba: 0.0030551981180906296\nPredicted: Nice to meet you , Donn Donn ! EOS\tProba: 0.0005535046802833676\nPredicted: Nice to meet you Tony Donn ! EOS EOS\tProba: 0.00031433714320883155\nPredicted: Nice to meet you , Tony Tony ! EOS\tProba: 0.00030020790291018784\nPredicted: to meet you , Tony Donn ! EOS EOS\tProba: 0.0002326610847376287\nPredicted: Nice meet you , Tony Donn ! EOS EOS\tProba: 0.00017556321108713746\nPredicted: Nice to you , Tony Donn ! EOS EOS\tProba: 0.00011416675988584757\nPredicted: Nice to meet you , Tony EOS ! EOS\tProba: 0.00010634796490194276\n\nSource: <S> Hey call me Frederica Mcclay . EOS PAD PAD\nTarget: <S> Nice to meet you , UNKNOWN UNKNOWN ! EOS\n\nPredicted: Nice to meet you , Frederica Mcclay ! EOS\tProba: 0.9924331307411194\nPredicted: Nice to meet you , Frederica ! EOS EOS\tProba: 0.006474196445196867\nPredicted: to meet you , Frederica Mcclay ! EOS EOS\tProba: 0.00020365181262604892\nPredicted: Nice to meet you , Frederica Frederica ! EOS\tProba: 0.00018604368960950524\nPredicted: Nice meet you , Frederica Mcclay ! EOS EOS\tProba: 0.00015107383660506457\nPredicted: Nice to meet you , Frederica . ! EOS\tProba: 0.00011216130951652303\nPredicted: Nice to you , Frederica Mcclay ! EOS EOS\tProba: 0.00010389738599769771\nPredicted: Nice to meet you , Frederica Mcclay Mcclay !\tProba: 0.00010066134564112872\nPredicted: Nice to meet you Frederica Mcclay ! EOS EOS\tProba: 6.878006388433278e-05\nPredicted: Nice to meet , Frederica Mcclay ! EOS EOS\tProba: 5.198747385293245e-05\n\nSource: <S> Please call me Bethanie Upright EOS PAD PAD PAD\nTarget: <S> Nice to meet you , UNKNOWN UNKNOWN ! EOS\n\nPredicted: Nice to meet you , Bethanie Upright ! EOS\tProba: 0.9984347820281982\nPredicted: Nice to meet you Bethanie Upright ! EOS EOS\tProba: 0.00037491126568056643\nPredicted: Nice to you , Bethanie Upright ! EOS EOS\tProba: 0.00024067048798315227\nPredicted: Nice to meet you , Bethanie ! EOS EOS\tProba: 0.00020843296078965068\nPredicted: to meet you , Bethanie Upright ! EOS EOS\tProba: 0.00018054788233712316\nPredicted: Nice to meet you , Bethanie Upright Upright !\tProba: 0.00015958675066940486\nPredicted: Nice to meet , Bethanie Upright ! EOS EOS\tProba: 0.0001563403056934476\nPredicted: Nice meet you , Bethanie Upright ! EOS EOS\tProba: 0.00014734470460098237\nPredicted: Nice to to meet you , Bethanie Upright !\tProba: 1.643033465370536e-05\nPredicted: Nice you meet you , Bethanie Upright ! EOS\tProba: 1.3654677786689717e-05\n\nSource: <S> My name is Erma Herbolsheimer EOS PAD PAD PAD\nTarget: <S> Nice to meet you , UNKNOWN UNKNOWN ! EOS\n\nPredicted: Nice to meet you , Erma Herbolsheimer ! EOS\tProba: 0.9984121918678284\nPredicted: Nice to meet you , Erma Herbolsheimer Herbolsheimer !\tProba: 0.0006189577397890389\nPredicted: Nice to meet , Erma Herbolsheimer ! EOS EOS\tProba: 0.00025311787612736225\nPredicted: Nice to meet you Erma Herbolsheimer ! EOS EOS\tProba: 0.000199445232283324\nPredicted: Nice meet you , Erma Herbolsheimer ! EOS EOS\tProba: 0.00018906104378402233\nPredicted: to meet you , Erma Herbolsheimer ! EOS EOS\tProba: 0.00010311048390576616\nPredicted: Nice to you , Erma Herbolsheimer ! EOS EOS\tProba: 7.231823110487312e-05\nPredicted: Nice to meet you , Erma Herbolsheimer EOS !\tProba: 5.85020097787492e-05\nPredicted: Nice to meet meet you , Erma Herbolsheimer !\tProba: 1.9386083295103163e-05\nPredicted: Nice to to meet you , Erma Herbolsheimer !\tProba: 1.527459971839562e-05\n\nSource: <S> My name is Teresa . EOS PAD PAD PAD\nTarget: <S> Nice to meet you , UNKNOWN ! EOS PAD\n\nPredicted: Nice to meet you , Teresa ! EOS EOS\tProba: 0.9984586238861084\nPredicted: to meet you , Teresa ! EOS EOS EOS\tProba: 0.0003948067023884505\nPredicted: Nice to meet you , Teresa . ! EOS\tProba: 0.00025537473266012967\nPredicted: Nice meet you , Teresa ! EOS EOS EOS\tProba: 0.00022468862880486995\nPredicted: Nice to you , Teresa ! EOS EOS EOS\tProba: 0.00011461163376225159\nPredicted: Nice to meet you Teresa ! EOS EOS EOS\tProba: 8.375119796255603e-05\nPredicted: Nice to meet you , Teresa Nice to meet\tProba: 7.694785017520189e-05\nPredicted: Nice to meet you , Teresa EOS EOS EOS\tProba: 5.577053889282979e-05\nPredicted: Nice to meet you , Teresa Yuonne ! EOS\tProba: 4.502794035943225e-05\nPredicted: Nice to meet you , Teresa @COPY@ ! EOS\tProba: 4.502794035943225e-05\n\n"
    }
   ],
   "source": [
    "pred = model.predict(train)\n",
    "pred, pred_proba = pred[\"predictions\"], pred[\"predicted_probas\"]\n",
    "for i, Xy in enumerate(train.unbatch().take(10)):\n",
    "    X, y = Xy\n",
    "    s = model.vocab.inverse_transform(X[0].numpy()[np.newaxis, :], \"source\")[0]\n",
    "    t = model.vocab.inverse_transform(y[0].numpy()[np.newaxis, :], \"target\")[0]\n",
    "    print(f\"Source: {' '.join(s)}\\nTarget: {' '.join(t)}\\n\")\n",
    "    for j in range(10):\n",
    "        p = idx2str(pred[i][j], X[0].numpy())\n",
    "        print(f\"Predicted: {' '.join(p)}\\tProba: {tf.exp(pred_proba[i][j])}\")\n",
    "    print(\"\")"
   ]
  },
  {
   "cell_type": "code",
   "execution_count": 10,
   "metadata": {},
   "outputs": [
    {
     "output_type": "stream",
     "name": "stdout",
     "text": "Source: <S> Hi there . It 's Nyla Wais . EOS\nTarget: <S> Nice to meet you , UNKNOWN UNKNOWN ! EOS\n\nPredicted: Nice to meet you , Nyla Wais ! EOS\tProba: 0.9964045286178589\nPredicted: Nice to meet you Nyla Wais ! EOS EOS\tProba: 0.002326371381059289\nPredicted: Nice to meet you , Nyla . ! EOS\tProba: 0.0002857318613678217\nPredicted: Nice meet you , Nyla Wais ! EOS EOS\tProba: 0.00026062471442855895\nPredicted: Nice to meet , Nyla Wais ! EOS EOS\tProba: 0.00017058607772924006\nPredicted: Nice to you , Nyla Wais ! EOS EOS\tProba: 0.00014674717385787517\nPredicted: to meet you , Nyla Wais ! EOS EOS\tProba: 0.00013336109986994416\nPredicted: Nice to meet you , Nyla Wais Wais !\tProba: 0.00010054439189843833\nPredicted: Nice to meet you , Nyla Wais . !\tProba: 5.6527103879489005e-05\nPredicted: Nice to meet you , Nyla ! EOS EOS\tProba: 2.9029641154920682e-05\n\nSource: <S> Its Roseann , actually . EOS PAD PAD PAD\nTarget: <S> Nice to meet you , Roseann ! EOS PAD\n\nPredicted: Nice to meet you , Roseann ! EOS EOS\tProba: 0.9942710995674133\nPredicted: Nice to meet you , Roseann , Roseann !\tProba: 0.0025744556915014982\nPredicted: Nice to meet you , Roseann Roseann ! EOS\tProba: 0.0012925665359944105\nPredicted: Nice to meet you , Roseann <S> Nice to\tProba: 0.00032968996674753726\nPredicted: to meet you , Roseann ! EOS EOS EOS\tProba: 0.0003203355008736253\nPredicted: Nice to meet you , Roseann Nice to meet\tProba: 0.00019978694035671651\nPredicted: Nice meet you , Roseann ! EOS EOS EOS\tProba: 0.00019373249961063266\nPredicted: Nice to you , Roseann ! EOS EOS EOS\tProba: 9.074207628145814e-05\nPredicted: Nice to meet you , Roseann Aurelia ! EOS\tProba: 7.871990237617865e-05\nPredicted: Nice to meet you , Roseann Yuonne ! EOS\tProba: 7.807810470694676e-05\n\nSource: <S> My friends call me Darrin Palsgrove EOS PAD PAD\nTarget: <S> Nice to meet you , UNKNOWN UNKNOWN ! EOS\n\nPredicted: Nice to meet you , Darrin Palsgrove ! EOS\tProba: 0.9862697124481201\nPredicted: Nice to meet you , Darrin ! EOS EOS\tProba: 0.012829695828258991\nPredicted: to meet you , Darrin Palsgrove ! EOS EOS\tProba: 0.00019115304166916758\nPredicted: Nice meet you , Darrin Palsgrove ! EOS EOS\tProba: 0.00017558330728206784\nPredicted: Nice to meet you , Darrin Darrin ! EOS\tProba: 0.0001475097524235025\nPredicted: Nice to you , Darrin Palsgrove ! EOS EOS\tProba: 0.00011798789637396112\nPredicted: Nice to meet , Darrin Palsgrove ! EOS EOS\tProba: 4.77735411550384e-05\nPredicted: Nice to meet you , me Palsgrove ! EOS\tProba: 2.9458964490913786e-05\nPredicted: Nice to meet you , Darrin Palsgrove Palsgrove !\tProba: 2.761955875030253e-05\nPredicted: Nice to meet you Darrin Palsgrove ! EOS EOS\tProba: 2.551652505644597e-05\n\nSource: <S> Mona Mackaman is my name . EOS PAD PAD\nTarget: <S> Nice to meet you , UNKNOWN UNKNOWN ! EOS\n\nPredicted: Nice to meet you , Mona Mackaman ! EOS\tProba: 0.9916567802429199\nPredicted: Nice to meet you , Mona Mackaman Mackaman !\tProba: 0.0065078712068498135\nPredicted: Nice to meet you , Mona Mona Mackaman !\tProba: 0.0004128407745156437\nPredicted: Nice meet you , Mona Mackaman ! EOS EOS\tProba: 0.0003391124773770571\nPredicted: Nice to meet you Mona Mackaman ! EOS EOS\tProba: 0.00032216974068433046\nPredicted: to meet you , Mona Mackaman ! EOS EOS\tProba: 0.00023182740551419556\nPredicted: Nice to you , Mona Mackaman ! EOS EOS\tProba: 6.707230204483494e-05\nPredicted: Nice to meet , Mona Mackaman ! EOS EOS\tProba: 6.402508006431162e-05\nPredicted: Nice to meet you , Mona is ! EOS\tProba: 3.7586891266983e-05\nPredicted: Nice to meet you , Mona Mackaman Nice to\tProba: 3.143046342302114e-05\n\nSource: <S> Its Jeanett Salamacha , actually . EOS PAD PAD\nTarget: <S> Nice to meet you , UNKNOWN UNKNOWN ! EOS\n\nPredicted: Nice to meet you , Jeanett Salamacha ! EOS\tProba: 0.7746345400810242\nPredicted: Nice to meet you , Jeanett ! EOS EOS\tProba: 0.21624723076820374\nPredicted: Nice to meet you , Jeanett Jeanett ! EOS\tProba: 0.005041138269007206\nPredicted: Nice to meet you , Jeanett , Jeanett !\tProba: 0.00201427168212831\nPredicted: Nice to meet you , Jeanett , Salamacha !\tProba: 0.00046968902461230755\nPredicted: Nice to meet you , Jeanett Salamacha Salamacha !\tProba: 0.0003455350233707577\nPredicted: to meet you , Jeanett Salamacha ! EOS EOS\tProba: 0.00010398709855508059\nPredicted: Nice meet you , Jeanett Salamacha ! EOS EOS\tProba: 0.00010240783740300685\nPredicted: Nice to meet you , Jeanett , Jeanett Salamacha\tProba: 6.814511289121583e-05\nPredicted: Nice to you , Jeanett Salamacha ! EOS EOS\tProba: 6.183965888340026e-05\n\nSource: <S> Its Arlyne Sanzone EOS PAD PAD PAD PAD PAD\nTarget: <S> Nice to meet you , UNKNOWN UNKNOWN ! EOS\n\nPredicted: Nice to meet you , Arlyne Sanzone ! EOS\tProba: 0.9985606670379639\nPredicted: Nice to meet you , Arlyne ! EOS EOS\tProba: 0.0006307861767709255\nPredicted: Nice meet you , Arlyne Sanzone ! EOS EOS\tProba: 0.0002656016731634736\nPredicted: Nice to meet , Arlyne Sanzone ! EOS EOS\tProba: 0.00010322914749849588\nPredicted: to meet you , Arlyne Sanzone ! EOS EOS\tProba: 9.235459583578631e-05\nPredicted: Nice to you , Arlyne Sanzone ! EOS EOS\tProba: 8.460172830382362e-05\nPredicted: Nice to meet you , Arlyne Sanzone Sanzone !\tProba: 7.85810625529848e-05\nPredicted: Nice to meet you , Arlyne EOS Sanzone !\tProba: 4.1569717723177746e-05\nPredicted: Nice to meet you , Arlyne EOS ! EOS\tProba: 2.621009298309218e-05\nPredicted: Nice to meet you , Its Sanzone ! EOS\tProba: 2.397188109171111e-05\n\nSource: <S> It 's Larue EOS PAD PAD PAD PAD PAD\nTarget: <S> Nice to meet you , UNKNOWN ! EOS PAD\n\nPredicted: Nice to meet you , Larue ! EOS EOS\tProba: 0.9945008754730225\nPredicted: Nice to meet you , Larue Larue ! EOS\tProba: 0.004581034649163485\nPredicted: to meet you , Larue ! EOS EOS EOS\tProba: 0.0002215571003034711\nPredicted: Nice meet you , Larue ! EOS EOS EOS\tProba: 0.00015322126273531467\nPredicted: Nice to meet you , 's Larue ! EOS\tProba: 0.00010042460780823603\nPredicted: Nice to you , Larue ! EOS EOS EOS\tProba: 8.686699584359303e-05\nPredicted: Nice to meet you , Larue Nice to meet\tProba: 6.695905904052779e-05\nPredicted: Nice to meet , Larue ! EOS EOS EOS\tProba: 4.7722223825985566e-05\nPredicted: Nice to meet you , Larue EOS EOS EOS\tProba: 4.3998632463626564e-05\nPredicted: Nice to meet you , Larue EOS ! EOS\tProba: 3.451707380008884e-05\n\nSource: <S> It 's Hue , actually . EOS PAD PAD\nTarget: <S> Nice to meet you , UNKNOWN ! EOS PAD\n\nPredicted: Nice to meet you , Hue ! EOS EOS\tProba: 0.9081628918647766\nPredicted: Nice to meet you , Hue Hue ! EOS\tProba: 0.08720355480909348\nPredicted: Nice to meet you , Hue , Hue !\tProba: 0.001963707385584712\nPredicted: Nice to meet you , 's Hue ! EOS\tProba: 0.0007987351273186505\nPredicted: to meet you , Hue ! EOS EOS EOS\tProba: 0.00029503711266443133\nPredicted: Nice meet you , Hue ! EOS EOS EOS\tProba: 0.00015930803783703595\nPredicted: Nice to meet you , Hue Yuonne ! EOS\tProba: 0.0001559393131174147\nPredicted: Nice to meet you , Hue @COPY@ ! EOS\tProba: 0.0001559393131174147\nPredicted: Nice to meet you , Hue <S> ! EOS\tProba: 0.00015244484529830515\nPredicted: Nice to meet you , Hue EOS EOS EOS\tProba: 0.00013270556519273669\n\nSource: <S> Hey call me Jeanene Akhand . EOS PAD PAD\nTarget: <S> Nice to meet you , UNKNOWN UNKNOWN ! EOS\n\nPredicted: Nice to meet you , Jeanene Akhand ! EOS\tProba: 0.9966232180595398\nPredicted: Nice to meet you Jeanene Akhand ! EOS EOS\tProba: 0.001524734077975154\nPredicted: Nice to meet you , Jeanene Akhand Akhand !\tProba: 0.0010355858830735087\nPredicted: Nice to meet , Jeanene Akhand ! EOS EOS\tProba: 0.00024599352036602795\nPredicted: Nice meet you , Jeanene Akhand ! EOS EOS\tProba: 0.000142045842949301\nPredicted: Nice to you , Jeanene Akhand ! EOS EOS\tProba: 0.00012528355000540614\nPredicted: to meet you , Jeanene Akhand ! EOS EOS\tProba: 8.971535135060549e-05\nPredicted: Nice to meet you , Jeanene Akhand . !\tProba: 5.3294887038646266e-05\nPredicted: Nice to meet you me Jeanene Akhand ! EOS\tProba: 2.4851877242326736e-05\nPredicted: Nice to meet you , me Akhand ! EOS\tProba: 2.374800169491209e-05\n\nSource: <S> My name is Shad EOS PAD PAD PAD PAD\nTarget: <S> Nice to meet you , UNKNOWN ! EOS PAD\n\nPredicted: Nice to meet you , Shad ! EOS EOS\tProba: 0.9944834113121033\nPredicted: Nice to meet you , Shad Shad ! EOS\tProba: 0.003022346878424287\nPredicted: Nice to meet you , is Shad ! EOS\tProba: 0.0013941498473286629\nPredicted: to meet you , Shad ! EOS EOS EOS\tProba: 0.0003445030015427619\nPredicted: Nice meet you , Shad ! EOS EOS EOS\tProba: 0.0002024351997533813\nPredicted: Nice to you , Shad ! EOS EOS EOS\tProba: 0.00010934127931250259\nPredicted: Nice to meet you , is ! EOS EOS\tProba: 9.652887092670426e-05\nPredicted: Nice to meet you , Shad Nice to meet\tProba: 6.528169615194201e-05\nPredicted: Nice to meet you , name Shad ! EOS\tProba: 3.791486960835755e-05\nPredicted: Nice to meet you , Shad EOS EOS EOS\tProba: 3.533329800120555e-05\n\n"
    }
   ],
   "source": [
    "pred = model.predict(val.unbatch().take(50).batch(5, drop_remainder=True))\n",
    "pred, pred_proba = pred[\"predictions\"], pred[\"predicted_probas\"]\n",
    "for i, Xy in enumerate(val.unbatch().take(10)):\n",
    "    X, y = Xy\n",
    "    s = model.vocab.inverse_transform(X[0].numpy()[np.newaxis, :], \"source\")[0]\n",
    "    t = model.vocab.inverse_transform(y[0].numpy()[np.newaxis, :], \"target\")[0]\n",
    "    print(f\"Source: {' '.join(s)}\\nTarget: {' '.join(t)}\\n\")\n",
    "    for j in range(10):\n",
    "        p = idx2str(pred[i][j], X[0].numpy())\n",
    "        print(f\"Predicted: {' '.join(p)}\\tProba: {tf.exp(pred_proba[i][j])}\")\n",
    "    print(\"\")"
   ]
  }
 ],
 "metadata": {
  "language_info": {
   "codemirror_mode": {
    "name": "ipython",
    "version": 3
   },
   "file_extension": ".py",
   "mimetype": "text/x-python",
   "name": "python",
   "nbconvert_exporter": "python",
   "pygments_lexer": "ipython3",
   "version": "3.6.9-final"
  },
  "orig_nbformat": 2,
  "kernelspec": {
   "name": "python3",
   "display_name": "Python 3"
  }
 },
 "nbformat": 4,
 "nbformat_minor": 2
}
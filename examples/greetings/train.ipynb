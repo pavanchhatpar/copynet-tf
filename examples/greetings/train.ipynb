{
 "cells": [
  {
   "cell_type": "code",
   "execution_count": 1,
   "metadata": {},
   "outputs": [],
   "source": [
    "import os\n",
    "os.chdir(\"/tf/src/examples/greetings\")\n",
    "\n",
    "from greetings import Dataset\n",
    "import tensorflow as tf\n",
    "import numpy as np\n",
    "import logging\n",
    "from greetings import GreetingModel\n",
    "from greetings import cfg\n",
    "logging.basicConfig(\n",
    "        level=cfg.LOG_LVL,\n",
    "        filename=cfg.LOG_FILENAME,\n",
    "        format='%(message)s')"
   ]
  },
  {
   "cell_type": "code",
   "execution_count": 2,
   "metadata": {},
   "outputs": [],
   "source": [
    "data = Dataset()"
   ]
  },
  {
   "cell_type": "code",
   "execution_count": 3,
   "metadata": {},
   "outputs": [],
   "source": [
    "model = GreetingModel()"
   ]
  },
  {
   "cell_type": "code",
   "execution_count": 4,
   "metadata": {},
   "outputs": [],
   "source": [
    "RNG_SEED = 11\n",
    "to_gpu = tf.data.experimental.copy_to_device(\"/gpu:0\")\n",
    "train = data.train.shuffle(\n",
    "    buffer_size=10000, seed=RNG_SEED, reshuffle_each_iteration=False)\\\n",
    "    .batch(128).apply(to_gpu)\n",
    "val = data.test.batch(128).apply(to_gpu)\n",
    "with tf.device(\"/gpu:0\"):\n",
    "    train = train.prefetch(3)\n",
    "    val = val.prefetch(3)"
   ]
  },
  {
   "cell_type": "code",
   "execution_count": 5,
   "metadata": {},
   "outputs": [
    {
     "output_type": "stream",
     "name": "stdout",
     "text": "source idx from source vocab\n [[   2   24    6    5    1    1    3    0    0    0]\n [   2   22 2239    3    0    0    0    0    0    0]\n [   2   26   27    6    5 2042    4    3    0    0]]\n\nsource idx from target vocab\n [[2 1 1 1 1 1 3 0 0 0]\n [2 1 1 3 0 0 0 0 0 0]\n [2 1 1 1 1 1 1 3 0 0]]\n\ntarget idx from target vocab\n [[2 4 5 6 7 8 1 1 9 3]\n [2 4 5 6 7 8 1 9 3 0]\n [2 4 5 6 7 8 1 9 3 0]]\n\ntarget idx from source vocab\n [[   2    1    1    1    1    8    1    1    1    3]\n [   2    1    1    1    1    8 2239    1    3    0]\n [   2    1    1    1    1    8 2042    1    3    0]]\n"
    }
   ],
   "source": [
    "X, y = next(val.as_numpy_iterator())\n",
    "print(\"source idx from source vocab\\n\", X[0][:3])\n",
    "print(\"\\nsource idx from target vocab\\n\", X[1][:3])\n",
    "print(\"\\ntarget idx from target vocab\\n\", y[0][:3])\n",
    "print(\"\\ntarget idx from source vocab\\n\", y[1][:3])"
   ]
  },
  {
   "cell_type": "code",
   "execution_count": 6,
   "metadata": {},
   "outputs": [
    {
     "output_type": "stream",
     "name": "stderr",
     "text": "Epoch 1/5: 40it [00:25,  1.56it/s, train-loss=2.5701, train-bleu=0.903, train-bleu-smooth=0.903, val-loss=11.4684, val-bleu=0.988, val-bleu-smooth=0.988]\nEpoch 2/5: 40it [00:07,  5.13it/s, train-loss=0.0295, train-bleu=0.999, train-bleu-smooth=0.999, val-loss=13.1156, val-bleu=0.999, val-bleu-smooth=0.999]\nEpoch 3/5: 40it [00:07,  5.09it/s, train-loss=0.0115, train-bleu=1, train-bleu-smooth=1, val-loss=12.9788, val-bleu=0.999, val-bleu-smooth=0.999]\nEpoch 4/5: 40it [00:07,  5.15it/s, train-loss=0.0062, train-bleu=1, train-bleu-smooth=1, val-loss=13.0422, val-bleu=1, val-bleu-smooth=1]\nEpoch 5/5: 40it [00:07,  5.16it/s, train-loss=0.0027, train-bleu=1, train-bleu-smooth=1, val-loss=14.0288, val-bleu=1, val-bleu-smooth=1]\n"
    }
   ],
   "source": [
    "model.fit(train, cfg.EPOCHS, cfg.MODEL_SAVE, val)"
   ]
  },
  {
   "cell_type": "code",
   "execution_count": 7,
   "metadata": {},
   "outputs": [],
   "source": [
    "def idx2str(pred_y, X):\n",
    "    ret = []\n",
    "    vocab_len = model.vocab.get_vocab_size(\"target\")\n",
    "    for idx in pred_y:\n",
    "        if idx < vocab_len:\n",
    "            ret.append(model.vocab.get_token_text(idx, \"target\"))\n",
    "        else:\n",
    "            ret.append(model.vocab.get_token_text(X[idx-vocab_len], \"source\"))\n",
    "    return ret"
   ]
  },
  {
   "cell_type": "code",
   "execution_count": 8,
   "metadata": {},
   "outputs": [
    {
     "output_type": "stream",
     "name": "stdout",
     "text": "Source: <S> Hi there . It 's Nyla Wais . EOS\nTarget: <S> Nice to meet you , UNKNOWN UNKNOWN ! EOS\n\nPredicted: Nice to meet you , Nyla Wais ! EOS\tProba: -0.00039218258461914957\nPredicted: Nice to you , Nyla Wais ! EOS EOS\tProba: -9.580429077148438\nPredicted: Nice to meet , Nyla Wais ! EOS EOS\tProba: -9.635198593139648\n\nSource: <S> Its Roseann , actually . EOS PAD PAD PAD\nTarget: <S> Nice to meet you , Roseann ! EOS PAD\n\nPredicted: Nice to meet you , Roseann ! EOS EOS\tProba: -0.003804194275289774\nPredicted: Nice to meet you , Roseann UNKNOWN ! EOS\tProba: -6.981112957000732\nPredicted: Nice to meet you , Roseann ! EOS !\tProba: -7.280373573303223\n\nSource: <S> My friends call me Darrin Palsgrove EOS PAD PAD\nTarget: <S> Nice to meet you , UNKNOWN UNKNOWN ! EOS\n\nPredicted: Nice to meet you , Darrin Palsgrove ! EOS\tProba: -0.0005868198350071907\nPredicted: Nice to meet you , Darrin Palsgrove EOS EOS\tProba: -8.823004722595215\nPredicted: Nice to meet you , Darrin Palsgrove Palsgrove !\tProba: -9.090119361877441\n\nSource: <S> Mona Mackaman is my name . EOS PAD PAD\nTarget: <S> Nice to meet you , UNKNOWN UNKNOWN ! EOS\n\nPredicted: Nice to meet you , Mona Mackaman ! EOS\tProba: -0.016442518681287766\nPredicted: Nice to meet you , Mona Mackaman is !\tProba: -4.838580131530762\nPredicted: Nice to meet you , Mona Mackaman Mackaman !\tProba: -4.839619159698486\n\nSource: <S> Its Jeanett Salamacha , actually . EOS PAD PAD\nTarget: <S> Nice to meet you , UNKNOWN UNKNOWN ! EOS\n\nPredicted: Nice to meet you , Jeanett Salamacha ! EOS\tProba: -0.014182615093886852\nPredicted: Nice to meet you , Jeanett ! EOS EOS\tProba: -4.305832386016846\nPredicted: Nice to meet you , Jeanett Salamacha EOS EOS\tProba: -8.30562686920166\n\nSource: <S> Its Arlyne Sanzone EOS PAD PAD PAD PAD PAD\nTarget: <S> Nice to meet you , UNKNOWN UNKNOWN ! EOS\n\nPredicted: Nice to meet you , Arlyne Sanzone ! EOS\tProba: -0.0003632165607996285\nPredicted: Nice to meet , Arlyne Sanzone ! EOS EOS\tProba: -9.420403480529785\nPredicted: Nice meet you , Arlyne Sanzone ! EOS EOS\tProba: -9.58649730682373\n\nSource: <S> It 's Larue EOS PAD PAD PAD PAD PAD\nTarget: <S> Nice to meet you , UNKNOWN ! EOS PAD\n\nPredicted: Nice to meet you , Larue ! EOS EOS\tProba: -0.0006704936968162656\nPredicted: Nice to meet you , Larue ! EOS !\tProba: -8.107027053833008\nPredicted: Nice meet you , Larue ! EOS EOS EOS\tProba: -10.128718376159668\n\nSource: <S> It 's Hue , actually . EOS PAD PAD\nTarget: <S> Nice to meet you , UNKNOWN ! EOS PAD\n\nPredicted: Nice to meet you , Hue ! EOS EOS\tProba: -0.0008498356910422444\nPredicted: Nice to meet you , Hue Hue ! EOS\tProba: -7.789050102233887\nPredicted: Nice to meet you , 's Hue ! EOS\tProba: -9.609335899353027\n\nSource: <S> Hey call me Jeanene Akhand . EOS PAD PAD\nTarget: <S> Nice to meet you , UNKNOWN UNKNOWN ! EOS\n\nPredicted: Nice to meet you , Jeanene Akhand ! EOS\tProba: -0.00037191229057498276\nPredicted: Nice to meet , Jeanene Akhand ! EOS EOS\tProba: -9.118688583374023\nPredicted: Nice meet you , Jeanene Akhand ! EOS EOS\tProba: -9.453886985778809\n\nSource: <S> My name is Shad EOS PAD PAD PAD PAD\nTarget: <S> Nice to meet you , UNKNOWN ! EOS PAD\n\nPredicted: Nice to meet you , Shad ! EOS EOS\tProba: -0.009780092164874077\nPredicted: Nice to meet you , Shad Shad ! EOS\tProba: -4.6984429359436035\nPredicted: Nice to meet you , Shad ! EOS !\tProba: -8.654394149780273\n\n"
    }
   ],
   "source": [
    "pred, pred_proba = model.predict(train)\n",
    "for i, Xy in enumerate(train.unbatch().take(10)):\n",
    "    X, y = Xy\n",
    "    s = model.vocab.inverse_transform(X[0].numpy()[np.newaxis, :], \"source\")[0]\n",
    "    t = model.vocab.inverse_transform(y[0].numpy()[np.newaxis, :], \"target\")[0]\n",
    "    print(f\"Source: {' '.join(s)}\\nTarget: {' '.join(t)}\\n\")\n",
    "    for j in range(3):\n",
    "        p = idx2str(pred[i][j].numpy(), X[0].numpy())\n",
    "        print(f\"Predicted: {' '.join(p)}\\tProba: {pred_proba[i][j]}\")\n",
    "    print(\"\")"
   ]
  },
  {
   "cell_type": "code",
   "execution_count": 9,
   "metadata": {},
   "outputs": [
    {
     "output_type": "stream",
     "name": "stdout",
     "text": "Source: <S> Please call me UNKNOWN UNKNOWN EOS PAD PAD PAD\nTarget: <S> Nice to meet you , UNKNOWN UNKNOWN ! EOS\n\nPredicted: Nice to meet you , UNKNOWN UNKNOWN ! EOS\tProba: -0.002882361877709627\nPredicted: Nice to meet you , me UNKNOWN ! EOS\tProba: -6.4662370681762695\nPredicted: Nice to meet you , UNKNOWN ! EOS EOS\tProba: -7.149600505828857\n\nSource: <S> Its Albert EOS PAD PAD PAD PAD PAD PAD\nTarget: <S> Nice to meet you , UNKNOWN ! EOS PAD\n\nPredicted: Nice to meet you , Albert ! EOS EOS\tProba: -0.0006932626711204648\nPredicted: Nice to meet you , Albert ! EOS !\tProba: -8.137771606445312\nPredicted: Nice to meet you , Albert Albert ! EOS\tProba: -9.505171775817871\n\nSource: <S> You can call me Tennille . EOS PAD PAD\nTarget: <S> Nice to meet you , UNKNOWN ! EOS PAD\n\nPredicted: Nice to meet you , Tennille ! EOS EOS\tProba: -0.000537598505616188\nPredicted: Nice to meet you , Tennille . ! EOS\tProba: -9.789536476135254\nPredicted: Nice to meet you , Tennille ! EOS !\tProba: -9.842598915100098\n\nSource: <S> Hi I 'm UNKNOWN UNKNOWN EOS PAD PAD PAD\nTarget: <S> Nice to meet you , UNKNOWN UNKNOWN ! EOS\n\nPredicted: Nice to meet you , UNKNOWN UNKNOWN ! EOS\tProba: -0.02694617211818695\nPredicted: Nice to meet you , 'm UNKNOWN ! EOS\tProba: -3.6709084510803223\nPredicted: Nice to meet you , UNKNOWN ! EOS EOS\tProba: -8.062145233154297\n\nSource: <S> Hi there . It 's UNKNOWN . EOS PAD\nTarget: <S> Nice to meet you , UNKNOWN ! EOS PAD\n\nPredicted: Nice to meet you , UNKNOWN ! EOS EOS\tProba: -0.04794814810156822\nPredicted: Nice to meet you , 's UNKNOWN ! EOS\tProba: -3.141688823699951\nPredicted: Nice to meet you , UNKNOWN UNKNOWN ! EOS\tProba: -6.05662727355957\n\nSource: <S> My name is UNKNOWN . EOS PAD PAD PAD\nTarget: <S> Nice to meet you , UNKNOWN ! EOS PAD\n\nPredicted: Nice to meet you , UNKNOWN ! EOS EOS\tProba: -0.010841282084584236\nPredicted: Nice to meet you , is UNKNOWN ! EOS\tProba: -5.299036026000977\nPredicted: Nice to meet you , is ! EOS EOS\tProba: -5.86928129196167\n\nSource: <S> My friends call me Debera UNKNOWN EOS PAD PAD\nTarget: <S> Nice to meet you , UNKNOWN UNKNOWN ! EOS\n\nPredicted: Nice to meet you , Debera UNKNOWN ! EOS\tProba: -0.0005476122023537755\nPredicted: Nice to meet you , Debera UNKNOWN UNKNOWN !\tProba: -8.808150291442871\nPredicted: Nice to you , Debera UNKNOWN ! EOS EOS\tProba: -9.441033363342285\n\nSource: <S> It 's Lucy , actually . EOS PAD PAD\nTarget: <S> Nice to meet you , UNKNOWN ! EOS PAD\n\nPredicted: Nice to meet you , Lucy ! EOS EOS\tProba: -0.000938661745749414\nPredicted: Nice to meet you , Lucy , EOS EOS\tProba: -7.553440093994141\nPredicted: Nice meet you , Lucy ! EOS EOS EOS\tProba: -10.001969337463379\n\nSource: <S> Call me UNKNOWN EOS PAD PAD PAD PAD PAD\nTarget: <S> Nice to meet you , UNKNOWN ! EOS PAD\n\nPredicted: Nice to meet you , UNKNOWN ! EOS EOS\tProba: -0.02855842560529709\nPredicted: Nice to meet you , Call UNKNOWN ! EOS\tProba: -4.102527141571045\nPredicted: Nice to meet you , me UNKNOWN ! EOS\tProba: -4.88925313949585\n\nSource: <S> You can call me UNKNOWN EOS PAD PAD PAD\nTarget: <S> Nice to meet you , UNKNOWN ! EOS PAD\n\nPredicted: Nice to meet you , UNKNOWN ! EOS EOS\tProba: -0.03898148983716965\nPredicted: Nice to meet you , me UNKNOWN ! EOS\tProba: -3.3961129188537598\nPredicted: Nice to meet you , UNKNOWN UNKNOWN ! EOS\tProba: -5.78872013092041\n\n"
    }
   ],
   "source": [
    "pred, pred_proba = model.predict(val.unbatch().take(50).batch(5))\n",
    "for i, Xy in enumerate(val.unbatch().take(10)):\n",
    "    X, y = Xy\n",
    "    s = model.vocab.inverse_transform(X[0].numpy()[np.newaxis, :], \"source\")[0]\n",
    "    t = model.vocab.inverse_transform(y[0].numpy()[np.newaxis, :], \"target\")[0]\n",
    "    print(f\"Source: {' '.join(s)}\\nTarget: {' '.join(t)}\\n\")\n",
    "    for j in range(3):\n",
    "        p = idx2str(pred[i][j].numpy(), X[0].numpy())\n",
    "        print(f\"Predicted: {' '.join(p)}\\tProba: {pred_proba[i][j]}\")\n",
    "    print(\"\")"
   ]
  }
 ],
 "metadata": {
  "language_info": {
   "codemirror_mode": {
    "name": "ipython",
    "version": 3
   },
   "file_extension": ".py",
   "mimetype": "text/x-python",
   "name": "python",
   "nbconvert_exporter": "python",
   "pygments_lexer": "ipython3",
   "version": "3.6.9-final"
  },
  "orig_nbformat": 2,
  "kernelspec": {
   "name": "python3",
   "display_name": "Python 3"
  }
 },
 "nbformat": 4,
 "nbformat_minor": 2
}
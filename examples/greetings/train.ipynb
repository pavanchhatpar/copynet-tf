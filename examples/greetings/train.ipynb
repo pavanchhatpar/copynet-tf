{
 "cells": [
  {
   "cell_type": "code",
   "execution_count": 1,
   "metadata": {},
   "outputs": [],
   "source": [
    "import os\n",
    "os.chdir(\"/tf/src/examples/greetings\")\n",
    "\n",
    "from greetings import Dataset\n",
    "import tensorflow as tf\n",
    "import numpy as np\n",
    "import logging\n",
    "from greetings import GreetingModel, cfg\n",
    "from copynet_tf.loss import CopyNetLoss\n",
    "from copynet_tf.metrics import BLEU\n",
    "logging.basicConfig(\n",
    "        level=cfg.LOG_LVL,\n",
    "        filename=cfg.LOG_FILENAME,\n",
    "        format='%(message)s')"
   ]
  },
  {
   "cell_type": "code",
   "execution_count": 2,
   "metadata": {},
   "outputs": [],
   "source": [
    "data = Dataset()"
   ]
  },
  {
   "cell_type": "code",
   "execution_count": 3,
   "metadata": {},
   "outputs": [],
   "source": [
    "model = GreetingModel()"
   ]
  },
  {
   "cell_type": "code",
   "execution_count": 4,
   "metadata": {},
   "outputs": [],
   "source": [
    "RNG_SEED = 11\n",
    "to_gpu = tf.data.experimental.copy_to_device(\"/gpu:0\")\n",
    "data = data.train.shuffle(\n",
    "    buffer_size=10000, seed=RNG_SEED, reshuffle_each_iteration=False)\n",
    "train = data.skip(512).batch(512, drop_remainder=True).apply(to_gpu)\n",
    "val = data.take(512).batch(512, drop_remainder=True).apply(to_gpu)\n",
    "with tf.device(\"/gpu:0\"):\n",
    "    train = train.prefetch(3)\n",
    "    val = val.prefetch(3)"
   ]
  },
  {
   "cell_type": "code",
   "execution_count": 5,
   "metadata": {},
   "outputs": [
    {
     "output_type": "stream",
     "name": "stdout",
     "text": "source idx from source vocab\n [[   2   11   29    4   15    7 2723  773    4    3]\n [   2   22   75    8   14    4    3    0    0    0]\n [   2   18   28    6    5  232 4784    3    0    0]]\n\nsource idx from target vocab\n [[ 2  1  1  1  1  1  1  1  1  3]\n [ 2  1 54  8  1  1  3  0  0  0]\n [ 2  1  1  1  1  1  1  3  0  0]]\n\ntarget idx from target vocab\n [[ 2  4  5  6  7  8  1  1  9  3]\n [ 2  4  5  6  7  8 54  9  3  0]\n [ 2  4  5  6  7  8  1  1  9  3]]\n\ntarget idx from source vocab\n [[   2    1    1    1    1    8 2723  773    1    3]\n [   2    1    1    1    1    8   75    1    3    0]\n [   2    1    1    1    1    8  232 4784    1    3]]\n"
    }
   ],
   "source": [
    "X, y = next(val.as_numpy_iterator())\n",
    "print(\"source idx from source vocab\\n\", X[0][:3])\n",
    "print(\"\\nsource idx from target vocab\\n\", X[1][:3])\n",
    "print(\"\\ntarget idx from target vocab\\n\", y[0][:3])\n",
    "print(\"\\ntarget idx from source vocab\\n\", y[1][:3])"
   ]
  },
  {
   "cell_type": "code",
   "execution_count": 6,
   "metadata": {},
   "outputs": [],
   "source": [
    "model.compile(\n",
    "    optimizer=tf.keras.optimizers.Adam(1e-3, clipnorm=cfg.CLIP_NORM),\n",
    "    loss=CopyNetLoss(),\n",
    "    metrics=[\n",
    "        BLEU(ignore_tokens=[0,2,3], ignore_all_tokens_after=3),\n",
    "        BLEU(ignore_tokens=[0,2,3], ignore_all_tokens_after=3, name='bleu-smooth', smooth=True)])"
   ]
  },
  {
   "cell_type": "code",
   "execution_count": 7,
   "metadata": {},
   "outputs": [
    {
     "output_type": "stream",
     "name": "stdout",
     "text": "Epoch 1/5\n8/8 [==============================] - 5s 682ms/step - loss: 1.3142 - bleu: 0.5234 - bleu-smooth: 0.5234 - val_loss: 0.2031 - val_bleu: 0.8261 - val_bleu-smooth: 0.8261\nEpoch 2/5\n8/8 [==============================] - 4s 452ms/step - loss: 0.1426 - bleu: 0.8628 - bleu-smooth: 0.8628 - val_loss: 0.0827 - val_bleu: 0.9273 - val_bleu-smooth: 0.9273\nEpoch 3/5\n8/8 [==============================] - 4s 486ms/step - loss: 0.0470 - bleu: 0.9612 - bleu-smooth: 0.9612 - val_loss: 0.0216 - val_bleu: 0.9880 - val_bleu-smooth: 0.9880\nEpoch 4/5\n8/8 [==============================] - 4s 475ms/step - loss: 0.0122 - bleu: 0.9942 - bleu-smooth: 0.9942 - val_loss: 0.0074 - val_bleu: 0.9955 - val_bleu-smooth: 0.9955\nEpoch 5/5\n8/8 [==============================] - 4s 475ms/step - loss: 0.0053 - bleu: 0.9980 - bleu-smooth: 0.9980 - val_loss: 0.0032 - val_bleu: 0.9978 - val_bleu-smooth: 0.9978\n"
    }
   ],
   "source": [
    "hist = model.fit(train, epochs=5, validation_data=val, shuffle=False)"
   ]
  },
  {
   "cell_type": "code",
   "execution_count": 8,
   "metadata": {},
   "outputs": [],
   "source": [
    "def idx2str(pred_y, X):\n",
    "    ret = []\n",
    "    vocab_len = model.vocab.get_vocab_size(\"target\")\n",
    "    for idx in pred_y:\n",
    "        if idx < vocab_len:\n",
    "            ret.append(model.vocab.get_token_text(idx, \"target\"))\n",
    "        else:\n",
    "            ret.append(model.vocab.get_token_text(X[idx-vocab_len], \"source\"))\n",
    "    return ret"
   ]
  },
  {
   "cell_type": "code",
   "execution_count": 9,
   "metadata": {},
   "outputs": [
    {
     "output_type": "stream",
     "name": "stdout",
     "text": "Source: <S> Call me Alma Poole EOS PAD PAD PAD PAD\nTarget: <S> Nice to meet you , UNKNOWN UNKNOWN ! EOS\n\nPredicted: Nice to meet you , Alma Poole ! EOS\tProba: 0.9810311794281006\nPredicted: Nice to meet you , Alma ! EOS EOS\tProba: 0.01541757769882679\nPredicted: Nice to meet you Alma Poole ! EOS EOS\tProba: 0.0016750504728406668\nPredicted: Nice to meet you , Poole ! EOS EOS\tProba: 0.00045127031626179814\nPredicted: Nice to meet you , Alma Alma ! EOS\tProba: 0.00036814456689171493\nPredicted: Nice to you , Alma Poole ! EOS EOS\tProba: 0.0002404417609795928\nPredicted: Nice to to meet you , Alma Poole !\tProba: 0.00021128749358467758\nPredicted: to meet you , Alma Poole ! EOS EOS\tProba: 9.097612201003358e-05\nPredicted: Nice to meet you Alma ! EOS EOS EOS\tProba: 5.880321987206116e-05\nPredicted: Nice to meet you you , Alma Poole !\tProba: 5.094306470709853e-05\n\nSource: <S> My friends call me Nathanael EOS PAD PAD PAD\nTarget: <S> Nice to meet you , UNKNOWN ! EOS PAD\n\nPredicted: Nice to meet you , Nathanael ! EOS EOS\tProba: 0.9989859461784363\nPredicted: Nice to you , Nathanael ! EOS EOS EOS\tProba: 0.00023937808873597533\nPredicted: Nice to to meet you , Nathanael ! EOS\tProba: 0.00016402929031755775\nPredicted: Nice to meet you , me Nathanael ! EOS\tProba: 0.00015609493129886687\nPredicted: to meet you , Nathanael ! EOS EOS EOS\tProba: 0.00010905957606155425\nPredicted: Nice to meet you , Nathanael Nice to meet\tProba: 6.0964062868151814e-05\nPredicted: Nice to meet you you , Nathanael ! EOS\tProba: 5.105989839648828e-05\nPredicted: Nice to meet , Nathanael ! EOS EOS EOS\tProba: 4.652773350244388e-05\nPredicted: Nice to meet you , Nathanael you , Nathanael\tProba: 1.855915252235718e-05\nPredicted: Nice to meet meet you , Nathanael ! EOS\tProba: 1.5216979591059498e-05\n\nSource: <S> Please call me Devora Jamgochian . EOS PAD PAD\nTarget: <S> Nice to meet you , UNKNOWN UNKNOWN ! EOS\n\nPredicted: Nice to meet you , Devora Jamgochian ! EOS\tProba: 0.9975424408912659\nPredicted: Nice to meet you , Devora . ! EOS\tProba: 0.001411018194630742\nPredicted: Nice to meet you , Devora ! EOS EOS\tProba: 0.00025796351837925613\nPredicted: Nice to you , Devora Jamgochian ! EOS EOS\tProba: 0.00012521547614596784\nPredicted: Nice to meet , Devora Jamgochian ! EOS EOS\tProba: 0.00011866042768815532\nPredicted: Nice to to meet you , Devora Jamgochian !\tProba: 0.00010760801524156705\nPredicted: to meet you , Devora Jamgochian ! EOS EOS\tProba: 9.185068483930081e-05\nPredicted: Nice to meet you , Devora Jamgochian . !\tProba: 6.923461478436366e-05\nPredicted: Nice to meet you , Jamgochian ! EOS EOS\tProba: 5.725875234929845e-05\nPredicted: Nice to meet you , me Jamgochian ! EOS\tProba: 4.9154143198393285e-05\n\nSource: <S> My name is Elda Ackland EOS PAD PAD PAD\nTarget: <S> Nice to meet you , UNKNOWN UNKNOWN ! EOS\n\nPredicted: Nice to meet you , Elda Ackland ! EOS\tProba: 0.9985767006874084\nPredicted: Nice to meet you Elda Ackland ! EOS EOS\tProba: 0.0002915928780566901\nPredicted: Nice to to meet you , Elda Ackland !\tProba: 0.00020925354328937829\nPredicted: Nice to meet , Elda Ackland ! EOS EOS\tProba: 0.00016062612121459097\nPredicted: Nice to you , Elda Ackland ! EOS EOS\tProba: 0.0001594757050042972\nPredicted: Nice to meet you , Elda Ackland Ackland !\tProba: 0.00015910093497950584\nPredicted: Nice to meet you , Ackland Ackland ! EOS\tProba: 0.00012059011351084337\nPredicted: Nice to meet you , Ackland ! EOS EOS\tProba: 6.964665954001248e-05\nPredicted: to meet you , Elda Ackland ! EOS EOS\tProba: 6.738994125043973e-05\nPredicted: Nice to meet you , Elda ! EOS EOS\tProba: 3.779407779802568e-05\n\nSource: <S> I go by Renetta Stanganelli . EOS PAD PAD\nTarget: <S> Nice to meet you , UNKNOWN UNKNOWN ! EOS\n\nPredicted: Nice to meet you , Renetta Stanganelli ! EOS\tProba: 0.9967718124389648\nPredicted: Nice to meet you , by Stanganelli ! EOS\tProba: 0.001146708382293582\nPredicted: Nice to meet you , Renetta . ! EOS\tProba: 0.0006524401251226664\nPredicted: Nice to meet , Renetta Stanganelli ! EOS EOS\tProba: 0.00022934057051315904\nPredicted: Nice to meet you , Renetta Stanganelli Stanganelli !\tProba: 0.00020644695905502886\nPredicted: Nice to meet you , Renetta Stanganelli . !\tProba: 0.0001623564021429047\nPredicted: Nice to meet you by Stanganelli ! EOS EOS\tProba: 0.00015409478510264307\nPredicted: Nice to to meet you , Renetta Stanganelli !\tProba: 0.0001286498736590147\nPredicted: Nice to you , Renetta Stanganelli ! EOS EOS\tProba: 0.00012624978262465447\nPredicted: Nice to meet you by Renetta Stanganelli ! EOS\tProba: 9.928813960868865e-05\n\nSource: <S> Hey , it 's Tony Donn EOS PAD PAD\nTarget: <S> Nice to meet you , UNKNOWN UNKNOWN ! EOS\n\nPredicted: Nice to meet you , Tony Donn ! EOS\tProba: 0.990001916885376\nPredicted: Nice to meet you , Donn ! EOS EOS\tProba: 0.006165655329823494\nPredicted: Nice to meet you Tony Donn ! EOS EOS\tProba: 0.0015133194392547011\nPredicted: Nice to meet you , Tony ! EOS EOS\tProba: 0.0010960584040731192\nPredicted: Nice to meet you , Tony Tony ! EOS\tProba: 0.00043345257290638983\nPredicted: Nice to to meet you , Tony Donn !\tProba: 0.00018071687372867018\nPredicted: Nice to you , Tony Donn ! EOS EOS\tProba: 0.00014797740732319653\nPredicted: Nice to meet , Tony Donn ! EOS EOS\tProba: 8.924634312279522e-05\nPredicted: Nice to meet you , Donn Donn ! EOS\tProba: 7.777162682032213e-05\nPredicted: to meet you , Tony Donn ! EOS EOS\tProba: 7.194010686362162e-05\n\nSource: <S> Hey call me Frederica Mcclay . EOS PAD PAD\nTarget: <S> Nice to meet you , UNKNOWN UNKNOWN ! EOS\n\nPredicted: Nice to meet you , Frederica Mcclay ! EOS\tProba: 0.9909760355949402\nPredicted: Nice to meet you , Frederica ! EOS EOS\tProba: 0.007137509528547525\nPredicted: Nice to meet you , Frederica . ! EOS\tProba: 0.0006210440187714994\nPredicted: Nice to meet you Frederica Mcclay ! EOS EOS\tProba: 0.0004985149134881794\nPredicted: Nice to you , Frederica Mcclay ! EOS EOS\tProba: 0.0001843824575189501\nPredicted: Nice to to meet you , Frederica Mcclay !\tProba: 0.00015552598051726818\nPredicted: to meet you , Frederica Mcclay ! EOS EOS\tProba: 9.679371578386053e-05\nPredicted: Nice to meet , Frederica Mcclay ! EOS EOS\tProba: 6.716031930409372e-05\nPredicted: Nice to meet you , Frederica Frederica ! EOS\tProba: 4.5844233682146296e-05\nPredicted: Nice to meet you you , Frederica Mcclay !\tProba: 3.37059136654716e-05\n\nSource: <S> Please call me Bethanie Upright EOS PAD PAD PAD\nTarget: <S> Nice to meet you , UNKNOWN UNKNOWN ! EOS\n\nPredicted: Nice to meet you , Bethanie Upright ! EOS\tProba: 0.9981258511543274\nPredicted: Nice to meet you , Bethanie ! EOS EOS\tProba: 0.0005933737265877426\nPredicted: Nice to meet you Bethanie Upright ! EOS EOS\tProba: 0.000362789403880015\nPredicted: Nice to to meet you , Bethanie Upright !\tProba: 0.0002261791523778811\nPredicted: Nice to you , Bethanie Upright ! EOS EOS\tProba: 0.0002230147219961509\nPredicted: Nice to meet , Bethanie Upright ! EOS EOS\tProba: 0.00011254103446844965\nPredicted: to meet you , Bethanie Upright ! EOS EOS\tProba: 6.967788795009255e-05\nPredicted: Nice to meet you , Bethanie Bethanie ! EOS\tProba: 3.868188650812954e-05\nPredicted: Nice to meet you , Upright ! EOS EOS\tProba: 3.0114078981569037e-05\nPredicted: Nice to meet you you , Bethanie Upright !\tProba: 2.8274940632400103e-05\n\nSource: <S> My name is Erma Herbolsheimer EOS PAD PAD PAD\nTarget: <S> Nice to meet you , UNKNOWN UNKNOWN ! EOS\n\nPredicted: Nice to meet you , Erma Herbolsheimer ! EOS\tProba: 0.9969858527183533\nPredicted: Nice to meet you Erma Herbolsheimer ! EOS EOS\tProba: 0.002292150631546974\nPredicted: Nice to to meet you , Erma Herbolsheimer !\tProba: 0.0001704150199657306\nPredicted: Nice to you , Erma Herbolsheimer ! EOS EOS\tProba: 0.00014406027912627906\nPredicted: Nice to meet , Erma Herbolsheimer ! EOS EOS\tProba: 0.00012691723532043397\nPredicted: to meet you , Erma Herbolsheimer ! EOS EOS\tProba: 8.705649815965444e-05\nPredicted: Nice to meet meet you , Erma Herbolsheimer !\tProba: 3.8381083868443966e-05\nPredicted: Nice to meet you you , Erma Herbolsheimer !\tProba: 2.2291957066045143e-05\nPredicted: Nice to meet you , Erma ! EOS EOS\tProba: 1.7170910723507404e-05\nPredicted: Nice to meet to , Erma Herbolsheimer ! EOS\tProba: 1.5681120203225873e-05\n\nSource: <S> My name is Teresa . EOS PAD PAD PAD\nTarget: <S> Nice to meet you , UNKNOWN ! EOS PAD\n\nPredicted: Nice to meet you , Teresa ! EOS EOS\tProba: 0.9956332445144653\nPredicted: Nice to meet you , Teresa . ! EOS\tProba: 0.0030787538271397352\nPredicted: Nice to meet you , Teresa Nice to meet\tProba: 0.0002467251324560493\nPredicted: Nice to you , Teresa ! EOS EOS EOS\tProba: 0.0002059090038528666\nPredicted: Nice to to meet you , Teresa ! EOS\tProba: 0.0001515481562819332\nPredicted: to meet you , Teresa ! EOS EOS EOS\tProba: 9.913864050759003e-05\nPredicted: Nice to meet you , Teresa Teresa ! EOS\tProba: 5.6100685469573364e-05\nPredicted: Nice to meet you Teresa ! EOS EOS EOS\tProba: 5.370007784222253e-05\nPredicted: Nice to meet you you , Teresa ! EOS\tProba: 4.730589353130199e-05\nPredicted: Nice to meet you , Teresa Yuonne ! EOS\tProba: 4.58694230474066e-05\n\n"
    }
   ],
   "source": [
    "pred = model.predict(train)\n",
    "pred, pred_proba = pred[\"predictions\"], pred[\"predicted_probas\"]\n",
    "for i, Xy in enumerate(train.unbatch().take(10)):\n",
    "    X, y = Xy\n",
    "    s = model.vocab.inverse_transform(X[0].numpy()[np.newaxis, :], \"source\")[0]\n",
    "    t = model.vocab.inverse_transform(y[0].numpy()[np.newaxis, :], \"target\")[0]\n",
    "    print(f\"Source: {' '.join(s)}\\nTarget: {' '.join(t)}\\n\")\n",
    "    for j in range(10):\n",
    "        p = idx2str(pred[i][j], X[0].numpy())\n",
    "        print(f\"Predicted: {' '.join(p)}\\tProba: {tf.exp(pred_proba[i][j])}\")\n",
    "    print(\"\")"
   ]
  },
  {
   "cell_type": "code",
   "execution_count": 10,
   "metadata": {},
   "outputs": [
    {
     "output_type": "stream",
     "name": "stdout",
     "text": "Source: <S> Hi there . It 's Nyla Wais . EOS\nTarget: <S> Nice to meet you , UNKNOWN UNKNOWN ! EOS\n\nPredicted: Nice to meet you , Nyla Wais ! EOS\tProba: 0.9983392953872681\nPredicted: Nice to meet you Nyla Wais ! EOS EOS\tProba: 0.000593437987845391\nPredicted: Nice to meet you , Nyla . ! EOS\tProba: 0.00028330882196314633\nPredicted: Nice to to meet you , Nyla Wais !\tProba: 0.0001486767578171566\nPredicted: Nice to you , Nyla Wais ! EOS EOS\tProba: 0.00014432829630095512\nPredicted: Nice to meet , Nyla Wais ! EOS EOS\tProba: 0.00013837081496603787\nPredicted: Nice to meet you , Nyla Wais . !\tProba: 8.463772246614099e-05\nPredicted: Nice to meet you , Nyla ! EOS EOS\tProba: 5.564043749473058e-05\nPredicted: to meet you , Nyla Wais ! EOS EOS\tProba: 3.8996691728243604e-05\nPredicted: Nice to meet meet you , Nyla Wais !\tProba: 3.2507530704606324e-05\n\nSource: <S> Its Roseann , actually . EOS PAD PAD PAD\nTarget: <S> Nice to meet you , Roseann ! EOS PAD\n\nPredicted: Nice to meet you , Roseann ! EOS EOS\tProba: 0.9907926321029663\nPredicted: Nice to meet you , Roseann , Roseann !\tProba: 0.004170415457338095\nPredicted: Nice to meet you , Roseann Roseann ! EOS\tProba: 0.0032416116446256638\nPredicted: Nice to meet you , Its Roseann ! EOS\tProba: 0.00043559022014960647\nPredicted: Nice to meet you , Roseann Nice to meet\tProba: 0.00023875021724961698\nPredicted: Nice to you , Roseann ! EOS EOS EOS\tProba: 0.00013832714466843754\nPredicted: Nice to to meet you , Roseann ! EOS\tProba: 0.00013233943900559098\nPredicted: Nice to meet you , Roseann Lurline ! EOS\tProba: 0.00010926174581982195\nPredicted: Nice to meet , Roseann ! EOS EOS EOS\tProba: 8.423325198236853e-05\nPredicted: Nice to meet you , Roseann Fairy ! EOS\tProba: 7.123453542590141e-05\n\nSource: <S> My friends call me Darrin Palsgrove EOS PAD PAD\nTarget: <S> Nice to meet you , UNKNOWN UNKNOWN ! EOS\n\nPredicted: Nice to meet you , Darrin Palsgrove ! EOS\tProba: 0.9855235815048218\nPredicted: Nice to meet you , Darrin ! EOS EOS\tProba: 0.013276639394462109\nPredicted: Nice to to meet you , Darrin Palsgrove !\tProba: 0.0002064383152173832\nPredicted: Nice to you , Darrin Palsgrove ! EOS EOS\tProba: 0.00017305805522482842\nPredicted: Nice to meet you , Darrin Darrin ! EOS\tProba: 0.00014672239194624126\nPredicted: Nice to meet you , me Palsgrove ! EOS\tProba: 0.00012393275392241776\nPredicted: to meet you , Darrin Palsgrove ! EOS EOS\tProba: 9.111226245295256e-05\nPredicted: Nice to meet , Darrin Palsgrove ! EOS EOS\tProba: 7.879794429754838e-05\nPredicted: Nice to meet you , Palsgrove ! EOS EOS\tProba: 7.607357838423923e-05\nPredicted: Nice to meet you you , Darrin Palsgrove !\tProba: 3.2437081245006993e-05\n\nSource: <S> Mona Mackaman is my name . EOS PAD PAD\nTarget: <S> Nice to meet you , UNKNOWN UNKNOWN ! EOS\n\nPredicted: Nice to meet you , Mona Mackaman ! EOS\tProba: 0.9914335012435913\nPredicted: Nice to meet you Mona Mackaman ! EOS EOS\tProba: 0.0024425822775810957\nPredicted: Nice to meet you , Mona Mackaman Mackaman !\tProba: 0.002219301415607333\nPredicted: Nice to meet you , Mona Mona Mackaman !\tProba: 0.0016336471308022738\nPredicted: Nice to meet you , Mona Mona ! EOS\tProba: 0.0006671235896646976\nPredicted: Nice to meet you , Mona is ! EOS\tProba: 0.0003615830501075834\nPredicted: Nice to meet you , Mona ! EOS EOS\tProba: 0.0002844640694092959\nPredicted: Nice to meet you Mona Mona Mackaman ! EOS\tProba: 0.00019677694945130497\nPredicted: to meet you , Mona Mackaman ! EOS EOS\tProba: 0.00011166022886754945\nPredicted: Nice to meet , Mona Mackaman ! EOS EOS\tProba: 0.00011003985855495557\n\nSource: <S> Its Jeanett Salamacha , actually . EOS PAD PAD\nTarget: <S> Nice to meet you , UNKNOWN UNKNOWN ! EOS\n\nPredicted: Nice to meet you , Jeanett Salamacha ! EOS\tProba: 0.8495606184005737\nPredicted: Nice to meet you , Jeanett ! EOS EOS\tProba: 0.14014461636543274\nPredicted: Nice to meet you , Jeanett , Salamacha !\tProba: 0.0022257044911384583\nPredicted: Nice to meet you , Jeanett Jeanett ! EOS\tProba: 0.0020038457587361336\nPredicted: Nice to meet you , Its Salamacha ! EOS\tProba: 0.001246910891495645\nPredicted: Nice to meet you , Salamacha Salamacha ! EOS\tProba: 0.001161886379122734\nPredicted: Nice to meet you , Salamacha ! EOS EOS\tProba: 0.001069089863449335\nPredicted: Nice to meet you , Jeanett , Jeanett !\tProba: 0.0008749638800509274\nPredicted: Nice to meet you , Jeanett Salamacha Salamacha !\tProba: 0.00020074531494174153\nPredicted: Nice to meet you , Its Jeanett ! EOS\tProba: 0.0001711603399598971\n\nSource: <S> Its Arlyne Sanzone EOS PAD PAD PAD PAD PAD\nTarget: <S> Nice to meet you , UNKNOWN UNKNOWN ! EOS\n\nPredicted: Nice to meet you , Arlyne Sanzone ! EOS\tProba: 0.9968456625938416\nPredicted: Nice to meet you , Arlyne ! EOS EOS\tProba: 0.0015886761248111725\nPredicted: Nice to meet you , Its Sanzone ! EOS\tProba: 0.0006780781550332904\nPredicted: Nice to meet , Arlyne Sanzone ! EOS EOS\tProba: 0.0002346373221371323\nPredicted: Nice to you , Arlyne Sanzone ! EOS EOS\tProba: 0.00021781909163109958\nPredicted: Nice to to meet you , Arlyne Sanzone !\tProba: 0.00012493599206209183\nPredicted: to meet you , Arlyne Sanzone ! EOS EOS\tProba: 0.00011341072240611538\nPredicted: Nice to meet you , Arlyne Sanzone Sanzone !\tProba: 3.969073441112414e-05\nPredicted: Nice to meet meet you , Arlyne Sanzone !\tProba: 2.544088420108892e-05\nPredicted: Nice meet you , Arlyne Sanzone ! EOS EOS\tProba: 2.0119696273468435e-05\n\nSource: <S> It 's Larue EOS PAD PAD PAD PAD PAD\nTarget: <S> Nice to meet you , UNKNOWN ! EOS PAD\n\nPredicted: Nice to meet you , Larue ! EOS EOS\tProba: 0.9965126514434814\nPredicted: Nice to meet you , 's Larue ! EOS\tProba: 0.0017917200457304716\nPredicted: Nice to meet you , 's ! EOS EOS\tProba: 0.00041225398308597505\nPredicted: Nice to meet you , Larue Larue ! EOS\tProba: 0.00028170685982331634\nPredicted: Nice to meet you , Larue Nice to meet\tProba: 0.00016700912965461612\nPredicted: Nice to to meet you , Larue ! EOS\tProba: 0.00016316602705046535\nPredicted: Nice to you , Larue ! EOS EOS EOS\tProba: 0.0001475125754950568\nPredicted: to meet you , Larue ! EOS EOS EOS\tProba: 6.518825102830306e-05\nPredicted: Nice to meet you you , Larue ! EOS\tProba: 5.90229537920095e-05\nPredicted: Nice to meet you , Larue Fairy ! EOS\tProba: 5.4993623052723706e-05\n\nSource: <S> It 's Hue , actually . EOS PAD PAD\nTarget: <S> Nice to meet you , UNKNOWN ! EOS PAD\n\nPredicted: Nice to meet you , Hue ! EOS EOS\tProba: 0.8726321458816528\nPredicted: Nice to meet you , Hue Hue ! EOS\tProba: 0.11164402961730957\nPredicted: Nice to meet you , Hue , Hue !\tProba: 0.0047183409333229065\nPredicted: Nice to meet you , 's Hue ! EOS\tProba: 0.0031443743500858545\nPredicted: Nice to meet you , Hue Nice to meet\tProba: 0.0013938720803707838\nPredicted: Nice to meet you , Hue Lurline ! EOS\tProba: 0.0006834710366092622\nPredicted: Nice to meet you , Hue Celine ! EOS\tProba: 0.00046170386485755444\nPredicted: Nice to meet you , Hue Yuonne ! EOS\tProba: 0.0004406216321513057\nPredicted: Nice to meet you , Hue @COPY@ ! EOS\tProba: 0.0004406216321513057\nPredicted: Nice to meet you , Hue Fairy ! EOS\tProba: 0.0003589719708543271\n\nSource: <S> Hey call me Jeanene Akhand . EOS PAD PAD\nTarget: <S> Nice to meet you , UNKNOWN UNKNOWN ! EOS\n\nPredicted: Nice to meet you , Jeanene Akhand ! EOS\tProba: 0.9954133033752441\nPredicted: Nice to meet you , Jeanene Akhand Akhand !\tProba: 0.0023310452233999968\nPredicted: Nice to meet you , Jeanene Akhand . !\tProba: 0.0008037289953790605\nPredicted: Nice to meet you , Jeanene . ! EOS\tProba: 0.00046635131002403796\nPredicted: Nice to meet , Jeanene Akhand ! EOS EOS\tProba: 0.00023086569854058325\nPredicted: Nice to meet you , me Akhand ! EOS\tProba: 0.00019508109835442156\nPredicted: Nice to to meet you , Jeanene Akhand !\tProba: 0.00014678845764137805\nPredicted: Nice to you , Jeanene Akhand ! EOS EOS\tProba: 0.0001437151659047231\nPredicted: to meet you , Jeanene Akhand ! EOS EOS\tProba: 5.528884139494039e-05\nPredicted: Nice to meet meet you , Jeanene Akhand !\tProba: 4.206414087093435e-05\n\nSource: <S> My name is Shad EOS PAD PAD PAD PAD\nTarget: <S> Nice to meet you , UNKNOWN ! EOS PAD\n\nPredicted: Nice to meet you , Shad ! EOS EOS\tProba: 0.9957030415534973\nPredicted: Nice to meet you , Shad Shad ! EOS\tProba: 0.0028200766537338495\nPredicted: Nice to meet you , is Shad ! EOS\tProba: 0.00040858652209863067\nPredicted: Nice to you , Shad ! EOS EOS EOS\tProba: 0.00023129476176109165\nPredicted: Nice to to meet you , Shad ! EOS\tProba: 0.00019372363749425858\nPredicted: Nice to meet you , Shad Nice to meet\tProba: 0.000131004853756167\nPredicted: to meet you , Shad ! EOS EOS EOS\tProba: 8.556658576708287e-05\nPredicted: Nice to meet you you , Shad ! EOS\tProba: 6.730766472173855e-05\nPredicted: Nice to meet you , Shad you , Shad\tProba: 6.142663187347353e-05\nPredicted: Nice to meet you , Shad Fairy ! EOS\tProba: 3.0254612283897586e-05\n\n"
    }
   ],
   "source": [
    "pred = model.predict(val.unbatch().take(50).batch(5, drop_remainder=True))\n",
    "pred, pred_proba = pred[\"predictions\"], pred[\"predicted_probas\"]\n",
    "for i, Xy in enumerate(val.unbatch().take(10)):\n",
    "    X, y = Xy\n",
    "    s = model.vocab.inverse_transform(X[0].numpy()[np.newaxis, :], \"source\")[0]\n",
    "    t = model.vocab.inverse_transform(y[0].numpy()[np.newaxis, :], \"target\")[0]\n",
    "    print(f\"Source: {' '.join(s)}\\nTarget: {' '.join(t)}\\n\")\n",
    "    for j in range(10):\n",
    "        p = idx2str(pred[i][j], X[0].numpy())\n",
    "        print(f\"Predicted: {' '.join(p)}\\tProba: {tf.exp(pred_proba[i][j])}\")\n",
    "    print(\"\")"
   ]
  }
 ],
 "metadata": {
  "language_info": {
   "codemirror_mode": {
    "name": "ipython",
    "version": 3
   },
   "file_extension": ".py",
   "mimetype": "text/x-python",
   "name": "python",
   "nbconvert_exporter": "python",
   "pygments_lexer": "ipython3",
   "version": "3.6.9-final"
  },
  "orig_nbformat": 2,
  "kernelspec": {
   "name": "python3",
   "display_name": "Python 3"
  }
 },
 "nbformat": 4,
 "nbformat_minor": 2
}
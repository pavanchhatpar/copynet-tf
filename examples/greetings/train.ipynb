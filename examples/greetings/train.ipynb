{
 "cells": [
  {
   "cell_type": "code",
   "execution_count": 1,
   "metadata": {},
   "outputs": [],
   "source": [
    "import os\n",
    "os.chdir(\"/tf/src/examples/greetings\")\n",
    "\n",
    "from greetings import Dataset\n",
    "import tensorflow as tf\n",
    "import numpy as np\n",
    "import logging\n",
    "from greetings import GreetingModel\n",
    "from greetings import cfg\n",
    "logging.basicConfig(\n",
    "        level=cfg.LOG_LVL,\n",
    "        filename=cfg.LOG_FILENAME,\n",
    "        format='%(message)s')"
   ]
  },
  {
   "cell_type": "code",
   "execution_count": 2,
   "metadata": {},
   "outputs": [],
   "source": [
    "data = Dataset()"
   ]
  },
  {
   "cell_type": "code",
   "execution_count": 3,
   "metadata": {},
   "outputs": [],
   "source": [
    "model = GreetingModel()"
   ]
  },
  {
   "cell_type": "code",
   "execution_count": 4,
   "metadata": {},
   "outputs": [],
   "source": [
    "RNG_SEED = 11\n",
    "to_gpu = tf.data.experimental.copy_to_device(\"/gpu:0\")\n",
    "train = data.train.shuffle(\n",
    "    buffer_size=10000, seed=RNG_SEED, reshuffle_each_iteration=False)\\\n",
    "    .batch(128).apply(to_gpu)\n",
    "val = data.test.batch(128).apply(to_gpu)\n",
    "with tf.device(\"/gpu:0\"):\n",
    "    train = train.prefetch(3)\n",
    "    val = val.prefetch(3)"
   ]
  },
  {
   "cell_type": "code",
   "execution_count": 5,
   "metadata": {},
   "outputs": [
    {
     "output_type": "stream",
     "name": "stdout",
     "text": "source idx from source vocab\n [[   2   24    6    5    1    1    3    0    0    0]\n [   2   22 2239    3    0    0    0    0    0    0]\n [   2   26   27    6    5 2042    4    3    0    0]]\n\nsource idx from target vocab\n [[2 1 1 1 1 1 3 0 0 0]\n [2 1 1 3 0 0 0 0 0 0]\n [2 1 1 1 1 1 1 3 0 0]]\n\ntarget idx from target vocab\n [[2 4 5 6 7 8 1 1 9 3]\n [2 4 5 6 7 8 1 9 3 0]\n [2 4 5 6 7 8 1 9 3 0]]\n\ntarget idx from source vocab\n [[   2    1    1    1    1    8    1    1    1    3]\n [   2    1    1    1    1    8 2239    1    3    0]\n [   2    1    1    1    1    8 2042    1    3    0]]\n"
    }
   ],
   "source": [
    "X, y = next(val.as_numpy_iterator())\n",
    "print(\"source idx from source vocab\\n\", X[0][:3])\n",
    "print(\"\\nsource idx from target vocab\\n\", X[1][:3])\n",
    "print(\"\\ntarget idx from target vocab\\n\", y[0][:3])\n",
    "print(\"\\ntarget idx from source vocab\\n\", y[1][:3])"
   ]
  },
  {
   "cell_type": "code",
   "execution_count": 6,
   "metadata": {},
   "outputs": [
    {
     "output_type": "stream",
     "name": "stderr",
     "text": "Epoch 1/5: 40it [00:24,  1.61it/s, train-loss=2.4523, train-bleu=0.908, train-bleu-smooth=0.908, val-loss=10.3067, val-bleu=0.963, val-bleu-smooth=0.963]\nEpoch 2/5: 40it [00:07,  5.10it/s, train-loss=0.0225, train-bleu=0.999, train-bleu-smooth=0.999, val-loss=10.9067, val-bleu=0.992, val-bleu-smooth=0.992]\nEpoch 3/5: 40it [00:07,  5.13it/s, train-loss=0.0097, train-bleu=1, train-bleu-smooth=1, val-loss=10.9314, val-bleu=0.992, val-bleu-smooth=0.992]\nEpoch 4/5: 40it [00:07,  5.10it/s, train-loss=0.0034, train-bleu=1, train-bleu-smooth=1, val-loss=12.3868, val-bleu=0.999, val-bleu-smooth=0.999]\nEpoch 5/5: 40it [00:07,  5.20it/s, train-loss=0.0013, train-bleu=1, train-bleu-smooth=1, val-loss=13.0729, val-bleu=0.999, val-bleu-smooth=0.999]\n"
    }
   ],
   "source": [
    "model.fit(train, cfg.EPOCHS, cfg.MODEL_SAVE, val)"
   ]
  },
  {
   "cell_type": "code",
   "execution_count": 7,
   "metadata": {},
   "outputs": [],
   "source": [
    "def idx2str(pred_y, X):\n",
    "    ret = []\n",
    "    vocab_len = model.vocab.get_vocab_size(\"target\")\n",
    "    for idx in pred_y:\n",
    "        if idx < vocab_len:\n",
    "            ret.append(model.vocab.get_token_text(idx, \"target\"))\n",
    "        else:\n",
    "            ret.append(model.vocab.get_token_text(X[idx-vocab_len], \"source\"))\n",
    "    return ret"
   ]
  },
  {
   "cell_type": "code",
   "execution_count": 8,
   "metadata": {},
   "outputs": [
    {
     "output_type": "stream",
     "name": "stdout",
     "text": "Source: <S> Hi there . It 's Nyla Wais . EOS\nTarget: <S> Nice to meet you , UNKNOWN UNKNOWN ! EOS\n\nPredicted: Nice to meet you , Nyla Wais ! EOS\tProba: -0.00021838594693690538\nPredicted: Nice to you , Nyla Wais ! EOS EOS\tProba: -9.860431671142578\nPredicted: Nice to meet , Nyla Wais ! EOS EOS\tProba: -10.3339204788208\n\nSource: <S> Its Roseann , actually . EOS PAD PAD PAD\nTarget: <S> Nice to meet you , Roseann ! EOS PAD\n\nPredicted: Nice to meet you , Roseann ! EOS EOS\tProba: -0.0016534019960090518\nPredicted: Nice to meet you , Roseann Roseann ! EOS\tProba: -7.990521430969238\nPredicted: Nice to meet you , Roseann Yuonne EOS EOS\tProba: -8.873027801513672\n\nSource: <S> My friends call me Darrin Palsgrove EOS PAD PAD\nTarget: <S> Nice to meet you , UNKNOWN UNKNOWN ! EOS\n\nPredicted: Nice to meet you , Darrin Palsgrove ! EOS\tProba: -0.00036083016311749816\nPredicted: Nice to meet you , Darrin Palsgrove Palsgrove !\tProba: -9.105873107910156\nPredicted: Nice to you , Darrin Palsgrove ! EOS EOS\tProba: -9.966943740844727\n\nSource: <S> Mona Mackaman is my name . EOS PAD PAD\nTarget: <S> Nice to meet you , UNKNOWN UNKNOWN ! EOS\n\nPredicted: Nice to meet you , Mona Mackaman ! EOS\tProba: -0.0009288225555792451\nPredicted: Nice to meet you , Mona Mackaman Mackaman !\tProba: -7.608662128448486\nPredicted: Nice to meet you Mona Mackaman ! EOS EOS\tProba: -8.668646812438965\n\nSource: <S> Its Jeanett Salamacha , actually . EOS PAD PAD\nTarget: <S> Nice to meet you , UNKNOWN UNKNOWN ! EOS\n\nPredicted: Nice to meet you , Jeanett Salamacha ! EOS\tProba: -0.002225281437858939\nPredicted: Nice to meet you , Jeanett ! EOS EOS\tProba: -6.317804336547852\nPredicted: Nice to meet you , Jeanett Salamacha EOS EOS\tProba: -8.7317476272583\n\nSource: <S> Its Arlyne Sanzone EOS PAD PAD PAD PAD PAD\nTarget: <S> Nice to meet you , UNKNOWN UNKNOWN ! EOS\n\nPredicted: Nice to meet you , Arlyne Sanzone ! EOS\tProba: -0.00032626307802274823\nPredicted: Nice to meet , Arlyne Sanzone ! EOS EOS\tProba: -9.24188232421875\nPredicted: Nice meet you , Arlyne Sanzone ! EOS EOS\tProba: -9.609087944030762\n\nSource: <S> It 's Larue EOS PAD PAD PAD PAD PAD\nTarget: <S> Nice to meet you , UNKNOWN ! EOS PAD\n\nPredicted: Nice to meet you , Larue ! EOS EOS\tProba: -0.000991658540442586\nPredicted: Nice to meet you , Larue ! EOS !\tProba: -7.209307670593262\nPredicted: Nice to meet meet you , Larue ! EOS\tProba: -10.159276008605957\n\nSource: <S> It 's Hue , actually . EOS PAD PAD\nTarget: <S> Nice to meet you , UNKNOWN ! EOS PAD\n\nPredicted: Nice to meet you , Hue ! EOS EOS\tProba: -0.0004476059402804822\nPredicted: Nice to meet you , Hue Hue ! EOS\tProba: -8.649165153503418\nPredicted: Nice to meet you , 's ! EOS EOS\tProba: -10.00317096710205\n\nSource: <S> Hey call me Jeanene Akhand . EOS PAD PAD\nTarget: <S> Nice to meet you , UNKNOWN UNKNOWN ! EOS\n\nPredicted: Nice to meet you , Jeanene Akhand ! EOS\tProba: -0.0002247021911898628\nPredicted: Nice to you , Jeanene Akhand ! EOS EOS\tProba: -9.622968673706055\nPredicted: Nice to meet , Jeanene Akhand ! EOS EOS\tProba: -10.006911277770996\n\nSource: <S> My name is Shad EOS PAD PAD PAD PAD\nTarget: <S> Nice to meet you , UNKNOWN ! EOS PAD\n\nPredicted: Nice to meet you , Shad ! EOS EOS\tProba: -0.002708016661927104\nPredicted: Nice to meet you , Shad Shad ! EOS\tProba: -6.053746223449707\nPredicted: Nice to meet you , Shad ! EOS !\tProba: -9.52859878540039\n\n"
    }
   ],
   "source": [
    "pred, pred_proba = model.predict(train)\n",
    "for i, Xy in enumerate(train.unbatch().take(10)):\n",
    "    X, y = Xy\n",
    "    s = model.vocab.inverse_transform(X[0].numpy()[np.newaxis, :], \"source\")[0]\n",
    "    t = model.vocab.inverse_transform(y[0].numpy()[np.newaxis, :], \"target\")[0]\n",
    "    print(f\"Source: {' '.join(s)}\\nTarget: {' '.join(t)}\\n\")\n",
    "    for j in range(3):\n",
    "        p = idx2str(pred[i][j].numpy(), X[0].numpy())\n",
    "        print(f\"Predicted: {' '.join(p)}\\tProba: {pred_proba[i][j]}\")\n",
    "    print(\"\")"
   ]
  },
  {
   "cell_type": "code",
   "execution_count": 9,
   "metadata": {},
   "outputs": [
    {
     "output_type": "stream",
     "name": "stdout",
     "text": "Source: <S> Please call me UNKNOWN UNKNOWN EOS PAD PAD PAD\nTarget: <S> Nice to meet you , UNKNOWN UNKNOWN ! EOS\n\nPredicted: Nice to meet you , UNKNOWN UNKNOWN ! EOS\tProba: -0.012995580211281776\nPredicted: Nice to meet you , UNKNOWN ! EOS EOS\tProba: -4.3874640464782715\nPredicted: Nice to meet you , me UNKNOWN ! EOS\tProba: -8.57729434967041\n\nSource: <S> Its Albert EOS PAD PAD PAD PAD PAD PAD\nTarget: <S> Nice to meet you , UNKNOWN ! EOS PAD\n\nPredicted: Nice to meet you , Albert ! EOS EOS\tProba: -0.0006339882384054363\nPredicted: Nice to meet you , Albert ! EOS !\tProba: -7.825721263885498\nPredicted: Nice meet you , Albert ! EOS EOS EOS\tProba: -9.978647232055664\n\nSource: <S> You can call me Tennille . EOS PAD PAD\nTarget: <S> Nice to meet you , UNKNOWN ! EOS PAD\n\nPredicted: Nice to meet you , Tennille ! EOS EOS\tProba: -0.0008330679265782237\nPredicted: Nice to meet you , Tennille Tennille ! EOS\tProba: -7.635164260864258\nPredicted: Nice to meet you , Tennille . ! EOS\tProba: -9.008454322814941\n\nSource: <S> Hi I 'm UNKNOWN UNKNOWN EOS PAD PAD PAD\nTarget: <S> Nice to meet you , UNKNOWN UNKNOWN ! EOS\n\nPredicted: Nice to meet you , UNKNOWN UNKNOWN ! EOS\tProba: -0.013465934433043003\nPredicted: Nice to meet you , UNKNOWN ! EOS EOS\tProba: -4.851104259490967\nPredicted: Nice to meet you , 'm UNKNOWN ! EOS\tProba: -5.248629093170166\n\nSource: <S> Hi there . It 's UNKNOWN . EOS PAD\nTarget: <S> Nice to meet you , UNKNOWN ! EOS PAD\n\nPredicted: Nice to meet you , UNKNOWN ! EOS EOS\tProba: -0.02367687225341797\nPredicted: Nice to meet you , 's UNKNOWN ! EOS\tProba: -4.113582611083984\nPredicted: Nice to meet you , 's ! EOS EOS\tProba: -5.3186140060424805\n\nSource: <S> My name is UNKNOWN . EOS PAD PAD PAD\nTarget: <S> Nice to meet you , UNKNOWN ! EOS PAD\n\nPredicted: Nice to meet you , UNKNOWN ! EOS EOS\tProba: -0.006243214942514896\nPredicted: Nice to meet you , is ! EOS EOS\tProba: -5.679133892059326\nPredicted: Nice to meet you , is UNKNOWN ! EOS\tProba: -6.518439292907715\n\nSource: <S> My friends call me Debera UNKNOWN EOS PAD PAD\nTarget: <S> Nice to meet you , UNKNOWN UNKNOWN ! EOS\n\nPredicted: Nice to meet you , Debera UNKNOWN ! EOS\tProba: -0.00031315357773564756\nPredicted: Nice to you , Debera UNKNOWN ! EOS EOS\tProba: -9.802734375\nPredicted: Nice to meet , Debera UNKNOWN ! EOS EOS\tProba: -9.819128036499023\n\nSource: <S> It 's Lucy , actually . EOS PAD PAD\nTarget: <S> Nice to meet you , UNKNOWN ! EOS PAD\n\nPredicted: Nice to meet you , Lucy ! EOS EOS\tProba: -0.0004161266260780394\nPredicted: Nice to meet you , Lucy , EOS EOS\tProba: -8.686726570129395\nPredicted: Nice meet you , Lucy ! EOS EOS EOS\tProba: -10.146212577819824\n\nSource: <S> Call me UNKNOWN EOS PAD PAD PAD PAD PAD\nTarget: <S> Nice to meet you , UNKNOWN ! EOS PAD\n\nPredicted: Nice to meet you , UNKNOWN ! EOS EOS\tProba: -0.03323756903409958\nPredicted: Nice to meet you , Call UNKNOWN ! EOS\tProba: -3.8477375507354736\nPredicted: Nice to meet you , me UNKNOWN ! EOS\tProba: -5.147611618041992\n\nSource: <S> You can call me UNKNOWN EOS PAD PAD PAD\nTarget: <S> Nice to meet you , UNKNOWN ! EOS PAD\n\nPredicted: Nice to meet you , UNKNOWN ! EOS EOS\tProba: -0.006547802593559027\nPredicted: Nice to meet you , me UNKNOWN ! EOS\tProba: -5.365490436553955\nPredicted: Nice to meet you , UNKNOWN ! EOS EOS\tProba: -7.081827163696289\n\n"
    }
   ],
   "source": [
    "pred, pred_proba = model.predict(val.unbatch().take(50).batch(5))\n",
    "for i, Xy in enumerate(val.unbatch().take(10)):\n",
    "    X, y = Xy\n",
    "    s = model.vocab.inverse_transform(X[0].numpy()[np.newaxis, :], \"source\")[0]\n",
    "    t = model.vocab.inverse_transform(y[0].numpy()[np.newaxis, :], \"target\")[0]\n",
    "    print(f\"Source: {' '.join(s)}\\nTarget: {' '.join(t)}\\n\")\n",
    "    for j in range(3):\n",
    "        p = idx2str(pred[i][j].numpy(), X[0].numpy())\n",
    "        print(f\"Predicted: {' '.join(p)}\\tProba: {pred_proba[i][j]}\")\n",
    "    print(\"\")"
   ]
  },
  {
   "cell_type": "code",
   "execution_count": null,
   "metadata": {},
   "outputs": [],
   "source": []
  }
 ],
 "metadata": {
  "language_info": {
   "codemirror_mode": {
    "name": "ipython",
    "version": 3
   },
   "file_extension": ".py",
   "mimetype": "text/x-python",
   "name": "python",
   "nbconvert_exporter": "python",
   "pygments_lexer": "ipython3",
   "version": "3.6.9-final"
  },
  "orig_nbformat": 2,
  "kernelspec": {
   "name": "python3",
   "display_name": "Python 3"
  }
 },
 "nbformat": 4,
 "nbformat_minor": 2
}